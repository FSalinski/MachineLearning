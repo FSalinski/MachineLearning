{
 "cells": [
  {
   "cell_type": "markdown",
   "metadata": {},
   "source": [
    "### Wstęp do Uczenia Maszynowego \n",
    "##### Laboratorium 8"
   ]
  },
  {
   "cell_type": "code",
   "execution_count": 1,
   "metadata": {},
   "outputs": [],
   "source": [
    "import pandas as pd\n",
    "import numpy as np\n",
    "import matplotlib.pyplot as plt\n",
    "import seaborn as sns\n",
    "from sklearn.model_selection import train_test_split\n",
    "\n",
    "sns.set(style=\"darkgrid\")"
   ]
  },
  {
   "cell_type": "markdown",
   "metadata": {},
   "source": [
    "### 1. Naive Bayes"
   ]
  },
  {
   "cell_type": "code",
   "execution_count": 34,
   "metadata": {},
   "outputs": [],
   "source": [
    "X = pd.read_csv(\"X.csv\")\n",
    "y = pd.read_csv(\"y.csv\")"
   ]
  },
  {
   "cell_type": "markdown",
   "metadata": {},
   "source": [
    "### Zadanie 1\n",
    "-----\n",
    "Przygotuj dane w następujący sposób:\n",
    "\n",
    "a) Ze zbioru `X` wybierz tylko zmienne `\"education\", \"workclass\", \"sex\", \"hours-per-week\"`.\n",
    "\n",
    "b) Dokonaj transformacji dla zmiennej `\"education\"`\n",
    "\n",
    "    1, education in ['Masters', 'some-college', 'Bachelors', 'Doctorate']\n",
    "    0, w przeciwnym przypadku\n",
    "\n",
    "c) Dokonaj transformacji dla zmiennej `\"workclass\"`\n",
    "\n",
    "    1, workclass == 'Private'\n",
    "    0, w przeciwnym przypadku\n",
    "\n",
    "d) Dokonaj transformacji dla zmiennej `\"sex\"`\n",
    "\n",
    "    1, sex == 'Male\n",
    "    0, w przeciwnym przypadku\n",
    "\n",
    "e) Dokonaj transformacji dla zmiennej `\"hours-per-week\"`\n",
    "\n",
    "    1, hours-per-week <= 40 \n",
    "    0, w przeciwnym przypadku"
   ]
  },
  {
   "cell_type": "code",
   "execution_count": 35,
   "metadata": {},
   "outputs": [],
   "source": [
    "X = X[[\"education\", \"workclass\", \"sex\", \"hours-per-week\"]]"
   ]
  },
  {
   "cell_type": "code",
   "execution_count": 36,
   "metadata": {},
   "outputs": [],
   "source": [
    "X[[\"education\"]] = (X[[\"education\"]] == \"Bachelors\") | (X[[\"education\"]] == \"Masters\") | (X[[\"education\"]] == \"Doctorate\") | (X[[\"education\"]] == \"some-college\")"
   ]
  },
  {
   "cell_type": "code",
   "execution_count": 37,
   "metadata": {},
   "outputs": [],
   "source": [
    "X[[\"education\"]] = X[[\"education\"]].astype(int)"
   ]
  },
  {
   "cell_type": "code",
   "execution_count": 38,
   "metadata": {},
   "outputs": [],
   "source": [
    "X[[\"workclass\"]] = (X[[\"workclass\"]] == \"Private\")"
   ]
  },
  {
   "cell_type": "code",
   "execution_count": 39,
   "metadata": {},
   "outputs": [],
   "source": [
    "X[[\"workclass\"]] = X[[\"workclass\"]].astype(int)"
   ]
  },
  {
   "cell_type": "code",
   "execution_count": 40,
   "metadata": {},
   "outputs": [],
   "source": [
    "X[[\"sex\"]] = (X[[\"sex\"]] == \"Male\")"
   ]
  },
  {
   "cell_type": "code",
   "execution_count": 41,
   "metadata": {},
   "outputs": [],
   "source": [
    "X[[\"sex\"]] = X[[\"sex\"]].astype(int)"
   ]
  },
  {
   "cell_type": "code",
   "execution_count": 42,
   "metadata": {},
   "outputs": [],
   "source": [
    "X[[\"hours-per-week\"]] = X[[\"hours-per-week\"]] <= 40"
   ]
  },
  {
   "cell_type": "code",
   "execution_count": 43,
   "metadata": {},
   "outputs": [],
   "source": [
    "X[[\"hours-per-week\"]] = X[[\"hours-per-week\"]].astype(int) "
   ]
  },
  {
   "cell_type": "code",
   "execution_count": 44,
   "metadata": {},
   "outputs": [
    {
     "data": {
      "text/html": [
       "<div>\n",
       "<style scoped>\n",
       "    .dataframe tbody tr th:only-of-type {\n",
       "        vertical-align: middle;\n",
       "    }\n",
       "\n",
       "    .dataframe tbody tr th {\n",
       "        vertical-align: top;\n",
       "    }\n",
       "\n",
       "    .dataframe thead th {\n",
       "        text-align: right;\n",
       "    }\n",
       "</style>\n",
       "<table border=\"1\" class=\"dataframe\">\n",
       "  <thead>\n",
       "    <tr style=\"text-align: right;\">\n",
       "      <th></th>\n",
       "      <th>education</th>\n",
       "      <th>workclass</th>\n",
       "      <th>sex</th>\n",
       "      <th>hours-per-week</th>\n",
       "    </tr>\n",
       "  </thead>\n",
       "  <tbody>\n",
       "    <tr>\n",
       "      <th>0</th>\n",
       "      <td>1</td>\n",
       "      <td>0</td>\n",
       "      <td>1</td>\n",
       "      <td>1</td>\n",
       "    </tr>\n",
       "    <tr>\n",
       "      <th>1</th>\n",
       "      <td>1</td>\n",
       "      <td>0</td>\n",
       "      <td>1</td>\n",
       "      <td>1</td>\n",
       "    </tr>\n",
       "    <tr>\n",
       "      <th>2</th>\n",
       "      <td>0</td>\n",
       "      <td>1</td>\n",
       "      <td>1</td>\n",
       "      <td>1</td>\n",
       "    </tr>\n",
       "    <tr>\n",
       "      <th>3</th>\n",
       "      <td>0</td>\n",
       "      <td>1</td>\n",
       "      <td>1</td>\n",
       "      <td>1</td>\n",
       "    </tr>\n",
       "    <tr>\n",
       "      <th>4</th>\n",
       "      <td>1</td>\n",
       "      <td>1</td>\n",
       "      <td>0</td>\n",
       "      <td>1</td>\n",
       "    </tr>\n",
       "    <tr>\n",
       "      <th>...</th>\n",
       "      <td>...</td>\n",
       "      <td>...</td>\n",
       "      <td>...</td>\n",
       "      <td>...</td>\n",
       "    </tr>\n",
       "    <tr>\n",
       "      <th>48837</th>\n",
       "      <td>1</td>\n",
       "      <td>1</td>\n",
       "      <td>0</td>\n",
       "      <td>1</td>\n",
       "    </tr>\n",
       "    <tr>\n",
       "      <th>48838</th>\n",
       "      <td>0</td>\n",
       "      <td>0</td>\n",
       "      <td>1</td>\n",
       "      <td>1</td>\n",
       "    </tr>\n",
       "    <tr>\n",
       "      <th>48839</th>\n",
       "      <td>1</td>\n",
       "      <td>1</td>\n",
       "      <td>1</td>\n",
       "      <td>0</td>\n",
       "    </tr>\n",
       "    <tr>\n",
       "      <th>48840</th>\n",
       "      <td>1</td>\n",
       "      <td>1</td>\n",
       "      <td>1</td>\n",
       "      <td>1</td>\n",
       "    </tr>\n",
       "    <tr>\n",
       "      <th>48841</th>\n",
       "      <td>1</td>\n",
       "      <td>0</td>\n",
       "      <td>1</td>\n",
       "      <td>0</td>\n",
       "    </tr>\n",
       "  </tbody>\n",
       "</table>\n",
       "<p>48842 rows × 4 columns</p>\n",
       "</div>"
      ],
      "text/plain": [
       "       education  workclass  sex  hours-per-week\n",
       "0              1          0    1               1\n",
       "1              1          0    1               1\n",
       "2              0          1    1               1\n",
       "3              0          1    1               1\n",
       "4              1          1    0               1\n",
       "...          ...        ...  ...             ...\n",
       "48837          1          1    0               1\n",
       "48838          0          0    1               1\n",
       "48839          1          1    1               0\n",
       "48840          1          1    1               1\n",
       "48841          1          0    1               0\n",
       "\n",
       "[48842 rows x 4 columns]"
      ]
     },
     "execution_count": 44,
     "metadata": {},
     "output_type": "execute_result"
    }
   ],
   "source": [
    "X"
   ]
  },
  {
   "cell_type": "code",
   "execution_count": 8,
   "metadata": {},
   "outputs": [
    {
     "data": {
      "text/plain": [
       "income\n",
       "<=50K     24720\n",
       "<=50K.    12435\n",
       ">50K       7841\n",
       ">50K.      3846\n",
       "Name: count, dtype: int64"
      ]
     },
     "execution_count": 8,
     "metadata": {},
     "output_type": "execute_result"
    }
   ],
   "source": [
    "y.value_counts()"
   ]
  },
  {
   "cell_type": "code",
   "execution_count": 45,
   "metadata": {},
   "outputs": [],
   "source": [
    "y = y.replace({\"<=50K.\": \"<=50K\", \">50K.\": \">50K\"})"
   ]
  },
  {
   "cell_type": "code",
   "execution_count": 46,
   "metadata": {},
   "outputs": [
    {
     "data": {
      "text/plain": [
       "income\n",
       "<=50K     37155\n",
       ">50K      11687\n",
       "Name: count, dtype: int64"
      ]
     },
     "execution_count": 46,
     "metadata": {},
     "output_type": "execute_result"
    }
   ],
   "source": [
    "y.value_counts()"
   ]
  },
  {
   "cell_type": "markdown",
   "metadata": {},
   "source": [
    "### Zadanie 2\n",
    "-----\n",
    "Wylicz prawdopodobieństwa dla poszczególnych zmiennych pod warunkiem `Y`. Oblicz przynależność do klasy dla pierwszej obserwacji ze zbioru testowego na postawie wyliczonych prawdopodobieństw."
   ]
  },
  {
   "cell_type": "code",
   "execution_count": 48,
   "metadata": {},
   "outputs": [],
   "source": [
    "X_train, X_test, y_train, y_test = train_test_split(X, y, test_size=0.2, random_state=2011)"
   ]
  },
  {
   "cell_type": "code",
   "execution_count": 49,
   "metadata": {},
   "outputs": [
    {
     "name": "stdout",
     "output_type": "stream",
     "text": [
      "<=50K: 0.7624958411179075\n",
      ">50K: 0.2375041588820925\n"
     ]
    }
   ],
   "source": [
    "print('<=50K:', np.mean(y_train == '<=50K'))\n",
    "print('>50K:', np.mean(y_train == '>50K'))"
   ]
  },
  {
   "cell_type": "code",
   "execution_count": 50,
   "metadata": {},
   "outputs": [],
   "source": [
    "all = pd.concat([X_train, y_train], axis=1)"
   ]
  },
  {
   "cell_type": "code",
   "execution_count": 51,
   "metadata": {},
   "outputs": [
    {
     "data": {
      "text/html": [
       "<div>\n",
       "<style scoped>\n",
       "    .dataframe tbody tr th:only-of-type {\n",
       "        vertical-align: middle;\n",
       "    }\n",
       "\n",
       "    .dataframe tbody tr th {\n",
       "        vertical-align: top;\n",
       "    }\n",
       "\n",
       "    .dataframe thead th {\n",
       "        text-align: right;\n",
       "    }\n",
       "</style>\n",
       "<table border=\"1\" class=\"dataframe\">\n",
       "  <thead>\n",
       "    <tr style=\"text-align: right;\">\n",
       "      <th></th>\n",
       "      <th>education</th>\n",
       "      <th>workclass</th>\n",
       "      <th>sex</th>\n",
       "      <th>hours-per-week</th>\n",
       "      <th>income</th>\n",
       "    </tr>\n",
       "  </thead>\n",
       "  <tbody>\n",
       "    <tr>\n",
       "      <th>25542</th>\n",
       "      <td>0</td>\n",
       "      <td>0</td>\n",
       "      <td>1</td>\n",
       "      <td>1</td>\n",
       "      <td>&lt;=50K</td>\n",
       "    </tr>\n",
       "    <tr>\n",
       "      <th>20604</th>\n",
       "      <td>0</td>\n",
       "      <td>1</td>\n",
       "      <td>0</td>\n",
       "      <td>1</td>\n",
       "      <td>&lt;=50K</td>\n",
       "    </tr>\n",
       "    <tr>\n",
       "      <th>38621</th>\n",
       "      <td>1</td>\n",
       "      <td>0</td>\n",
       "      <td>1</td>\n",
       "      <td>1</td>\n",
       "      <td>&lt;=50K</td>\n",
       "    </tr>\n",
       "    <tr>\n",
       "      <th>23306</th>\n",
       "      <td>0</td>\n",
       "      <td>1</td>\n",
       "      <td>1</td>\n",
       "      <td>1</td>\n",
       "      <td>&lt;=50K</td>\n",
       "    </tr>\n",
       "    <tr>\n",
       "      <th>6405</th>\n",
       "      <td>0</td>\n",
       "      <td>1</td>\n",
       "      <td>0</td>\n",
       "      <td>1</td>\n",
       "      <td>&lt;=50K</td>\n",
       "    </tr>\n",
       "    <tr>\n",
       "      <th>...</th>\n",
       "      <td>...</td>\n",
       "      <td>...</td>\n",
       "      <td>...</td>\n",
       "      <td>...</td>\n",
       "      <td>...</td>\n",
       "    </tr>\n",
       "    <tr>\n",
       "      <th>26263</th>\n",
       "      <td>0</td>\n",
       "      <td>1</td>\n",
       "      <td>0</td>\n",
       "      <td>1</td>\n",
       "      <td>&lt;=50K</td>\n",
       "    </tr>\n",
       "    <tr>\n",
       "      <th>5691</th>\n",
       "      <td>1</td>\n",
       "      <td>1</td>\n",
       "      <td>1</td>\n",
       "      <td>1</td>\n",
       "      <td>&lt;=50K</td>\n",
       "    </tr>\n",
       "    <tr>\n",
       "      <th>40</th>\n",
       "      <td>0</td>\n",
       "      <td>1</td>\n",
       "      <td>1</td>\n",
       "      <td>0</td>\n",
       "      <td>&lt;=50K</td>\n",
       "    </tr>\n",
       "    <tr>\n",
       "      <th>4429</th>\n",
       "      <td>0</td>\n",
       "      <td>1</td>\n",
       "      <td>1</td>\n",
       "      <td>1</td>\n",
       "      <td>&lt;=50K</td>\n",
       "    </tr>\n",
       "    <tr>\n",
       "      <th>40491</th>\n",
       "      <td>0</td>\n",
       "      <td>0</td>\n",
       "      <td>1</td>\n",
       "      <td>1</td>\n",
       "      <td>&lt;=50K</td>\n",
       "    </tr>\n",
       "  </tbody>\n",
       "</table>\n",
       "<p>39073 rows × 5 columns</p>\n",
       "</div>"
      ],
      "text/plain": [
       "       education  workclass  sex  hours-per-week income\n",
       "25542          0          0    1               1  <=50K\n",
       "20604          0          1    0               1  <=50K\n",
       "38621          1          0    1               1  <=50K\n",
       "23306          0          1    1               1  <=50K\n",
       "6405           0          1    0               1  <=50K\n",
       "...          ...        ...  ...             ...    ...\n",
       "26263          0          1    0               1  <=50K\n",
       "5691           1          1    1               1  <=50K\n",
       "40             0          1    1               0  <=50K\n",
       "4429           0          1    1               1  <=50K\n",
       "40491          0          0    1               1  <=50K\n",
       "\n",
       "[39073 rows x 5 columns]"
      ]
     },
     "execution_count": 51,
     "metadata": {},
     "output_type": "execute_result"
    }
   ],
   "source": [
    "all"
   ]
  },
  {
   "cell_type": "code",
   "execution_count": null,
   "metadata": {},
   "outputs": [
    {
     "data": {
      "text/html": [
       "<div>\n",
       "<style scoped>\n",
       "    .dataframe tbody tr th:only-of-type {\n",
       "        vertical-align: middle;\n",
       "    }\n",
       "\n",
       "    .dataframe tbody tr th {\n",
       "        vertical-align: top;\n",
       "    }\n",
       "\n",
       "    .dataframe thead th {\n",
       "        text-align: right;\n",
       "    }\n",
       "</style>\n",
       "<table border=\"1\" class=\"dataframe\">\n",
       "  <thead>\n",
       "    <tr style=\"text-align: right;\">\n",
       "      <th>education</th>\n",
       "      <th>0</th>\n",
       "      <th>1</th>\n",
       "    </tr>\n",
       "    <tr>\n",
       "      <th>income</th>\n",
       "      <th></th>\n",
       "      <th></th>\n",
       "    </tr>\n",
       "  </thead>\n",
       "  <tbody>\n",
       "    <tr>\n",
       "      <th>&lt;=50K</th>\n",
       "      <td>0.8363</td>\n",
       "      <td>0.1637</td>\n",
       "    </tr>\n",
       "    <tr>\n",
       "      <th>&gt;50K</th>\n",
       "      <td>0.5539</td>\n",
       "      <td>0.4461</td>\n",
       "    </tr>\n",
       "  </tbody>\n",
       "</table>\n",
       "</div>"
      ],
      "text/plain": [
       "education       0       1\n",
       "income                   \n",
       "<=50K      0.8363  0.1637\n",
       ">50K       0.5539  0.4461"
      ]
     },
     "execution_count": 53,
     "metadata": {},
     "output_type": "execute_result"
    }
   ],
   "source": [
    "round(all.groupby(by=\"income\")['education'].value_counts(normalize=True).unstack(), 4)"
   ]
  },
  {
   "cell_type": "code",
   "execution_count": 54,
   "metadata": {},
   "outputs": [
    {
     "data": {
      "text/html": [
       "<div>\n",
       "<style scoped>\n",
       "    .dataframe tbody tr th:only-of-type {\n",
       "        vertical-align: middle;\n",
       "    }\n",
       "\n",
       "    .dataframe tbody tr th {\n",
       "        vertical-align: top;\n",
       "    }\n",
       "\n",
       "    .dataframe thead th {\n",
       "        text-align: right;\n",
       "    }\n",
       "</style>\n",
       "<table border=\"1\" class=\"dataframe\">\n",
       "  <thead>\n",
       "    <tr style=\"text-align: right;\">\n",
       "      <th>sex</th>\n",
       "      <th>0</th>\n",
       "      <th>1</th>\n",
       "    </tr>\n",
       "    <tr>\n",
       "      <th>income</th>\n",
       "      <th></th>\n",
       "      <th></th>\n",
       "    </tr>\n",
       "  </thead>\n",
       "  <tbody>\n",
       "    <tr>\n",
       "      <th>&lt;=50K</th>\n",
       "      <td>0.3879</td>\n",
       "      <td>0.6121</td>\n",
       "    </tr>\n",
       "    <tr>\n",
       "      <th>&gt;50K</th>\n",
       "      <td>0.1526</td>\n",
       "      <td>0.8474</td>\n",
       "    </tr>\n",
       "  </tbody>\n",
       "</table>\n",
       "</div>"
      ],
      "text/plain": [
       "sex          0       1\n",
       "income                \n",
       "<=50K   0.3879  0.6121\n",
       ">50K    0.1526  0.8474"
      ]
     },
     "execution_count": 54,
     "metadata": {},
     "output_type": "execute_result"
    }
   ],
   "source": [
    "round(all.groupby(by=\"income\")['sex'].value_counts(normalize=True).unstack(), 4)"
   ]
  },
  {
   "cell_type": "code",
   "execution_count": 55,
   "metadata": {},
   "outputs": [
    {
     "data": {
      "text/html": [
       "<div>\n",
       "<style scoped>\n",
       "    .dataframe tbody tr th:only-of-type {\n",
       "        vertical-align: middle;\n",
       "    }\n",
       "\n",
       "    .dataframe tbody tr th {\n",
       "        vertical-align: top;\n",
       "    }\n",
       "\n",
       "    .dataframe thead th {\n",
       "        text-align: right;\n",
       "    }\n",
       "</style>\n",
       "<table border=\"1\" class=\"dataframe\">\n",
       "  <thead>\n",
       "    <tr style=\"text-align: right;\">\n",
       "      <th>workclass</th>\n",
       "      <th>0</th>\n",
       "      <th>1</th>\n",
       "    </tr>\n",
       "    <tr>\n",
       "      <th>income</th>\n",
       "      <th></th>\n",
       "      <th></th>\n",
       "    </tr>\n",
       "  </thead>\n",
       "  <tbody>\n",
       "    <tr>\n",
       "      <th>&lt;=50K</th>\n",
       "      <td>0.2878</td>\n",
       "      <td>0.7122</td>\n",
       "    </tr>\n",
       "    <tr>\n",
       "      <th>&gt;50K</th>\n",
       "      <td>0.3685</td>\n",
       "      <td>0.6315</td>\n",
       "    </tr>\n",
       "  </tbody>\n",
       "</table>\n",
       "</div>"
      ],
      "text/plain": [
       "workclass       0       1\n",
       "income                   \n",
       "<=50K      0.2878  0.7122\n",
       ">50K       0.3685  0.6315"
      ]
     },
     "execution_count": 55,
     "metadata": {},
     "output_type": "execute_result"
    }
   ],
   "source": [
    "round(all.groupby(by=\"income\")['workclass'].value_counts(normalize=True).unstack(), 4)"
   ]
  },
  {
   "cell_type": "code",
   "execution_count": 56,
   "metadata": {},
   "outputs": [
    {
     "data": {
      "text/html": [
       "<div>\n",
       "<style scoped>\n",
       "    .dataframe tbody tr th:only-of-type {\n",
       "        vertical-align: middle;\n",
       "    }\n",
       "\n",
       "    .dataframe tbody tr th {\n",
       "        vertical-align: top;\n",
       "    }\n",
       "\n",
       "    .dataframe thead th {\n",
       "        text-align: right;\n",
       "    }\n",
       "</style>\n",
       "<table border=\"1\" class=\"dataframe\">\n",
       "  <thead>\n",
       "    <tr style=\"text-align: right;\">\n",
       "      <th>hours-per-week</th>\n",
       "      <th>0</th>\n",
       "      <th>1</th>\n",
       "    </tr>\n",
       "    <tr>\n",
       "      <th>income</th>\n",
       "      <th></th>\n",
       "      <th></th>\n",
       "    </tr>\n",
       "  </thead>\n",
       "  <tbody>\n",
       "    <tr>\n",
       "      <th>&lt;=50K</th>\n",
       "      <td>0.2331</td>\n",
       "      <td>0.7669</td>\n",
       "    </tr>\n",
       "    <tr>\n",
       "      <th>&gt;50K</th>\n",
       "      <td>0.4958</td>\n",
       "      <td>0.5042</td>\n",
       "    </tr>\n",
       "  </tbody>\n",
       "</table>\n",
       "</div>"
      ],
      "text/plain": [
       "hours-per-week       0       1\n",
       "income                        \n",
       "<=50K           0.2331  0.7669\n",
       ">50K            0.4958  0.5042"
      ]
     },
     "execution_count": 56,
     "metadata": {},
     "output_type": "execute_result"
    }
   ],
   "source": [
    "round(all.groupby(by=\"income\")['hours-per-week'].value_counts(normalize=True).unstack(), 4)"
   ]
  },
  {
   "cell_type": "code",
   "execution_count": 59,
   "metadata": {},
   "outputs": [
    {
     "data": {
      "text/plain": [
       "education         0\n",
       "workclass         0\n",
       "sex               1\n",
       "hours-per-week    1\n",
       "Name: 10172, dtype: int32"
      ]
     },
     "execution_count": 59,
     "metadata": {},
     "output_type": "execute_result"
    }
   ],
   "source": [
    "X_test.iloc[0,:]"
   ]
  },
  {
   "cell_type": "markdown",
   "metadata": {},
   "source": [
    " y <= 50K"
   ]
  },
  {
   "cell_type": "code",
   "execution_count": null,
   "metadata": {},
   "outputs": [
    {
     "data": {
      "text/plain": [
       "0.08889967675229524"
      ]
     },
     "execution_count": 58,
     "metadata": {},
     "output_type": "execute_result"
    }
   ],
   "source": [
    "0.8363 * 0.2878 * 0.6121 * 0.7669 * 0.7624958411179075"
   ]
  },
  {
   "cell_type": "markdown",
   "metadata": {},
   "source": [
    "y > 50K"
   ]
  },
  {
   "cell_type": "code",
   "execution_count": 60,
   "metadata": {},
   "outputs": [
    {
     "data": {
      "text/plain": [
       "0.020712445429622195"
      ]
     },
     "execution_count": 60,
     "metadata": {},
     "output_type": "execute_result"
    }
   ],
   "source": [
    "0.5042 * 0.3685 * 0.8474 * 0.5539 * 0.2375041588820925"
   ]
  },
  {
   "cell_type": "markdown",
   "metadata": {},
   "source": [
    "### Zadanie 3\n",
    "-----\n",
    "Przygotuj model Naive Bayes używająć funkcji `BernouliiNB`. \n",
    "Jakie są dostępne inne warianty modelu Naive Bayes i czym się charakteryzują?"
   ]
  },
  {
   "cell_type": "code",
   "execution_count": 61,
   "metadata": {},
   "outputs": [],
   "source": [
    "from sklearn.naive_bayes import BernoulliNB"
   ]
  },
  {
   "cell_type": "code",
   "execution_count": 62,
   "metadata": {},
   "outputs": [
    {
     "name": "stderr",
     "output_type": "stream",
     "text": [
      "c:\\Users\\frane\\anaconda3\\envs\\ML\\lib\\site-packages\\sklearn\\utils\\validation.py:1184: DataConversionWarning: A column-vector y was passed when a 1d array was expected. Please change the shape of y to (n_samples, ), for example using ravel().\n",
      "  y = column_or_1d(y, warn=True)\n"
     ]
    },
    {
     "data": {
      "text/html": [
       "<style>#sk-container-id-1 {color: black;}#sk-container-id-1 pre{padding: 0;}#sk-container-id-1 div.sk-toggleable {background-color: white;}#sk-container-id-1 label.sk-toggleable__label {cursor: pointer;display: block;width: 100%;margin-bottom: 0;padding: 0.3em;box-sizing: border-box;text-align: center;}#sk-container-id-1 label.sk-toggleable__label-arrow:before {content: \"▸\";float: left;margin-right: 0.25em;color: #696969;}#sk-container-id-1 label.sk-toggleable__label-arrow:hover:before {color: black;}#sk-container-id-1 div.sk-estimator:hover label.sk-toggleable__label-arrow:before {color: black;}#sk-container-id-1 div.sk-toggleable__content {max-height: 0;max-width: 0;overflow: hidden;text-align: left;background-color: #f0f8ff;}#sk-container-id-1 div.sk-toggleable__content pre {margin: 0.2em;color: black;border-radius: 0.25em;background-color: #f0f8ff;}#sk-container-id-1 input.sk-toggleable__control:checked~div.sk-toggleable__content {max-height: 200px;max-width: 100%;overflow: auto;}#sk-container-id-1 input.sk-toggleable__control:checked~label.sk-toggleable__label-arrow:before {content: \"▾\";}#sk-container-id-1 div.sk-estimator input.sk-toggleable__control:checked~label.sk-toggleable__label {background-color: #d4ebff;}#sk-container-id-1 div.sk-label input.sk-toggleable__control:checked~label.sk-toggleable__label {background-color: #d4ebff;}#sk-container-id-1 input.sk-hidden--visually {border: 0;clip: rect(1px 1px 1px 1px);clip: rect(1px, 1px, 1px, 1px);height: 1px;margin: -1px;overflow: hidden;padding: 0;position: absolute;width: 1px;}#sk-container-id-1 div.sk-estimator {font-family: monospace;background-color: #f0f8ff;border: 1px dotted black;border-radius: 0.25em;box-sizing: border-box;margin-bottom: 0.5em;}#sk-container-id-1 div.sk-estimator:hover {background-color: #d4ebff;}#sk-container-id-1 div.sk-parallel-item::after {content: \"\";width: 100%;border-bottom: 1px solid gray;flex-grow: 1;}#sk-container-id-1 div.sk-label:hover label.sk-toggleable__label {background-color: #d4ebff;}#sk-container-id-1 div.sk-serial::before {content: \"\";position: absolute;border-left: 1px solid gray;box-sizing: border-box;top: 0;bottom: 0;left: 50%;z-index: 0;}#sk-container-id-1 div.sk-serial {display: flex;flex-direction: column;align-items: center;background-color: white;padding-right: 0.2em;padding-left: 0.2em;position: relative;}#sk-container-id-1 div.sk-item {position: relative;z-index: 1;}#sk-container-id-1 div.sk-parallel {display: flex;align-items: stretch;justify-content: center;background-color: white;position: relative;}#sk-container-id-1 div.sk-item::before, #sk-container-id-1 div.sk-parallel-item::before {content: \"\";position: absolute;border-left: 1px solid gray;box-sizing: border-box;top: 0;bottom: 0;left: 50%;z-index: -1;}#sk-container-id-1 div.sk-parallel-item {display: flex;flex-direction: column;z-index: 1;position: relative;background-color: white;}#sk-container-id-1 div.sk-parallel-item:first-child::after {align-self: flex-end;width: 50%;}#sk-container-id-1 div.sk-parallel-item:last-child::after {align-self: flex-start;width: 50%;}#sk-container-id-1 div.sk-parallel-item:only-child::after {width: 0;}#sk-container-id-1 div.sk-dashed-wrapped {border: 1px dashed gray;margin: 0 0.4em 0.5em 0.4em;box-sizing: border-box;padding-bottom: 0.4em;background-color: white;}#sk-container-id-1 div.sk-label label {font-family: monospace;font-weight: bold;display: inline-block;line-height: 1.2em;}#sk-container-id-1 div.sk-label-container {text-align: center;}#sk-container-id-1 div.sk-container {/* jupyter's `normalize.less` sets `[hidden] { display: none; }` but bootstrap.min.css set `[hidden] { display: none !important; }` so we also need the `!important` here to be able to override the default hidden behavior on the sphinx rendered scikit-learn.org. See: https://github.com/scikit-learn/scikit-learn/issues/21755 */display: inline-block !important;position: relative;}#sk-container-id-1 div.sk-text-repr-fallback {display: none;}</style><div id=\"sk-container-id-1\" class=\"sk-top-container\"><div class=\"sk-text-repr-fallback\"><pre>BernoulliNB()</pre><b>In a Jupyter environment, please rerun this cell to show the HTML representation or trust the notebook. <br />On GitHub, the HTML representation is unable to render, please try loading this page with nbviewer.org.</b></div><div class=\"sk-container\" hidden><div class=\"sk-item\"><div class=\"sk-estimator sk-toggleable\"><input class=\"sk-toggleable__control sk-hidden--visually\" id=\"sk-estimator-id-1\" type=\"checkbox\" checked><label for=\"sk-estimator-id-1\" class=\"sk-toggleable__label sk-toggleable__label-arrow\">BernoulliNB</label><div class=\"sk-toggleable__content\"><pre>BernoulliNB()</pre></div></div></div></div></div>"
      ],
      "text/plain": [
       "BernoulliNB()"
      ]
     },
     "execution_count": 62,
     "metadata": {},
     "output_type": "execute_result"
    }
   ],
   "source": [
    "NB = BernoulliNB()\n",
    "NB.fit(X_train, y_train)"
   ]
  },
  {
   "cell_type": "code",
   "execution_count": 63,
   "metadata": {},
   "outputs": [],
   "source": [
    "pred = NB.predict(X_test)"
   ]
  },
  {
   "cell_type": "code",
   "execution_count": 64,
   "metadata": {},
   "outputs": [
    {
     "data": {
      "text/plain": [
       "'<=50K'"
      ]
     },
     "execution_count": 64,
     "metadata": {},
     "output_type": "execute_result"
    }
   ],
   "source": [
    "pred[0]"
   ]
  },
  {
   "cell_type": "code",
   "execution_count": 65,
   "metadata": {},
   "outputs": [
    {
     "name": "stdout",
     "output_type": "stream",
     "text": [
      "              precision    recall  f1-score   support\n",
      "\n",
      "       <=50K       0.79      0.97      0.87      7362\n",
      "        >50K       0.66      0.20      0.30      2407\n",
      "\n",
      "    accuracy                           0.78      9769\n",
      "   macro avg       0.72      0.58      0.59      9769\n",
      "weighted avg       0.75      0.78      0.73      9769\n",
      "\n"
     ]
    }
   ],
   "source": [
    "from sklearn.metrics import classification_report\n",
    "print(classification_report(y_test, pred))"
   ]
  },
  {
   "cell_type": "code",
   "execution_count": 66,
   "metadata": {},
   "outputs": [
    {
     "data": {
      "text/plain": [
       "array([[7114,  248],\n",
       "       [1933,  474]], dtype=int64)"
      ]
     },
     "execution_count": 66,
     "metadata": {},
     "output_type": "execute_result"
    }
   ],
   "source": [
    "from sklearn.metrics import confusion_matrix\n",
    "confusion_matrix(y_test, pred)"
   ]
  },
  {
   "cell_type": "code",
   "execution_count": null,
   "metadata": {},
   "outputs": [
    {
     "data": {
      "text/plain": [
       "0.7491039954438781"
      ]
     },
     "execution_count": 67,
     "metadata": {},
     "output_type": "execute_result"
    }
   ],
   "source": [
    "from sklearn.metrics import roc_auc_score\n",
    "pred_prob = NB.predict_proba(X_test)\n",
    "roc_auc_score(y_test, pred_prob[:,1])"
   ]
  },
  {
   "cell_type": "markdown",
   "metadata": {},
   "source": [
    "### 2. kNN"
   ]
  },
  {
   "cell_type": "code",
   "execution_count": 97,
   "metadata": {},
   "outputs": [],
   "source": [
    "df = pd.read_csv(\"SAheart.data\", index_col='row.names').reset_index(drop=True)"
   ]
  },
  {
   "cell_type": "markdown",
   "metadata": {},
   "source": [
    "### Zadanie 4\n",
    "-----\n",
    "\n",
    "a) Podziel losowo zbiór na część treningową i testową (7:3).\n",
    "\n",
    "b) Przeskaluj zmienne w zbiorze treningowym i testowym za pomocą średniej i odchylenia standardowego danej zmiennej na zbiorze treningowym.\n",
    "\n",
    "c) Dopasuj metodę k najbliższych sąsiadów dla $k = 5, 10, 20, 50, 80, 100, 150$ na zbiorze treningowym. Rozważ przynajmniej 3-krotną kroswalidację.\n",
    "\n",
    "d) Sprawdź na zbiorze testowym współczynnik AUC dla wyliczonych $k$ z polecenia c).\n",
    "\n",
    "e) Wybierz optymalne $k$ bazując na punkcie c) i d). Przygotuj model kNN z jednakową wagą dla wszystkich sąsiadów oraz z wagą uzależnioną od odległości między obserwacją a jej sąsiadem."
   ]
  },
  {
   "cell_type": "code",
   "execution_count": 98,
   "metadata": {},
   "outputs": [],
   "source": [
    "y = df.chd\n",
    "X = df.drop(['chd'], axis = 1)"
   ]
  },
  {
   "cell_type": "code",
   "execution_count": 99,
   "metadata": {},
   "outputs": [],
   "source": [
    "X = pd.get_dummies(X, drop_first=True, dtype=int)"
   ]
  },
  {
   "cell_type": "code",
   "execution_count": 100,
   "metadata": {},
   "outputs": [],
   "source": [
    "X_train, X_test, y_train, y_test = train_test_split(X, y, test_size=0.3, random_state=2011)"
   ]
  },
  {
   "cell_type": "code",
   "execution_count": 101,
   "metadata": {},
   "outputs": [
    {
     "data": {
      "text/html": [
       "<div>\n",
       "<style scoped>\n",
       "    .dataframe tbody tr th:only-of-type {\n",
       "        vertical-align: middle;\n",
       "    }\n",
       "\n",
       "    .dataframe tbody tr th {\n",
       "        vertical-align: top;\n",
       "    }\n",
       "\n",
       "    .dataframe thead th {\n",
       "        text-align: right;\n",
       "    }\n",
       "</style>\n",
       "<table border=\"1\" class=\"dataframe\">\n",
       "  <thead>\n",
       "    <tr style=\"text-align: right;\">\n",
       "      <th></th>\n",
       "      <th>sbp</th>\n",
       "      <th>tobacco</th>\n",
       "      <th>ldl</th>\n",
       "      <th>adiposity</th>\n",
       "      <th>typea</th>\n",
       "      <th>obesity</th>\n",
       "      <th>alcohol</th>\n",
       "      <th>age</th>\n",
       "      <th>famhist_Present</th>\n",
       "    </tr>\n",
       "  </thead>\n",
       "  <tbody>\n",
       "    <tr>\n",
       "      <th>225</th>\n",
       "      <td>143</td>\n",
       "      <td>5.04</td>\n",
       "      <td>4.86</td>\n",
       "      <td>23.59</td>\n",
       "      <td>58</td>\n",
       "      <td>24.69</td>\n",
       "      <td>18.72</td>\n",
       "      <td>42</td>\n",
       "      <td>0</td>\n",
       "    </tr>\n",
       "    <tr>\n",
       "      <th>279</th>\n",
       "      <td>118</td>\n",
       "      <td>0.12</td>\n",
       "      <td>3.26</td>\n",
       "      <td>12.26</td>\n",
       "      <td>55</td>\n",
       "      <td>22.65</td>\n",
       "      <td>0.00</td>\n",
       "      <td>16</td>\n",
       "      <td>0</td>\n",
       "    </tr>\n",
       "    <tr>\n",
       "      <th>392</th>\n",
       "      <td>178</td>\n",
       "      <td>0.95</td>\n",
       "      <td>4.75</td>\n",
       "      <td>21.06</td>\n",
       "      <td>49</td>\n",
       "      <td>23.74</td>\n",
       "      <td>24.69</td>\n",
       "      <td>61</td>\n",
       "      <td>0</td>\n",
       "    </tr>\n",
       "    <tr>\n",
       "      <th>76</th>\n",
       "      <td>134</td>\n",
       "      <td>0.00</td>\n",
       "      <td>5.90</td>\n",
       "      <td>30.84</td>\n",
       "      <td>49</td>\n",
       "      <td>29.16</td>\n",
       "      <td>0.00</td>\n",
       "      <td>55</td>\n",
       "      <td>0</td>\n",
       "    </tr>\n",
       "    <tr>\n",
       "      <th>181</th>\n",
       "      <td>152</td>\n",
       "      <td>0.00</td>\n",
       "      <td>6.06</td>\n",
       "      <td>41.05</td>\n",
       "      <td>51</td>\n",
       "      <td>40.34</td>\n",
       "      <td>0.00</td>\n",
       "      <td>51</td>\n",
       "      <td>1</td>\n",
       "    </tr>\n",
       "  </tbody>\n",
       "</table>\n",
       "</div>"
      ],
      "text/plain": [
       "     sbp  tobacco   ldl  adiposity  typea  obesity  alcohol  age  \\\n",
       "225  143     5.04  4.86      23.59     58    24.69    18.72   42   \n",
       "279  118     0.12  3.26      12.26     55    22.65     0.00   16   \n",
       "392  178     0.95  4.75      21.06     49    23.74    24.69   61   \n",
       "76   134     0.00  5.90      30.84     49    29.16     0.00   55   \n",
       "181  152     0.00  6.06      41.05     51    40.34     0.00   51   \n",
       "\n",
       "     famhist_Present  \n",
       "225                0  \n",
       "279                0  \n",
       "392                0  \n",
       "76                 0  \n",
       "181                1  "
      ]
     },
     "execution_count": 101,
     "metadata": {},
     "output_type": "execute_result"
    }
   ],
   "source": [
    "X_train.head()"
   ]
  },
  {
   "cell_type": "code",
   "execution_count": 102,
   "metadata": {},
   "outputs": [],
   "source": [
    "from sklearn.preprocessing import StandardScaler\n",
    "\n",
    "for col in X_train.columns:\n",
    "    scaler = StandardScaler()\n",
    "    X_train[col] = scaler.fit_transform(X_train[[col]])\n",
    "    X_test[col] = scaler.transform(X_test[[col]])"
   ]
  },
  {
   "cell_type": "code",
   "execution_count": 103,
   "metadata": {},
   "outputs": [
    {
     "data": {
      "text/html": [
       "<div>\n",
       "<style scoped>\n",
       "    .dataframe tbody tr th:only-of-type {\n",
       "        vertical-align: middle;\n",
       "    }\n",
       "\n",
       "    .dataframe tbody tr th {\n",
       "        vertical-align: top;\n",
       "    }\n",
       "\n",
       "    .dataframe thead th {\n",
       "        text-align: right;\n",
       "    }\n",
       "</style>\n",
       "<table border=\"1\" class=\"dataframe\">\n",
       "  <thead>\n",
       "    <tr style=\"text-align: right;\">\n",
       "      <th></th>\n",
       "      <th>sbp</th>\n",
       "      <th>tobacco</th>\n",
       "      <th>ldl</th>\n",
       "      <th>adiposity</th>\n",
       "      <th>typea</th>\n",
       "      <th>obesity</th>\n",
       "      <th>alcohol</th>\n",
       "      <th>age</th>\n",
       "      <th>famhist_Present</th>\n",
       "    </tr>\n",
       "  </thead>\n",
       "  <tbody>\n",
       "    <tr>\n",
       "      <th>225</th>\n",
       "      <td>0.222007</td>\n",
       "      <td>0.313972</td>\n",
       "      <td>0.056981</td>\n",
       "      <td>-0.245566</td>\n",
       "      <td>0.514464</td>\n",
       "      <td>-0.326276</td>\n",
       "      <td>0.091433</td>\n",
       "      <td>-0.075534</td>\n",
       "      <td>-0.831324</td>\n",
       "    </tr>\n",
       "    <tr>\n",
       "      <th>279</th>\n",
       "      <td>-0.965215</td>\n",
       "      <td>-0.778831</td>\n",
       "      <td>-0.732078</td>\n",
       "      <td>-1.702061</td>\n",
       "      <td>0.204249</td>\n",
       "      <td>-0.820290</td>\n",
       "      <td>-0.707998</td>\n",
       "      <td>-1.882759</td>\n",
       "      <td>-0.831324</td>\n",
       "    </tr>\n",
       "    <tr>\n",
       "      <th>392</th>\n",
       "      <td>1.884118</td>\n",
       "      <td>-0.594476</td>\n",
       "      <td>0.002733</td>\n",
       "      <td>-0.570803</td>\n",
       "      <td>-0.416181</td>\n",
       "      <td>-0.556331</td>\n",
       "      <td>0.346380</td>\n",
       "      <td>1.245130</td>\n",
       "      <td>-0.831324</td>\n",
       "    </tr>\n",
       "    <tr>\n",
       "      <th>76</th>\n",
       "      <td>-0.205393</td>\n",
       "      <td>-0.805485</td>\n",
       "      <td>0.569869</td>\n",
       "      <td>0.686436</td>\n",
       "      <td>-0.416181</td>\n",
       "      <td>0.756195</td>\n",
       "      <td>-0.707998</td>\n",
       "      <td>0.828078</td>\n",
       "      <td>-0.831324</td>\n",
       "    </tr>\n",
       "    <tr>\n",
       "      <th>181</th>\n",
       "      <td>0.649407</td>\n",
       "      <td>-0.805485</td>\n",
       "      <td>0.648775</td>\n",
       "      <td>1.998952</td>\n",
       "      <td>-0.209371</td>\n",
       "      <td>3.463583</td>\n",
       "      <td>-0.707998</td>\n",
       "      <td>0.550044</td>\n",
       "      <td>1.202901</td>\n",
       "    </tr>\n",
       "  </tbody>\n",
       "</table>\n",
       "</div>"
      ],
      "text/plain": [
       "          sbp   tobacco       ldl  adiposity     typea   obesity   alcohol  \\\n",
       "225  0.222007  0.313972  0.056981  -0.245566  0.514464 -0.326276  0.091433   \n",
       "279 -0.965215 -0.778831 -0.732078  -1.702061  0.204249 -0.820290 -0.707998   \n",
       "392  1.884118 -0.594476  0.002733  -0.570803 -0.416181 -0.556331  0.346380   \n",
       "76  -0.205393 -0.805485  0.569869   0.686436 -0.416181  0.756195 -0.707998   \n",
       "181  0.649407 -0.805485  0.648775   1.998952 -0.209371  3.463583 -0.707998   \n",
       "\n",
       "          age  famhist_Present  \n",
       "225 -0.075534        -0.831324  \n",
       "279 -1.882759        -0.831324  \n",
       "392  1.245130        -0.831324  \n",
       "76   0.828078        -0.831324  \n",
       "181  0.550044         1.202901  "
      ]
     },
     "execution_count": 103,
     "metadata": {},
     "output_type": "execute_result"
    }
   ],
   "source": [
    "X_train.head()"
   ]
  },
  {
   "cell_type": "code",
   "execution_count": 104,
   "metadata": {},
   "outputs": [
    {
     "data": {
      "text/html": [
       "<div>\n",
       "<style scoped>\n",
       "    .dataframe tbody tr th:only-of-type {\n",
       "        vertical-align: middle;\n",
       "    }\n",
       "\n",
       "    .dataframe tbody tr th {\n",
       "        vertical-align: top;\n",
       "    }\n",
       "\n",
       "    .dataframe thead th {\n",
       "        text-align: right;\n",
       "    }\n",
       "</style>\n",
       "<table border=\"1\" class=\"dataframe\">\n",
       "  <thead>\n",
       "    <tr style=\"text-align: right;\">\n",
       "      <th></th>\n",
       "      <th>sbp</th>\n",
       "      <th>tobacco</th>\n",
       "      <th>ldl</th>\n",
       "      <th>adiposity</th>\n",
       "      <th>typea</th>\n",
       "      <th>obesity</th>\n",
       "      <th>alcohol</th>\n",
       "      <th>age</th>\n",
       "      <th>famhist_Present</th>\n",
       "    </tr>\n",
       "  </thead>\n",
       "  <tbody>\n",
       "    <tr>\n",
       "      <th>246</th>\n",
       "      <td>-0.110415</td>\n",
       "      <td>-0.716639</td>\n",
       "      <td>-0.411523</td>\n",
       "      <td>-0.565661</td>\n",
       "      <td>1.031489</td>\n",
       "      <td>-0.905047</td>\n",
       "      <td>-0.707998</td>\n",
       "      <td>0.897587</td>\n",
       "      <td>1.202901</td>\n",
       "    </tr>\n",
       "    <tr>\n",
       "      <th>48</th>\n",
       "      <td>-1.155171</td>\n",
       "      <td>-0.805485</td>\n",
       "      <td>-1.383052</td>\n",
       "      <td>-1.861465</td>\n",
       "      <td>0.100844</td>\n",
       "      <td>-1.420855</td>\n",
       "      <td>0.956629</td>\n",
       "      <td>-1.882759</td>\n",
       "      <td>-0.831324</td>\n",
       "    </tr>\n",
       "    <tr>\n",
       "      <th>39</th>\n",
       "      <td>-0.110415</td>\n",
       "      <td>1.682198</td>\n",
       "      <td>0.525485</td>\n",
       "      <td>0.816274</td>\n",
       "      <td>2.272350</td>\n",
       "      <td>0.397793</td>\n",
       "      <td>0.271647</td>\n",
       "      <td>1.036604</td>\n",
       "      <td>1.202901</td>\n",
       "    </tr>\n",
       "    <tr>\n",
       "      <th>459</th>\n",
       "      <td>-1.440104</td>\n",
       "      <td>-0.139141</td>\n",
       "      <td>-1.555659</td>\n",
       "      <td>-1.320261</td>\n",
       "      <td>-1.346827</td>\n",
       "      <td>-1.440228</td>\n",
       "      <td>0.429654</td>\n",
       "      <td>0.828078</td>\n",
       "      <td>-0.831324</td>\n",
       "    </tr>\n",
       "    <tr>\n",
       "      <th>74</th>\n",
       "      <td>-0.490326</td>\n",
       "      <td>-0.716639</td>\n",
       "      <td>0.703023</td>\n",
       "      <td>0.109237</td>\n",
       "      <td>1.134894</td>\n",
       "      <td>0.441382</td>\n",
       "      <td>-0.233550</td>\n",
       "      <td>-0.631604</td>\n",
       "      <td>-0.831324</td>\n",
       "    </tr>\n",
       "  </tbody>\n",
       "</table>\n",
       "</div>"
      ],
      "text/plain": [
       "          sbp   tobacco       ldl  adiposity     typea   obesity   alcohol  \\\n",
       "246 -0.110415 -0.716639 -0.411523  -0.565661  1.031489 -0.905047 -0.707998   \n",
       "48  -1.155171 -0.805485 -1.383052  -1.861465  0.100844 -1.420855  0.956629   \n",
       "39  -0.110415  1.682198  0.525485   0.816274  2.272350  0.397793  0.271647   \n",
       "459 -1.440104 -0.139141 -1.555659  -1.320261 -1.346827 -1.440228  0.429654   \n",
       "74  -0.490326 -0.716639  0.703023   0.109237  1.134894  0.441382 -0.233550   \n",
       "\n",
       "          age  famhist_Present  \n",
       "246  0.897587         1.202901  \n",
       "48  -1.882759        -0.831324  \n",
       "39   1.036604         1.202901  \n",
       "459  0.828078        -0.831324  \n",
       "74  -0.631604        -0.831324  "
      ]
     },
     "execution_count": 104,
     "metadata": {},
     "output_type": "execute_result"
    }
   ],
   "source": [
    "X_test.head()"
   ]
  },
  {
   "cell_type": "code",
   "execution_count": 106,
   "metadata": {},
   "outputs": [],
   "source": [
    "from sklearn.model_selection import GridSearchCV, KFold\n",
    "from sklearn.neighbors import KNeighborsClassifier\n",
    "\n",
    "knn = KNeighborsClassifier()\n",
    "\n",
    "param_grid = {'n_neighbors': [5, 10, 20, 50, 80, 100, 150, 180]}\n",
    "\n",
    "grid_search = GridSearchCV(knn, param_grid, cv=KFold(n_splits=5, shuffle=True, random_state=2011), scoring='roc_auc')"
   ]
  },
  {
   "cell_type": "code",
   "execution_count": 107,
   "metadata": {},
   "outputs": [
    {
     "name": "stderr",
     "output_type": "stream",
     "text": [
      "c:\\Users\\frane\\anaconda3\\envs\\ML\\lib\\site-packages\\sklearn\\model_selection\\_validation.py:824: UserWarning: Scoring failed. The score on this train-test partition for these parameters will be set to nan. Details: \n",
      "Traceback (most recent call last):\n",
      "  File \"c:\\Users\\frane\\anaconda3\\envs\\ML\\lib\\site-packages\\sklearn\\metrics\\_scorer.py\", line 459, in _score\n",
      "    y_pred = method_caller(clf, \"decision_function\", X, pos_label=pos_label)\n",
      "  File \"c:\\Users\\frane\\anaconda3\\envs\\ML\\lib\\site-packages\\sklearn\\metrics\\_scorer.py\", line 86, in _cached_call\n",
      "    result, _ = _get_response_values(\n",
      "  File \"c:\\Users\\frane\\anaconda3\\envs\\ML\\lib\\site-packages\\sklearn\\utils\\_response.py\", line 73, in _get_response_values\n",
      "    prediction_method = _check_response_method(estimator, response_method)\n",
      "  File \"c:\\Users\\frane\\anaconda3\\envs\\ML\\lib\\site-packages\\sklearn\\utils\\validation.py\", line 1940, in _check_response_method\n",
      "    raise AttributeError(\n",
      "AttributeError: KNeighborsClassifier has none of the following attributes: decision_function.\n",
      "\n",
      "During handling of the above exception, another exception occurred:\n",
      "\n",
      "Traceback (most recent call last):\n",
      "  File \"c:\\Users\\frane\\anaconda3\\envs\\ML\\lib\\site-packages\\sklearn\\model_selection\\_validation.py\", line 813, in _score\n",
      "    scores = scorer(estimator, X_test, y_test)\n",
      "  File \"c:\\Users\\frane\\anaconda3\\envs\\ML\\lib\\site-packages\\sklearn\\metrics\\_scorer.py\", line 266, in __call__\n",
      "    return self._score(partial(_cached_call, None), estimator, X, y_true, **_kwargs)\n",
      "  File \"c:\\Users\\frane\\anaconda3\\envs\\ML\\lib\\site-packages\\sklearn\\metrics\\_scorer.py\", line 466, in _score\n",
      "    y_pred = method_caller(clf, \"predict_proba\", X, pos_label=pos_label)\n",
      "  File \"c:\\Users\\frane\\anaconda3\\envs\\ML\\lib\\site-packages\\sklearn\\metrics\\_scorer.py\", line 86, in _cached_call\n",
      "    result, _ = _get_response_values(\n",
      "  File \"c:\\Users\\frane\\anaconda3\\envs\\ML\\lib\\site-packages\\sklearn\\utils\\_response.py\", line 85, in _get_response_values\n",
      "    y_pred = prediction_method(X)\n",
      "  File \"c:\\Users\\frane\\anaconda3\\envs\\ML\\lib\\site-packages\\sklearn\\neighbors\\_classification.py\", line 316, in predict_proba\n",
      "    and ArgKminClassMode.is_usable_for(X, self._fit_X, metric)\n",
      "  File \"c:\\Users\\frane\\anaconda3\\envs\\ML\\lib\\site-packages\\sklearn\\metrics\\_pairwise_distances_reduction\\_dispatcher.py\", line 471, in is_usable_for\n",
      "    ArgKmin.is_usable_for(X, Y, metric)\n",
      "  File \"c:\\Users\\frane\\anaconda3\\envs\\ML\\lib\\site-packages\\sklearn\\metrics\\_pairwise_distances_reduction\\_dispatcher.py\", line 115, in is_usable_for\n",
      "    and (is_numpy_c_ordered(X) or is_valid_sparse_matrix(X))\n",
      "  File \"c:\\Users\\frane\\anaconda3\\envs\\ML\\lib\\site-packages\\sklearn\\metrics\\_pairwise_distances_reduction\\_dispatcher.py\", line 99, in is_numpy_c_ordered\n",
      "    return hasattr(X, \"flags\") and X.flags.c_contiguous\n",
      "AttributeError: 'Flags' object has no attribute 'c_contiguous'\n",
      "\n",
      "  warnings.warn(\n",
      "c:\\Users\\frane\\anaconda3\\envs\\ML\\lib\\site-packages\\sklearn\\model_selection\\_validation.py:824: UserWarning: Scoring failed. The score on this train-test partition for these parameters will be set to nan. Details: \n",
      "Traceback (most recent call last):\n",
      "  File \"c:\\Users\\frane\\anaconda3\\envs\\ML\\lib\\site-packages\\sklearn\\metrics\\_scorer.py\", line 459, in _score\n",
      "    y_pred = method_caller(clf, \"decision_function\", X, pos_label=pos_label)\n",
      "  File \"c:\\Users\\frane\\anaconda3\\envs\\ML\\lib\\site-packages\\sklearn\\metrics\\_scorer.py\", line 86, in _cached_call\n",
      "    result, _ = _get_response_values(\n",
      "  File \"c:\\Users\\frane\\anaconda3\\envs\\ML\\lib\\site-packages\\sklearn\\utils\\_response.py\", line 73, in _get_response_values\n",
      "    prediction_method = _check_response_method(estimator, response_method)\n",
      "  File \"c:\\Users\\frane\\anaconda3\\envs\\ML\\lib\\site-packages\\sklearn\\utils\\validation.py\", line 1940, in _check_response_method\n",
      "    raise AttributeError(\n",
      "AttributeError: KNeighborsClassifier has none of the following attributes: decision_function.\n",
      "\n",
      "During handling of the above exception, another exception occurred:\n",
      "\n",
      "Traceback (most recent call last):\n",
      "  File \"c:\\Users\\frane\\anaconda3\\envs\\ML\\lib\\site-packages\\sklearn\\model_selection\\_validation.py\", line 813, in _score\n",
      "    scores = scorer(estimator, X_test, y_test)\n",
      "  File \"c:\\Users\\frane\\anaconda3\\envs\\ML\\lib\\site-packages\\sklearn\\metrics\\_scorer.py\", line 266, in __call__\n",
      "    return self._score(partial(_cached_call, None), estimator, X, y_true, **_kwargs)\n",
      "  File \"c:\\Users\\frane\\anaconda3\\envs\\ML\\lib\\site-packages\\sklearn\\metrics\\_scorer.py\", line 466, in _score\n",
      "    y_pred = method_caller(clf, \"predict_proba\", X, pos_label=pos_label)\n",
      "  File \"c:\\Users\\frane\\anaconda3\\envs\\ML\\lib\\site-packages\\sklearn\\metrics\\_scorer.py\", line 86, in _cached_call\n",
      "    result, _ = _get_response_values(\n",
      "  File \"c:\\Users\\frane\\anaconda3\\envs\\ML\\lib\\site-packages\\sklearn\\utils\\_response.py\", line 85, in _get_response_values\n",
      "    y_pred = prediction_method(X)\n",
      "  File \"c:\\Users\\frane\\anaconda3\\envs\\ML\\lib\\site-packages\\sklearn\\neighbors\\_classification.py\", line 316, in predict_proba\n",
      "    and ArgKminClassMode.is_usable_for(X, self._fit_X, metric)\n",
      "  File \"c:\\Users\\frane\\anaconda3\\envs\\ML\\lib\\site-packages\\sklearn\\metrics\\_pairwise_distances_reduction\\_dispatcher.py\", line 471, in is_usable_for\n",
      "    ArgKmin.is_usable_for(X, Y, metric)\n",
      "  File \"c:\\Users\\frane\\anaconda3\\envs\\ML\\lib\\site-packages\\sklearn\\metrics\\_pairwise_distances_reduction\\_dispatcher.py\", line 115, in is_usable_for\n",
      "    and (is_numpy_c_ordered(X) or is_valid_sparse_matrix(X))\n",
      "  File \"c:\\Users\\frane\\anaconda3\\envs\\ML\\lib\\site-packages\\sklearn\\metrics\\_pairwise_distances_reduction\\_dispatcher.py\", line 99, in is_numpy_c_ordered\n",
      "    return hasattr(X, \"flags\") and X.flags.c_contiguous\n",
      "AttributeError: 'Flags' object has no attribute 'c_contiguous'\n",
      "\n",
      "  warnings.warn(\n",
      "c:\\Users\\frane\\anaconda3\\envs\\ML\\lib\\site-packages\\sklearn\\model_selection\\_validation.py:824: UserWarning: Scoring failed. The score on this train-test partition for these parameters will be set to nan. Details: \n",
      "Traceback (most recent call last):\n",
      "  File \"c:\\Users\\frane\\anaconda3\\envs\\ML\\lib\\site-packages\\sklearn\\metrics\\_scorer.py\", line 459, in _score\n",
      "    y_pred = method_caller(clf, \"decision_function\", X, pos_label=pos_label)\n",
      "  File \"c:\\Users\\frane\\anaconda3\\envs\\ML\\lib\\site-packages\\sklearn\\metrics\\_scorer.py\", line 86, in _cached_call\n",
      "    result, _ = _get_response_values(\n",
      "  File \"c:\\Users\\frane\\anaconda3\\envs\\ML\\lib\\site-packages\\sklearn\\utils\\_response.py\", line 73, in _get_response_values\n",
      "    prediction_method = _check_response_method(estimator, response_method)\n",
      "  File \"c:\\Users\\frane\\anaconda3\\envs\\ML\\lib\\site-packages\\sklearn\\utils\\validation.py\", line 1940, in _check_response_method\n",
      "    raise AttributeError(\n",
      "AttributeError: KNeighborsClassifier has none of the following attributes: decision_function.\n",
      "\n",
      "During handling of the above exception, another exception occurred:\n",
      "\n",
      "Traceback (most recent call last):\n",
      "  File \"c:\\Users\\frane\\anaconda3\\envs\\ML\\lib\\site-packages\\sklearn\\model_selection\\_validation.py\", line 813, in _score\n",
      "    scores = scorer(estimator, X_test, y_test)\n",
      "  File \"c:\\Users\\frane\\anaconda3\\envs\\ML\\lib\\site-packages\\sklearn\\metrics\\_scorer.py\", line 266, in __call__\n",
      "    return self._score(partial(_cached_call, None), estimator, X, y_true, **_kwargs)\n",
      "  File \"c:\\Users\\frane\\anaconda3\\envs\\ML\\lib\\site-packages\\sklearn\\metrics\\_scorer.py\", line 466, in _score\n",
      "    y_pred = method_caller(clf, \"predict_proba\", X, pos_label=pos_label)\n",
      "  File \"c:\\Users\\frane\\anaconda3\\envs\\ML\\lib\\site-packages\\sklearn\\metrics\\_scorer.py\", line 86, in _cached_call\n",
      "    result, _ = _get_response_values(\n",
      "  File \"c:\\Users\\frane\\anaconda3\\envs\\ML\\lib\\site-packages\\sklearn\\utils\\_response.py\", line 85, in _get_response_values\n",
      "    y_pred = prediction_method(X)\n",
      "  File \"c:\\Users\\frane\\anaconda3\\envs\\ML\\lib\\site-packages\\sklearn\\neighbors\\_classification.py\", line 316, in predict_proba\n",
      "    and ArgKminClassMode.is_usable_for(X, self._fit_X, metric)\n",
      "  File \"c:\\Users\\frane\\anaconda3\\envs\\ML\\lib\\site-packages\\sklearn\\metrics\\_pairwise_distances_reduction\\_dispatcher.py\", line 471, in is_usable_for\n",
      "    ArgKmin.is_usable_for(X, Y, metric)\n",
      "  File \"c:\\Users\\frane\\anaconda3\\envs\\ML\\lib\\site-packages\\sklearn\\metrics\\_pairwise_distances_reduction\\_dispatcher.py\", line 115, in is_usable_for\n",
      "    and (is_numpy_c_ordered(X) or is_valid_sparse_matrix(X))\n",
      "  File \"c:\\Users\\frane\\anaconda3\\envs\\ML\\lib\\site-packages\\sklearn\\metrics\\_pairwise_distances_reduction\\_dispatcher.py\", line 99, in is_numpy_c_ordered\n",
      "    return hasattr(X, \"flags\") and X.flags.c_contiguous\n",
      "AttributeError: 'Flags' object has no attribute 'c_contiguous'\n",
      "\n",
      "  warnings.warn(\n",
      "c:\\Users\\frane\\anaconda3\\envs\\ML\\lib\\site-packages\\sklearn\\model_selection\\_validation.py:824: UserWarning: Scoring failed. The score on this train-test partition for these parameters will be set to nan. Details: \n",
      "Traceback (most recent call last):\n",
      "  File \"c:\\Users\\frane\\anaconda3\\envs\\ML\\lib\\site-packages\\sklearn\\metrics\\_scorer.py\", line 459, in _score\n",
      "    y_pred = method_caller(clf, \"decision_function\", X, pos_label=pos_label)\n",
      "  File \"c:\\Users\\frane\\anaconda3\\envs\\ML\\lib\\site-packages\\sklearn\\metrics\\_scorer.py\", line 86, in _cached_call\n",
      "    result, _ = _get_response_values(\n",
      "  File \"c:\\Users\\frane\\anaconda3\\envs\\ML\\lib\\site-packages\\sklearn\\utils\\_response.py\", line 73, in _get_response_values\n",
      "    prediction_method = _check_response_method(estimator, response_method)\n",
      "  File \"c:\\Users\\frane\\anaconda3\\envs\\ML\\lib\\site-packages\\sklearn\\utils\\validation.py\", line 1940, in _check_response_method\n",
      "    raise AttributeError(\n",
      "AttributeError: KNeighborsClassifier has none of the following attributes: decision_function.\n",
      "\n",
      "During handling of the above exception, another exception occurred:\n",
      "\n",
      "Traceback (most recent call last):\n",
      "  File \"c:\\Users\\frane\\anaconda3\\envs\\ML\\lib\\site-packages\\sklearn\\model_selection\\_validation.py\", line 813, in _score\n",
      "    scores = scorer(estimator, X_test, y_test)\n",
      "  File \"c:\\Users\\frane\\anaconda3\\envs\\ML\\lib\\site-packages\\sklearn\\metrics\\_scorer.py\", line 266, in __call__\n",
      "    return self._score(partial(_cached_call, None), estimator, X, y_true, **_kwargs)\n",
      "  File \"c:\\Users\\frane\\anaconda3\\envs\\ML\\lib\\site-packages\\sklearn\\metrics\\_scorer.py\", line 466, in _score\n",
      "    y_pred = method_caller(clf, \"predict_proba\", X, pos_label=pos_label)\n",
      "  File \"c:\\Users\\frane\\anaconda3\\envs\\ML\\lib\\site-packages\\sklearn\\metrics\\_scorer.py\", line 86, in _cached_call\n",
      "    result, _ = _get_response_values(\n",
      "  File \"c:\\Users\\frane\\anaconda3\\envs\\ML\\lib\\site-packages\\sklearn\\utils\\_response.py\", line 85, in _get_response_values\n",
      "    y_pred = prediction_method(X)\n",
      "  File \"c:\\Users\\frane\\anaconda3\\envs\\ML\\lib\\site-packages\\sklearn\\neighbors\\_classification.py\", line 316, in predict_proba\n",
      "    and ArgKminClassMode.is_usable_for(X, self._fit_X, metric)\n",
      "  File \"c:\\Users\\frane\\anaconda3\\envs\\ML\\lib\\site-packages\\sklearn\\metrics\\_pairwise_distances_reduction\\_dispatcher.py\", line 471, in is_usable_for\n",
      "    ArgKmin.is_usable_for(X, Y, metric)\n",
      "  File \"c:\\Users\\frane\\anaconda3\\envs\\ML\\lib\\site-packages\\sklearn\\metrics\\_pairwise_distances_reduction\\_dispatcher.py\", line 115, in is_usable_for\n",
      "    and (is_numpy_c_ordered(X) or is_valid_sparse_matrix(X))\n",
      "  File \"c:\\Users\\frane\\anaconda3\\envs\\ML\\lib\\site-packages\\sklearn\\metrics\\_pairwise_distances_reduction\\_dispatcher.py\", line 99, in is_numpy_c_ordered\n",
      "    return hasattr(X, \"flags\") and X.flags.c_contiguous\n",
      "AttributeError: 'Flags' object has no attribute 'c_contiguous'\n",
      "\n",
      "  warnings.warn(\n",
      "c:\\Users\\frane\\anaconda3\\envs\\ML\\lib\\site-packages\\sklearn\\model_selection\\_validation.py:824: UserWarning: Scoring failed. The score on this train-test partition for these parameters will be set to nan. Details: \n",
      "Traceback (most recent call last):\n",
      "  File \"c:\\Users\\frane\\anaconda3\\envs\\ML\\lib\\site-packages\\sklearn\\metrics\\_scorer.py\", line 459, in _score\n",
      "    y_pred = method_caller(clf, \"decision_function\", X, pos_label=pos_label)\n",
      "  File \"c:\\Users\\frane\\anaconda3\\envs\\ML\\lib\\site-packages\\sklearn\\metrics\\_scorer.py\", line 86, in _cached_call\n",
      "    result, _ = _get_response_values(\n",
      "  File \"c:\\Users\\frane\\anaconda3\\envs\\ML\\lib\\site-packages\\sklearn\\utils\\_response.py\", line 73, in _get_response_values\n",
      "    prediction_method = _check_response_method(estimator, response_method)\n",
      "  File \"c:\\Users\\frane\\anaconda3\\envs\\ML\\lib\\site-packages\\sklearn\\utils\\validation.py\", line 1940, in _check_response_method\n",
      "    raise AttributeError(\n",
      "AttributeError: KNeighborsClassifier has none of the following attributes: decision_function.\n",
      "\n",
      "During handling of the above exception, another exception occurred:\n",
      "\n",
      "Traceback (most recent call last):\n",
      "  File \"c:\\Users\\frane\\anaconda3\\envs\\ML\\lib\\site-packages\\sklearn\\model_selection\\_validation.py\", line 813, in _score\n",
      "    scores = scorer(estimator, X_test, y_test)\n",
      "  File \"c:\\Users\\frane\\anaconda3\\envs\\ML\\lib\\site-packages\\sklearn\\metrics\\_scorer.py\", line 266, in __call__\n",
      "    return self._score(partial(_cached_call, None), estimator, X, y_true, **_kwargs)\n",
      "  File \"c:\\Users\\frane\\anaconda3\\envs\\ML\\lib\\site-packages\\sklearn\\metrics\\_scorer.py\", line 466, in _score\n",
      "    y_pred = method_caller(clf, \"predict_proba\", X, pos_label=pos_label)\n",
      "  File \"c:\\Users\\frane\\anaconda3\\envs\\ML\\lib\\site-packages\\sklearn\\metrics\\_scorer.py\", line 86, in _cached_call\n",
      "    result, _ = _get_response_values(\n",
      "  File \"c:\\Users\\frane\\anaconda3\\envs\\ML\\lib\\site-packages\\sklearn\\utils\\_response.py\", line 85, in _get_response_values\n",
      "    y_pred = prediction_method(X)\n",
      "  File \"c:\\Users\\frane\\anaconda3\\envs\\ML\\lib\\site-packages\\sklearn\\neighbors\\_classification.py\", line 316, in predict_proba\n",
      "    and ArgKminClassMode.is_usable_for(X, self._fit_X, metric)\n",
      "  File \"c:\\Users\\frane\\anaconda3\\envs\\ML\\lib\\site-packages\\sklearn\\metrics\\_pairwise_distances_reduction\\_dispatcher.py\", line 471, in is_usable_for\n",
      "    ArgKmin.is_usable_for(X, Y, metric)\n",
      "  File \"c:\\Users\\frane\\anaconda3\\envs\\ML\\lib\\site-packages\\sklearn\\metrics\\_pairwise_distances_reduction\\_dispatcher.py\", line 115, in is_usable_for\n",
      "    and (is_numpy_c_ordered(X) or is_valid_sparse_matrix(X))\n",
      "  File \"c:\\Users\\frane\\anaconda3\\envs\\ML\\lib\\site-packages\\sklearn\\metrics\\_pairwise_distances_reduction\\_dispatcher.py\", line 99, in is_numpy_c_ordered\n",
      "    return hasattr(X, \"flags\") and X.flags.c_contiguous\n",
      "AttributeError: 'Flags' object has no attribute 'c_contiguous'\n",
      "\n",
      "  warnings.warn(\n",
      "c:\\Users\\frane\\anaconda3\\envs\\ML\\lib\\site-packages\\sklearn\\model_selection\\_validation.py:824: UserWarning: Scoring failed. The score on this train-test partition for these parameters will be set to nan. Details: \n",
      "Traceback (most recent call last):\n",
      "  File \"c:\\Users\\frane\\anaconda3\\envs\\ML\\lib\\site-packages\\sklearn\\metrics\\_scorer.py\", line 459, in _score\n",
      "    y_pred = method_caller(clf, \"decision_function\", X, pos_label=pos_label)\n",
      "  File \"c:\\Users\\frane\\anaconda3\\envs\\ML\\lib\\site-packages\\sklearn\\metrics\\_scorer.py\", line 86, in _cached_call\n",
      "    result, _ = _get_response_values(\n",
      "  File \"c:\\Users\\frane\\anaconda3\\envs\\ML\\lib\\site-packages\\sklearn\\utils\\_response.py\", line 73, in _get_response_values\n",
      "    prediction_method = _check_response_method(estimator, response_method)\n",
      "  File \"c:\\Users\\frane\\anaconda3\\envs\\ML\\lib\\site-packages\\sklearn\\utils\\validation.py\", line 1940, in _check_response_method\n",
      "    raise AttributeError(\n",
      "AttributeError: KNeighborsClassifier has none of the following attributes: decision_function.\n",
      "\n",
      "During handling of the above exception, another exception occurred:\n",
      "\n",
      "Traceback (most recent call last):\n",
      "  File \"c:\\Users\\frane\\anaconda3\\envs\\ML\\lib\\site-packages\\sklearn\\model_selection\\_validation.py\", line 813, in _score\n",
      "    scores = scorer(estimator, X_test, y_test)\n",
      "  File \"c:\\Users\\frane\\anaconda3\\envs\\ML\\lib\\site-packages\\sklearn\\metrics\\_scorer.py\", line 266, in __call__\n",
      "    return self._score(partial(_cached_call, None), estimator, X, y_true, **_kwargs)\n",
      "  File \"c:\\Users\\frane\\anaconda3\\envs\\ML\\lib\\site-packages\\sklearn\\metrics\\_scorer.py\", line 466, in _score\n",
      "    y_pred = method_caller(clf, \"predict_proba\", X, pos_label=pos_label)\n",
      "  File \"c:\\Users\\frane\\anaconda3\\envs\\ML\\lib\\site-packages\\sklearn\\metrics\\_scorer.py\", line 86, in _cached_call\n",
      "    result, _ = _get_response_values(\n",
      "  File \"c:\\Users\\frane\\anaconda3\\envs\\ML\\lib\\site-packages\\sklearn\\utils\\_response.py\", line 85, in _get_response_values\n",
      "    y_pred = prediction_method(X)\n",
      "  File \"c:\\Users\\frane\\anaconda3\\envs\\ML\\lib\\site-packages\\sklearn\\neighbors\\_classification.py\", line 316, in predict_proba\n",
      "    and ArgKminClassMode.is_usable_for(X, self._fit_X, metric)\n",
      "  File \"c:\\Users\\frane\\anaconda3\\envs\\ML\\lib\\site-packages\\sklearn\\metrics\\_pairwise_distances_reduction\\_dispatcher.py\", line 471, in is_usable_for\n",
      "    ArgKmin.is_usable_for(X, Y, metric)\n",
      "  File \"c:\\Users\\frane\\anaconda3\\envs\\ML\\lib\\site-packages\\sklearn\\metrics\\_pairwise_distances_reduction\\_dispatcher.py\", line 115, in is_usable_for\n",
      "    and (is_numpy_c_ordered(X) or is_valid_sparse_matrix(X))\n",
      "  File \"c:\\Users\\frane\\anaconda3\\envs\\ML\\lib\\site-packages\\sklearn\\metrics\\_pairwise_distances_reduction\\_dispatcher.py\", line 99, in is_numpy_c_ordered\n",
      "    return hasattr(X, \"flags\") and X.flags.c_contiguous\n",
      "AttributeError: 'Flags' object has no attribute 'c_contiguous'\n",
      "\n",
      "  warnings.warn(\n",
      "c:\\Users\\frane\\anaconda3\\envs\\ML\\lib\\site-packages\\sklearn\\model_selection\\_validation.py:824: UserWarning: Scoring failed. The score on this train-test partition for these parameters will be set to nan. Details: \n",
      "Traceback (most recent call last):\n",
      "  File \"c:\\Users\\frane\\anaconda3\\envs\\ML\\lib\\site-packages\\sklearn\\metrics\\_scorer.py\", line 459, in _score\n",
      "    y_pred = method_caller(clf, \"decision_function\", X, pos_label=pos_label)\n",
      "  File \"c:\\Users\\frane\\anaconda3\\envs\\ML\\lib\\site-packages\\sklearn\\metrics\\_scorer.py\", line 86, in _cached_call\n",
      "    result, _ = _get_response_values(\n",
      "  File \"c:\\Users\\frane\\anaconda3\\envs\\ML\\lib\\site-packages\\sklearn\\utils\\_response.py\", line 73, in _get_response_values\n",
      "    prediction_method = _check_response_method(estimator, response_method)\n",
      "  File \"c:\\Users\\frane\\anaconda3\\envs\\ML\\lib\\site-packages\\sklearn\\utils\\validation.py\", line 1940, in _check_response_method\n",
      "    raise AttributeError(\n",
      "AttributeError: KNeighborsClassifier has none of the following attributes: decision_function.\n",
      "\n",
      "During handling of the above exception, another exception occurred:\n",
      "\n",
      "Traceback (most recent call last):\n",
      "  File \"c:\\Users\\frane\\anaconda3\\envs\\ML\\lib\\site-packages\\sklearn\\model_selection\\_validation.py\", line 813, in _score\n",
      "    scores = scorer(estimator, X_test, y_test)\n",
      "  File \"c:\\Users\\frane\\anaconda3\\envs\\ML\\lib\\site-packages\\sklearn\\metrics\\_scorer.py\", line 266, in __call__\n",
      "    return self._score(partial(_cached_call, None), estimator, X, y_true, **_kwargs)\n",
      "  File \"c:\\Users\\frane\\anaconda3\\envs\\ML\\lib\\site-packages\\sklearn\\metrics\\_scorer.py\", line 466, in _score\n",
      "    y_pred = method_caller(clf, \"predict_proba\", X, pos_label=pos_label)\n",
      "  File \"c:\\Users\\frane\\anaconda3\\envs\\ML\\lib\\site-packages\\sklearn\\metrics\\_scorer.py\", line 86, in _cached_call\n",
      "    result, _ = _get_response_values(\n",
      "  File \"c:\\Users\\frane\\anaconda3\\envs\\ML\\lib\\site-packages\\sklearn\\utils\\_response.py\", line 85, in _get_response_values\n",
      "    y_pred = prediction_method(X)\n",
      "  File \"c:\\Users\\frane\\anaconda3\\envs\\ML\\lib\\site-packages\\sklearn\\neighbors\\_classification.py\", line 316, in predict_proba\n",
      "    and ArgKminClassMode.is_usable_for(X, self._fit_X, metric)\n",
      "  File \"c:\\Users\\frane\\anaconda3\\envs\\ML\\lib\\site-packages\\sklearn\\metrics\\_pairwise_distances_reduction\\_dispatcher.py\", line 471, in is_usable_for\n",
      "    ArgKmin.is_usable_for(X, Y, metric)\n",
      "  File \"c:\\Users\\frane\\anaconda3\\envs\\ML\\lib\\site-packages\\sklearn\\metrics\\_pairwise_distances_reduction\\_dispatcher.py\", line 115, in is_usable_for\n",
      "    and (is_numpy_c_ordered(X) or is_valid_sparse_matrix(X))\n",
      "  File \"c:\\Users\\frane\\anaconda3\\envs\\ML\\lib\\site-packages\\sklearn\\metrics\\_pairwise_distances_reduction\\_dispatcher.py\", line 99, in is_numpy_c_ordered\n",
      "    return hasattr(X, \"flags\") and X.flags.c_contiguous\n",
      "AttributeError: 'Flags' object has no attribute 'c_contiguous'\n",
      "\n",
      "  warnings.warn(\n",
      "c:\\Users\\frane\\anaconda3\\envs\\ML\\lib\\site-packages\\sklearn\\model_selection\\_validation.py:824: UserWarning: Scoring failed. The score on this train-test partition for these parameters will be set to nan. Details: \n",
      "Traceback (most recent call last):\n",
      "  File \"c:\\Users\\frane\\anaconda3\\envs\\ML\\lib\\site-packages\\sklearn\\metrics\\_scorer.py\", line 459, in _score\n",
      "    y_pred = method_caller(clf, \"decision_function\", X, pos_label=pos_label)\n",
      "  File \"c:\\Users\\frane\\anaconda3\\envs\\ML\\lib\\site-packages\\sklearn\\metrics\\_scorer.py\", line 86, in _cached_call\n",
      "    result, _ = _get_response_values(\n",
      "  File \"c:\\Users\\frane\\anaconda3\\envs\\ML\\lib\\site-packages\\sklearn\\utils\\_response.py\", line 73, in _get_response_values\n",
      "    prediction_method = _check_response_method(estimator, response_method)\n",
      "  File \"c:\\Users\\frane\\anaconda3\\envs\\ML\\lib\\site-packages\\sklearn\\utils\\validation.py\", line 1940, in _check_response_method\n",
      "    raise AttributeError(\n",
      "AttributeError: KNeighborsClassifier has none of the following attributes: decision_function.\n",
      "\n",
      "During handling of the above exception, another exception occurred:\n",
      "\n",
      "Traceback (most recent call last):\n",
      "  File \"c:\\Users\\frane\\anaconda3\\envs\\ML\\lib\\site-packages\\sklearn\\model_selection\\_validation.py\", line 813, in _score\n",
      "    scores = scorer(estimator, X_test, y_test)\n",
      "  File \"c:\\Users\\frane\\anaconda3\\envs\\ML\\lib\\site-packages\\sklearn\\metrics\\_scorer.py\", line 266, in __call__\n",
      "    return self._score(partial(_cached_call, None), estimator, X, y_true, **_kwargs)\n",
      "  File \"c:\\Users\\frane\\anaconda3\\envs\\ML\\lib\\site-packages\\sklearn\\metrics\\_scorer.py\", line 466, in _score\n",
      "    y_pred = method_caller(clf, \"predict_proba\", X, pos_label=pos_label)\n",
      "  File \"c:\\Users\\frane\\anaconda3\\envs\\ML\\lib\\site-packages\\sklearn\\metrics\\_scorer.py\", line 86, in _cached_call\n",
      "    result, _ = _get_response_values(\n",
      "  File \"c:\\Users\\frane\\anaconda3\\envs\\ML\\lib\\site-packages\\sklearn\\utils\\_response.py\", line 85, in _get_response_values\n",
      "    y_pred = prediction_method(X)\n",
      "  File \"c:\\Users\\frane\\anaconda3\\envs\\ML\\lib\\site-packages\\sklearn\\neighbors\\_classification.py\", line 316, in predict_proba\n",
      "    and ArgKminClassMode.is_usable_for(X, self._fit_X, metric)\n",
      "  File \"c:\\Users\\frane\\anaconda3\\envs\\ML\\lib\\site-packages\\sklearn\\metrics\\_pairwise_distances_reduction\\_dispatcher.py\", line 471, in is_usable_for\n",
      "    ArgKmin.is_usable_for(X, Y, metric)\n",
      "  File \"c:\\Users\\frane\\anaconda3\\envs\\ML\\lib\\site-packages\\sklearn\\metrics\\_pairwise_distances_reduction\\_dispatcher.py\", line 115, in is_usable_for\n",
      "    and (is_numpy_c_ordered(X) or is_valid_sparse_matrix(X))\n",
      "  File \"c:\\Users\\frane\\anaconda3\\envs\\ML\\lib\\site-packages\\sklearn\\metrics\\_pairwise_distances_reduction\\_dispatcher.py\", line 99, in is_numpy_c_ordered\n",
      "    return hasattr(X, \"flags\") and X.flags.c_contiguous\n",
      "AttributeError: 'Flags' object has no attribute 'c_contiguous'\n",
      "\n",
      "  warnings.warn(\n",
      "c:\\Users\\frane\\anaconda3\\envs\\ML\\lib\\site-packages\\sklearn\\model_selection\\_validation.py:824: UserWarning: Scoring failed. The score on this train-test partition for these parameters will be set to nan. Details: \n",
      "Traceback (most recent call last):\n",
      "  File \"c:\\Users\\frane\\anaconda3\\envs\\ML\\lib\\site-packages\\sklearn\\metrics\\_scorer.py\", line 459, in _score\n",
      "    y_pred = method_caller(clf, \"decision_function\", X, pos_label=pos_label)\n",
      "  File \"c:\\Users\\frane\\anaconda3\\envs\\ML\\lib\\site-packages\\sklearn\\metrics\\_scorer.py\", line 86, in _cached_call\n",
      "    result, _ = _get_response_values(\n",
      "  File \"c:\\Users\\frane\\anaconda3\\envs\\ML\\lib\\site-packages\\sklearn\\utils\\_response.py\", line 73, in _get_response_values\n",
      "    prediction_method = _check_response_method(estimator, response_method)\n",
      "  File \"c:\\Users\\frane\\anaconda3\\envs\\ML\\lib\\site-packages\\sklearn\\utils\\validation.py\", line 1940, in _check_response_method\n",
      "    raise AttributeError(\n",
      "AttributeError: KNeighborsClassifier has none of the following attributes: decision_function.\n",
      "\n",
      "During handling of the above exception, another exception occurred:\n",
      "\n",
      "Traceback (most recent call last):\n",
      "  File \"c:\\Users\\frane\\anaconda3\\envs\\ML\\lib\\site-packages\\sklearn\\model_selection\\_validation.py\", line 813, in _score\n",
      "    scores = scorer(estimator, X_test, y_test)\n",
      "  File \"c:\\Users\\frane\\anaconda3\\envs\\ML\\lib\\site-packages\\sklearn\\metrics\\_scorer.py\", line 266, in __call__\n",
      "    return self._score(partial(_cached_call, None), estimator, X, y_true, **_kwargs)\n",
      "  File \"c:\\Users\\frane\\anaconda3\\envs\\ML\\lib\\site-packages\\sklearn\\metrics\\_scorer.py\", line 466, in _score\n",
      "    y_pred = method_caller(clf, \"predict_proba\", X, pos_label=pos_label)\n",
      "  File \"c:\\Users\\frane\\anaconda3\\envs\\ML\\lib\\site-packages\\sklearn\\metrics\\_scorer.py\", line 86, in _cached_call\n",
      "    result, _ = _get_response_values(\n",
      "  File \"c:\\Users\\frane\\anaconda3\\envs\\ML\\lib\\site-packages\\sklearn\\utils\\_response.py\", line 85, in _get_response_values\n",
      "    y_pred = prediction_method(X)\n",
      "  File \"c:\\Users\\frane\\anaconda3\\envs\\ML\\lib\\site-packages\\sklearn\\neighbors\\_classification.py\", line 316, in predict_proba\n",
      "    and ArgKminClassMode.is_usable_for(X, self._fit_X, metric)\n",
      "  File \"c:\\Users\\frane\\anaconda3\\envs\\ML\\lib\\site-packages\\sklearn\\metrics\\_pairwise_distances_reduction\\_dispatcher.py\", line 471, in is_usable_for\n",
      "    ArgKmin.is_usable_for(X, Y, metric)\n",
      "  File \"c:\\Users\\frane\\anaconda3\\envs\\ML\\lib\\site-packages\\sklearn\\metrics\\_pairwise_distances_reduction\\_dispatcher.py\", line 115, in is_usable_for\n",
      "    and (is_numpy_c_ordered(X) or is_valid_sparse_matrix(X))\n",
      "  File \"c:\\Users\\frane\\anaconda3\\envs\\ML\\lib\\site-packages\\sklearn\\metrics\\_pairwise_distances_reduction\\_dispatcher.py\", line 99, in is_numpy_c_ordered\n",
      "    return hasattr(X, \"flags\") and X.flags.c_contiguous\n",
      "AttributeError: 'Flags' object has no attribute 'c_contiguous'\n",
      "\n",
      "  warnings.warn(\n",
      "c:\\Users\\frane\\anaconda3\\envs\\ML\\lib\\site-packages\\sklearn\\model_selection\\_validation.py:824: UserWarning: Scoring failed. The score on this train-test partition for these parameters will be set to nan. Details: \n",
      "Traceback (most recent call last):\n",
      "  File \"c:\\Users\\frane\\anaconda3\\envs\\ML\\lib\\site-packages\\sklearn\\metrics\\_scorer.py\", line 459, in _score\n",
      "    y_pred = method_caller(clf, \"decision_function\", X, pos_label=pos_label)\n",
      "  File \"c:\\Users\\frane\\anaconda3\\envs\\ML\\lib\\site-packages\\sklearn\\metrics\\_scorer.py\", line 86, in _cached_call\n",
      "    result, _ = _get_response_values(\n",
      "  File \"c:\\Users\\frane\\anaconda3\\envs\\ML\\lib\\site-packages\\sklearn\\utils\\_response.py\", line 73, in _get_response_values\n",
      "    prediction_method = _check_response_method(estimator, response_method)\n",
      "  File \"c:\\Users\\frane\\anaconda3\\envs\\ML\\lib\\site-packages\\sklearn\\utils\\validation.py\", line 1940, in _check_response_method\n",
      "    raise AttributeError(\n",
      "AttributeError: KNeighborsClassifier has none of the following attributes: decision_function.\n",
      "\n",
      "During handling of the above exception, another exception occurred:\n",
      "\n",
      "Traceback (most recent call last):\n",
      "  File \"c:\\Users\\frane\\anaconda3\\envs\\ML\\lib\\site-packages\\sklearn\\model_selection\\_validation.py\", line 813, in _score\n",
      "    scores = scorer(estimator, X_test, y_test)\n",
      "  File \"c:\\Users\\frane\\anaconda3\\envs\\ML\\lib\\site-packages\\sklearn\\metrics\\_scorer.py\", line 266, in __call__\n",
      "    return self._score(partial(_cached_call, None), estimator, X, y_true, **_kwargs)\n",
      "  File \"c:\\Users\\frane\\anaconda3\\envs\\ML\\lib\\site-packages\\sklearn\\metrics\\_scorer.py\", line 466, in _score\n",
      "    y_pred = method_caller(clf, \"predict_proba\", X, pos_label=pos_label)\n",
      "  File \"c:\\Users\\frane\\anaconda3\\envs\\ML\\lib\\site-packages\\sklearn\\metrics\\_scorer.py\", line 86, in _cached_call\n",
      "    result, _ = _get_response_values(\n",
      "  File \"c:\\Users\\frane\\anaconda3\\envs\\ML\\lib\\site-packages\\sklearn\\utils\\_response.py\", line 85, in _get_response_values\n",
      "    y_pred = prediction_method(X)\n",
      "  File \"c:\\Users\\frane\\anaconda3\\envs\\ML\\lib\\site-packages\\sklearn\\neighbors\\_classification.py\", line 316, in predict_proba\n",
      "    and ArgKminClassMode.is_usable_for(X, self._fit_X, metric)\n",
      "  File \"c:\\Users\\frane\\anaconda3\\envs\\ML\\lib\\site-packages\\sklearn\\metrics\\_pairwise_distances_reduction\\_dispatcher.py\", line 471, in is_usable_for\n",
      "    ArgKmin.is_usable_for(X, Y, metric)\n",
      "  File \"c:\\Users\\frane\\anaconda3\\envs\\ML\\lib\\site-packages\\sklearn\\metrics\\_pairwise_distances_reduction\\_dispatcher.py\", line 115, in is_usable_for\n",
      "    and (is_numpy_c_ordered(X) or is_valid_sparse_matrix(X))\n",
      "  File \"c:\\Users\\frane\\anaconda3\\envs\\ML\\lib\\site-packages\\sklearn\\metrics\\_pairwise_distances_reduction\\_dispatcher.py\", line 99, in is_numpy_c_ordered\n",
      "    return hasattr(X, \"flags\") and X.flags.c_contiguous\n",
      "AttributeError: 'Flags' object has no attribute 'c_contiguous'\n",
      "\n",
      "  warnings.warn(\n",
      "c:\\Users\\frane\\anaconda3\\envs\\ML\\lib\\site-packages\\sklearn\\model_selection\\_search.py:976: UserWarning: One or more of the test scores are non-finite: [0.6212256  0.70179464 0.72558118 0.73501348 0.72527318 0.71669612\n",
      "        nan        nan]\n",
      "  warnings.warn(\n"
     ]
    },
    {
     "data": {
      "text/html": [
       "<style>#sk-container-id-2 {color: black;}#sk-container-id-2 pre{padding: 0;}#sk-container-id-2 div.sk-toggleable {background-color: white;}#sk-container-id-2 label.sk-toggleable__label {cursor: pointer;display: block;width: 100%;margin-bottom: 0;padding: 0.3em;box-sizing: border-box;text-align: center;}#sk-container-id-2 label.sk-toggleable__label-arrow:before {content: \"▸\";float: left;margin-right: 0.25em;color: #696969;}#sk-container-id-2 label.sk-toggleable__label-arrow:hover:before {color: black;}#sk-container-id-2 div.sk-estimator:hover label.sk-toggleable__label-arrow:before {color: black;}#sk-container-id-2 div.sk-toggleable__content {max-height: 0;max-width: 0;overflow: hidden;text-align: left;background-color: #f0f8ff;}#sk-container-id-2 div.sk-toggleable__content pre {margin: 0.2em;color: black;border-radius: 0.25em;background-color: #f0f8ff;}#sk-container-id-2 input.sk-toggleable__control:checked~div.sk-toggleable__content {max-height: 200px;max-width: 100%;overflow: auto;}#sk-container-id-2 input.sk-toggleable__control:checked~label.sk-toggleable__label-arrow:before {content: \"▾\";}#sk-container-id-2 div.sk-estimator input.sk-toggleable__control:checked~label.sk-toggleable__label {background-color: #d4ebff;}#sk-container-id-2 div.sk-label input.sk-toggleable__control:checked~label.sk-toggleable__label {background-color: #d4ebff;}#sk-container-id-2 input.sk-hidden--visually {border: 0;clip: rect(1px 1px 1px 1px);clip: rect(1px, 1px, 1px, 1px);height: 1px;margin: -1px;overflow: hidden;padding: 0;position: absolute;width: 1px;}#sk-container-id-2 div.sk-estimator {font-family: monospace;background-color: #f0f8ff;border: 1px dotted black;border-radius: 0.25em;box-sizing: border-box;margin-bottom: 0.5em;}#sk-container-id-2 div.sk-estimator:hover {background-color: #d4ebff;}#sk-container-id-2 div.sk-parallel-item::after {content: \"\";width: 100%;border-bottom: 1px solid gray;flex-grow: 1;}#sk-container-id-2 div.sk-label:hover label.sk-toggleable__label {background-color: #d4ebff;}#sk-container-id-2 div.sk-serial::before {content: \"\";position: absolute;border-left: 1px solid gray;box-sizing: border-box;top: 0;bottom: 0;left: 50%;z-index: 0;}#sk-container-id-2 div.sk-serial {display: flex;flex-direction: column;align-items: center;background-color: white;padding-right: 0.2em;padding-left: 0.2em;position: relative;}#sk-container-id-2 div.sk-item {position: relative;z-index: 1;}#sk-container-id-2 div.sk-parallel {display: flex;align-items: stretch;justify-content: center;background-color: white;position: relative;}#sk-container-id-2 div.sk-item::before, #sk-container-id-2 div.sk-parallel-item::before {content: \"\";position: absolute;border-left: 1px solid gray;box-sizing: border-box;top: 0;bottom: 0;left: 50%;z-index: -1;}#sk-container-id-2 div.sk-parallel-item {display: flex;flex-direction: column;z-index: 1;position: relative;background-color: white;}#sk-container-id-2 div.sk-parallel-item:first-child::after {align-self: flex-end;width: 50%;}#sk-container-id-2 div.sk-parallel-item:last-child::after {align-self: flex-start;width: 50%;}#sk-container-id-2 div.sk-parallel-item:only-child::after {width: 0;}#sk-container-id-2 div.sk-dashed-wrapped {border: 1px dashed gray;margin: 0 0.4em 0.5em 0.4em;box-sizing: border-box;padding-bottom: 0.4em;background-color: white;}#sk-container-id-2 div.sk-label label {font-family: monospace;font-weight: bold;display: inline-block;line-height: 1.2em;}#sk-container-id-2 div.sk-label-container {text-align: center;}#sk-container-id-2 div.sk-container {/* jupyter's `normalize.less` sets `[hidden] { display: none; }` but bootstrap.min.css set `[hidden] { display: none !important; }` so we also need the `!important` here to be able to override the default hidden behavior on the sphinx rendered scikit-learn.org. See: https://github.com/scikit-learn/scikit-learn/issues/21755 */display: inline-block !important;position: relative;}#sk-container-id-2 div.sk-text-repr-fallback {display: none;}</style><div id=\"sk-container-id-2\" class=\"sk-top-container\"><div class=\"sk-text-repr-fallback\"><pre>GridSearchCV(cv=KFold(n_splits=5, random_state=2011, shuffle=True),\n",
       "             estimator=KNeighborsClassifier(),\n",
       "             param_grid={&#x27;n_neighbors&#x27;: [5, 10, 20, 50, 80, 100, 150, 180]},\n",
       "             scoring=&#x27;roc_auc&#x27;)</pre><b>In a Jupyter environment, please rerun this cell to show the HTML representation or trust the notebook. <br />On GitHub, the HTML representation is unable to render, please try loading this page with nbviewer.org.</b></div><div class=\"sk-container\" hidden><div class=\"sk-item sk-dashed-wrapped\"><div class=\"sk-label-container\"><div class=\"sk-label sk-toggleable\"><input class=\"sk-toggleable__control sk-hidden--visually\" id=\"sk-estimator-id-2\" type=\"checkbox\" ><label for=\"sk-estimator-id-2\" class=\"sk-toggleable__label sk-toggleable__label-arrow\">GridSearchCV</label><div class=\"sk-toggleable__content\"><pre>GridSearchCV(cv=KFold(n_splits=5, random_state=2011, shuffle=True),\n",
       "             estimator=KNeighborsClassifier(),\n",
       "             param_grid={&#x27;n_neighbors&#x27;: [5, 10, 20, 50, 80, 100, 150, 180]},\n",
       "             scoring=&#x27;roc_auc&#x27;)</pre></div></div></div><div class=\"sk-parallel\"><div class=\"sk-parallel-item\"><div class=\"sk-item\"><div class=\"sk-label-container\"><div class=\"sk-label sk-toggleable\"><input class=\"sk-toggleable__control sk-hidden--visually\" id=\"sk-estimator-id-3\" type=\"checkbox\" ><label for=\"sk-estimator-id-3\" class=\"sk-toggleable__label sk-toggleable__label-arrow\">estimator: KNeighborsClassifier</label><div class=\"sk-toggleable__content\"><pre>KNeighborsClassifier()</pre></div></div></div><div class=\"sk-serial\"><div class=\"sk-item\"><div class=\"sk-estimator sk-toggleable\"><input class=\"sk-toggleable__control sk-hidden--visually\" id=\"sk-estimator-id-4\" type=\"checkbox\" ><label for=\"sk-estimator-id-4\" class=\"sk-toggleable__label sk-toggleable__label-arrow\">KNeighborsClassifier</label><div class=\"sk-toggleable__content\"><pre>KNeighborsClassifier()</pre></div></div></div></div></div></div></div></div></div></div>"
      ],
      "text/plain": [
       "GridSearchCV(cv=KFold(n_splits=5, random_state=2011, shuffle=True),\n",
       "             estimator=KNeighborsClassifier(),\n",
       "             param_grid={'n_neighbors': [5, 10, 20, 50, 80, 100, 150, 180]},\n",
       "             scoring='roc_auc')"
      ]
     },
     "execution_count": 107,
     "metadata": {},
     "output_type": "execute_result"
    }
   ],
   "source": [
    "grid_search.fit(X_train, y_train)"
   ]
  },
  {
   "cell_type": "code",
   "execution_count": 108,
   "metadata": {},
   "outputs": [
    {
     "data": {
      "text/plain": [
       "{'n_neighbors': 50}"
      ]
     },
     "execution_count": 108,
     "metadata": {},
     "output_type": "execute_result"
    }
   ],
   "source": [
    "grid_search.best_params_"
   ]
  },
  {
   "cell_type": "code",
   "execution_count": null,
   "metadata": {},
   "outputs": [],
   "source": [
    "knn = KNeighborsClassifier(n_neighbors=50)"
   ]
  },
  {
   "cell_type": "code",
   "execution_count": 110,
   "metadata": {},
   "outputs": [
    {
     "data": {
      "text/html": [
       "<style>#sk-container-id-3 {color: black;}#sk-container-id-3 pre{padding: 0;}#sk-container-id-3 div.sk-toggleable {background-color: white;}#sk-container-id-3 label.sk-toggleable__label {cursor: pointer;display: block;width: 100%;margin-bottom: 0;padding: 0.3em;box-sizing: border-box;text-align: center;}#sk-container-id-3 label.sk-toggleable__label-arrow:before {content: \"▸\";float: left;margin-right: 0.25em;color: #696969;}#sk-container-id-3 label.sk-toggleable__label-arrow:hover:before {color: black;}#sk-container-id-3 div.sk-estimator:hover label.sk-toggleable__label-arrow:before {color: black;}#sk-container-id-3 div.sk-toggleable__content {max-height: 0;max-width: 0;overflow: hidden;text-align: left;background-color: #f0f8ff;}#sk-container-id-3 div.sk-toggleable__content pre {margin: 0.2em;color: black;border-radius: 0.25em;background-color: #f0f8ff;}#sk-container-id-3 input.sk-toggleable__control:checked~div.sk-toggleable__content {max-height: 200px;max-width: 100%;overflow: auto;}#sk-container-id-3 input.sk-toggleable__control:checked~label.sk-toggleable__label-arrow:before {content: \"▾\";}#sk-container-id-3 div.sk-estimator input.sk-toggleable__control:checked~label.sk-toggleable__label {background-color: #d4ebff;}#sk-container-id-3 div.sk-label input.sk-toggleable__control:checked~label.sk-toggleable__label {background-color: #d4ebff;}#sk-container-id-3 input.sk-hidden--visually {border: 0;clip: rect(1px 1px 1px 1px);clip: rect(1px, 1px, 1px, 1px);height: 1px;margin: -1px;overflow: hidden;padding: 0;position: absolute;width: 1px;}#sk-container-id-3 div.sk-estimator {font-family: monospace;background-color: #f0f8ff;border: 1px dotted black;border-radius: 0.25em;box-sizing: border-box;margin-bottom: 0.5em;}#sk-container-id-3 div.sk-estimator:hover {background-color: #d4ebff;}#sk-container-id-3 div.sk-parallel-item::after {content: \"\";width: 100%;border-bottom: 1px solid gray;flex-grow: 1;}#sk-container-id-3 div.sk-label:hover label.sk-toggleable__label {background-color: #d4ebff;}#sk-container-id-3 div.sk-serial::before {content: \"\";position: absolute;border-left: 1px solid gray;box-sizing: border-box;top: 0;bottom: 0;left: 50%;z-index: 0;}#sk-container-id-3 div.sk-serial {display: flex;flex-direction: column;align-items: center;background-color: white;padding-right: 0.2em;padding-left: 0.2em;position: relative;}#sk-container-id-3 div.sk-item {position: relative;z-index: 1;}#sk-container-id-3 div.sk-parallel {display: flex;align-items: stretch;justify-content: center;background-color: white;position: relative;}#sk-container-id-3 div.sk-item::before, #sk-container-id-3 div.sk-parallel-item::before {content: \"\";position: absolute;border-left: 1px solid gray;box-sizing: border-box;top: 0;bottom: 0;left: 50%;z-index: -1;}#sk-container-id-3 div.sk-parallel-item {display: flex;flex-direction: column;z-index: 1;position: relative;background-color: white;}#sk-container-id-3 div.sk-parallel-item:first-child::after {align-self: flex-end;width: 50%;}#sk-container-id-3 div.sk-parallel-item:last-child::after {align-self: flex-start;width: 50%;}#sk-container-id-3 div.sk-parallel-item:only-child::after {width: 0;}#sk-container-id-3 div.sk-dashed-wrapped {border: 1px dashed gray;margin: 0 0.4em 0.5em 0.4em;box-sizing: border-box;padding-bottom: 0.4em;background-color: white;}#sk-container-id-3 div.sk-label label {font-family: monospace;font-weight: bold;display: inline-block;line-height: 1.2em;}#sk-container-id-3 div.sk-label-container {text-align: center;}#sk-container-id-3 div.sk-container {/* jupyter's `normalize.less` sets `[hidden] { display: none; }` but bootstrap.min.css set `[hidden] { display: none !important; }` so we also need the `!important` here to be able to override the default hidden behavior on the sphinx rendered scikit-learn.org. See: https://github.com/scikit-learn/scikit-learn/issues/21755 */display: inline-block !important;position: relative;}#sk-container-id-3 div.sk-text-repr-fallback {display: none;}</style><div id=\"sk-container-id-3\" class=\"sk-top-container\"><div class=\"sk-text-repr-fallback\"><pre>KNeighborsClassifier(n_neighbors=50)</pre><b>In a Jupyter environment, please rerun this cell to show the HTML representation or trust the notebook. <br />On GitHub, the HTML representation is unable to render, please try loading this page with nbviewer.org.</b></div><div class=\"sk-container\" hidden><div class=\"sk-item\"><div class=\"sk-estimator sk-toggleable\"><input class=\"sk-toggleable__control sk-hidden--visually\" id=\"sk-estimator-id-5\" type=\"checkbox\" checked><label for=\"sk-estimator-id-5\" class=\"sk-toggleable__label sk-toggleable__label-arrow\">KNeighborsClassifier</label><div class=\"sk-toggleable__content\"><pre>KNeighborsClassifier(n_neighbors=50)</pre></div></div></div></div></div>"
      ],
      "text/plain": [
       "KNeighborsClassifier(n_neighbors=50)"
      ]
     },
     "execution_count": 110,
     "metadata": {},
     "output_type": "execute_result"
    }
   ],
   "source": [
    "knn.fit(X_train, y_train)"
   ]
  },
  {
   "cell_type": "code",
   "execution_count": 111,
   "metadata": {},
   "outputs": [
    {
     "name": "stdout",
     "output_type": "stream",
     "text": [
      "              precision    recall  f1-score   support\n",
      "\n",
      "           0       0.79      0.95      0.86        97\n",
      "           1       0.77      0.40      0.53        42\n",
      "\n",
      "    accuracy                           0.78       139\n",
      "   macro avg       0.78      0.68      0.70       139\n",
      "weighted avg       0.78      0.78      0.76       139\n",
      "\n"
     ]
    }
   ],
   "source": [
    "print(classification_report(y_test, knn.predict(X_test)))"
   ]
  }
 ],
 "metadata": {
  "kernelspec": {
   "display_name": "ML",
   "language": "python",
   "name": "python3"
  },
  "language_info": {
   "codemirror_mode": {
    "name": "ipython",
    "version": 3
   },
   "file_extension": ".py",
   "mimetype": "text/x-python",
   "name": "python",
   "nbconvert_exporter": "python",
   "pygments_lexer": "ipython3",
   "version": "3.10.12"
  }
 },
 "nbformat": 4,
 "nbformat_minor": 2
}
