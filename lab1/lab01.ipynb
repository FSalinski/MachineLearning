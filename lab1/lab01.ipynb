{
 "cells": [
  {
   "cell_type": "markdown",
   "metadata": {},
   "source": [
    "### Wstęp do Uczenia Maszynowego \n",
    "##### Laboratorium 1"
   ]
  },
  {
   "cell_type": "markdown",
   "metadata": {},
   "source": [
    "### 0. Sprawy organizacyjne"
   ]
  },
  {
   "cell_type": "markdown",
   "metadata": {},
   "source": [
    "Kontakt: MS Teams, anna.kozak@pw.edu.pl"
   ]
  },
  {
   "cell_type": "markdown",
   "metadata": {},
   "source": [
    "Pracujemy z repozytorium GitHub: https://github.com/kozaka93/2024Z-MachineLearning"
   ]
  },
  {
   "cell_type": "markdown",
   "metadata": {},
   "source": [
    "Zasady zaliczenia:\n",
    "- 3 x praca domowa (3 x 15p)\n",
    "- projekt (35p)\n",
    "\n",
    "Aby zaliczyć laboratoria, należy uzyskać ponad 40 punktów ogółem, w tym co najmniej 15 punktów z projektu."
   ]
  },
  {
   "cell_type": "markdown",
   "metadata": {},
   "source": [
    "### 1. Podstawy drzew decyzyjnych "
   ]
  },
  {
   "cell_type": "markdown",
   "metadata": {},
   "source": [
    "1.1 Pakiety i dane"
   ]
  },
  {
   "cell_type": "code",
   "execution_count": 1,
   "metadata": {},
   "outputs": [],
   "source": [
    "import numpy as np\n",
    "import pandas as pd\n",
    "import matplotlib.pyplot as plt\n",
    "import seaborn as sns\n",
    "from sklearn import tree\n",
    "\n",
    "sns.set(style='darkgrid', palette='muted')\n",
    "\n",
    "import warnings\n",
    "warnings.filterwarnings('ignore')"
   ]
  },
  {
   "cell_type": "markdown",
   "metadata": {},
   "source": [
    "Rozważmy zbiór danych zawierający informacje o zarobkach zawodników Baseballu."
   ]
  },
  {
   "cell_type": "code",
   "execution_count": 2,
   "metadata": {},
   "outputs": [],
   "source": [
    "# Zbiory danych można wczytać przez link z GitHub, nie ma koniecznośći ich pobierania.\n",
    "Hitters = pd.read_csv('Hitters.csv', index_col=0)"
   ]
  },
  {
   "cell_type": "code",
   "execution_count": 3,
   "metadata": {},
   "outputs": [
    {
     "data": {
      "text/html": [
       "<div>\n",
       "<style scoped>\n",
       "    .dataframe tbody tr th:only-of-type {\n",
       "        vertical-align: middle;\n",
       "    }\n",
       "\n",
       "    .dataframe tbody tr th {\n",
       "        vertical-align: top;\n",
       "    }\n",
       "\n",
       "    .dataframe thead th {\n",
       "        text-align: right;\n",
       "    }\n",
       "</style>\n",
       "<table border=\"1\" class=\"dataframe\">\n",
       "  <thead>\n",
       "    <tr style=\"text-align: right;\">\n",
       "      <th></th>\n",
       "      <th>AtBat</th>\n",
       "      <th>Hits</th>\n",
       "      <th>HmRun</th>\n",
       "      <th>Runs</th>\n",
       "      <th>RBI</th>\n",
       "      <th>Walks</th>\n",
       "      <th>Years</th>\n",
       "      <th>CAtBat</th>\n",
       "      <th>CHits</th>\n",
       "      <th>CHmRun</th>\n",
       "      <th>CRuns</th>\n",
       "      <th>CRBI</th>\n",
       "      <th>CWalks</th>\n",
       "      <th>League</th>\n",
       "      <th>Division</th>\n",
       "      <th>PutOuts</th>\n",
       "      <th>Assists</th>\n",
       "      <th>Errors</th>\n",
       "      <th>Salary</th>\n",
       "      <th>NewLeague</th>\n",
       "    </tr>\n",
       "  </thead>\n",
       "  <tbody>\n",
       "    <tr>\n",
       "      <th>0</th>\n",
       "      <td>293</td>\n",
       "      <td>66</td>\n",
       "      <td>1</td>\n",
       "      <td>30</td>\n",
       "      <td>29</td>\n",
       "      <td>14</td>\n",
       "      <td>1</td>\n",
       "      <td>293</td>\n",
       "      <td>66</td>\n",
       "      <td>1</td>\n",
       "      <td>30</td>\n",
       "      <td>29</td>\n",
       "      <td>14</td>\n",
       "      <td>A</td>\n",
       "      <td>E</td>\n",
       "      <td>446</td>\n",
       "      <td>33</td>\n",
       "      <td>20</td>\n",
       "      <td>NaN</td>\n",
       "      <td>A</td>\n",
       "    </tr>\n",
       "    <tr>\n",
       "      <th>1</th>\n",
       "      <td>315</td>\n",
       "      <td>81</td>\n",
       "      <td>7</td>\n",
       "      <td>24</td>\n",
       "      <td>38</td>\n",
       "      <td>39</td>\n",
       "      <td>14</td>\n",
       "      <td>3449</td>\n",
       "      <td>835</td>\n",
       "      <td>69</td>\n",
       "      <td>321</td>\n",
       "      <td>414</td>\n",
       "      <td>375</td>\n",
       "      <td>N</td>\n",
       "      <td>W</td>\n",
       "      <td>632</td>\n",
       "      <td>43</td>\n",
       "      <td>10</td>\n",
       "      <td>475.0</td>\n",
       "      <td>N</td>\n",
       "    </tr>\n",
       "    <tr>\n",
       "      <th>2</th>\n",
       "      <td>479</td>\n",
       "      <td>130</td>\n",
       "      <td>18</td>\n",
       "      <td>66</td>\n",
       "      <td>72</td>\n",
       "      <td>76</td>\n",
       "      <td>3</td>\n",
       "      <td>1624</td>\n",
       "      <td>457</td>\n",
       "      <td>63</td>\n",
       "      <td>224</td>\n",
       "      <td>266</td>\n",
       "      <td>263</td>\n",
       "      <td>A</td>\n",
       "      <td>W</td>\n",
       "      <td>880</td>\n",
       "      <td>82</td>\n",
       "      <td>14</td>\n",
       "      <td>480.0</td>\n",
       "      <td>A</td>\n",
       "    </tr>\n",
       "    <tr>\n",
       "      <th>3</th>\n",
       "      <td>496</td>\n",
       "      <td>141</td>\n",
       "      <td>20</td>\n",
       "      <td>65</td>\n",
       "      <td>78</td>\n",
       "      <td>37</td>\n",
       "      <td>11</td>\n",
       "      <td>5628</td>\n",
       "      <td>1575</td>\n",
       "      <td>225</td>\n",
       "      <td>828</td>\n",
       "      <td>838</td>\n",
       "      <td>354</td>\n",
       "      <td>N</td>\n",
       "      <td>E</td>\n",
       "      <td>200</td>\n",
       "      <td>11</td>\n",
       "      <td>3</td>\n",
       "      <td>500.0</td>\n",
       "      <td>N</td>\n",
       "    </tr>\n",
       "    <tr>\n",
       "      <th>4</th>\n",
       "      <td>321</td>\n",
       "      <td>87</td>\n",
       "      <td>10</td>\n",
       "      <td>39</td>\n",
       "      <td>42</td>\n",
       "      <td>30</td>\n",
       "      <td>2</td>\n",
       "      <td>396</td>\n",
       "      <td>101</td>\n",
       "      <td>12</td>\n",
       "      <td>48</td>\n",
       "      <td>46</td>\n",
       "      <td>33</td>\n",
       "      <td>N</td>\n",
       "      <td>E</td>\n",
       "      <td>805</td>\n",
       "      <td>40</td>\n",
       "      <td>4</td>\n",
       "      <td>91.5</td>\n",
       "      <td>N</td>\n",
       "    </tr>\n",
       "  </tbody>\n",
       "</table>\n",
       "</div>"
      ],
      "text/plain": [
       "   AtBat  Hits  HmRun  Runs  RBI  Walks  Years  CAtBat  CHits  CHmRun  CRuns  \\\n",
       "0    293    66      1    30   29     14      1     293     66       1     30   \n",
       "1    315    81      7    24   38     39     14    3449    835      69    321   \n",
       "2    479   130     18    66   72     76      3    1624    457      63    224   \n",
       "3    496   141     20    65   78     37     11    5628   1575     225    828   \n",
       "4    321    87     10    39   42     30      2     396    101      12     48   \n",
       "\n",
       "   CRBI  CWalks League Division  PutOuts  Assists  Errors  Salary NewLeague  \n",
       "0    29      14      A        E      446       33      20     NaN         A  \n",
       "1   414     375      N        W      632       43      10   475.0         N  \n",
       "2   266     263      A        W      880       82      14   480.0         A  \n",
       "3   838     354      N        E      200       11       3   500.0         N  \n",
       "4    46      33      N        E      805       40       4    91.5         N  "
      ]
     },
     "execution_count": 3,
     "metadata": {},
     "output_type": "execute_result"
    }
   ],
   "source": [
    "Hitters.head()"
   ]
  },
  {
   "cell_type": "markdown",
   "metadata": {},
   "source": [
    "##### *Zadanie 1*\n",
    "-------------------\n",
    "Przygotuj zbiór danych do zbudowania pierwszego modelu.\n",
    "\n",
    "a) Utwórz zbiór *Hitters_small* zawierający zmienne o nazwach *Years, Hits, Salary*.\n",
    "\n",
    "b) Przyjrzyj się utworzonemu zbiorowi danych. Jaki jest wymiar danych, typy zmiennych, czy są braki danych? Jakie rozkłady mają zmienne?\n",
    "\n",
    "c) Podziel zbiór danych na X = ['Years', 'Hits'] i y = ['Salary']. Dokonaj transformacji zmiennej y jako log(y).\n",
    "\n",
    "d) Podziel dane na zbiór treningowy i testowy (proporcja 50:50).\n",
    "\n"
   ]
  },
  {
   "cell_type": "code",
   "execution_count": 4,
   "metadata": {},
   "outputs": [
    {
     "data": {
      "text/html": [
       "<div>\n",
       "<style scoped>\n",
       "    .dataframe tbody tr th:only-of-type {\n",
       "        vertical-align: middle;\n",
       "    }\n",
       "\n",
       "    .dataframe tbody tr th {\n",
       "        vertical-align: top;\n",
       "    }\n",
       "\n",
       "    .dataframe thead th {\n",
       "        text-align: right;\n",
       "    }\n",
       "</style>\n",
       "<table border=\"1\" class=\"dataframe\">\n",
       "  <thead>\n",
       "    <tr style=\"text-align: right;\">\n",
       "      <th></th>\n",
       "      <th>Years</th>\n",
       "      <th>Hits</th>\n",
       "      <th>Salary</th>\n",
       "    </tr>\n",
       "  </thead>\n",
       "  <tbody>\n",
       "    <tr>\n",
       "      <th>0</th>\n",
       "      <td>1</td>\n",
       "      <td>66</td>\n",
       "      <td>NaN</td>\n",
       "    </tr>\n",
       "    <tr>\n",
       "      <th>1</th>\n",
       "      <td>14</td>\n",
       "      <td>81</td>\n",
       "      <td>475.0</td>\n",
       "    </tr>\n",
       "    <tr>\n",
       "      <th>2</th>\n",
       "      <td>3</td>\n",
       "      <td>130</td>\n",
       "      <td>480.0</td>\n",
       "    </tr>\n",
       "    <tr>\n",
       "      <th>3</th>\n",
       "      <td>11</td>\n",
       "      <td>141</td>\n",
       "      <td>500.0</td>\n",
       "    </tr>\n",
       "    <tr>\n",
       "      <th>4</th>\n",
       "      <td>2</td>\n",
       "      <td>87</td>\n",
       "      <td>91.5</td>\n",
       "    </tr>\n",
       "  </tbody>\n",
       "</table>\n",
       "</div>"
      ],
      "text/plain": [
       "   Years  Hits  Salary\n",
       "0      1    66     NaN\n",
       "1     14    81   475.0\n",
       "2      3   130   480.0\n",
       "3     11   141   500.0\n",
       "4      2    87    91.5"
      ]
     },
     "execution_count": 4,
     "metadata": {},
     "output_type": "execute_result"
    }
   ],
   "source": [
    "# a)\n",
    "Hitters_small = Hitters[['Years', 'Hits', 'Salary']]\n",
    "Hitters_small.head()"
   ]
  },
  {
   "cell_type": "code",
   "execution_count": 5,
   "metadata": {},
   "outputs": [
    {
     "data": {
      "text/plain": [
       "(322, 3)"
      ]
     },
     "execution_count": 5,
     "metadata": {},
     "output_type": "execute_result"
    }
   ],
   "source": [
    "# b)\n",
    "Hitters_small.shape"
   ]
  },
  {
   "cell_type": "code",
   "execution_count": 6,
   "metadata": {},
   "outputs": [
    {
     "data": {
      "text/html": [
       "<div>\n",
       "<style scoped>\n",
       "    .dataframe tbody tr th:only-of-type {\n",
       "        vertical-align: middle;\n",
       "    }\n",
       "\n",
       "    .dataframe tbody tr th {\n",
       "        vertical-align: top;\n",
       "    }\n",
       "\n",
       "    .dataframe thead th {\n",
       "        text-align: right;\n",
       "    }\n",
       "</style>\n",
       "<table border=\"1\" class=\"dataframe\">\n",
       "  <thead>\n",
       "    <tr style=\"text-align: right;\">\n",
       "      <th></th>\n",
       "      <th>Years</th>\n",
       "      <th>Hits</th>\n",
       "      <th>Salary</th>\n",
       "    </tr>\n",
       "  </thead>\n",
       "  <tbody>\n",
       "    <tr>\n",
       "      <th>count</th>\n",
       "      <td>322.000000</td>\n",
       "      <td>322.000000</td>\n",
       "      <td>263.000000</td>\n",
       "    </tr>\n",
       "    <tr>\n",
       "      <th>mean</th>\n",
       "      <td>7.444099</td>\n",
       "      <td>101.024845</td>\n",
       "      <td>535.925882</td>\n",
       "    </tr>\n",
       "    <tr>\n",
       "      <th>std</th>\n",
       "      <td>4.926087</td>\n",
       "      <td>46.454741</td>\n",
       "      <td>451.118681</td>\n",
       "    </tr>\n",
       "    <tr>\n",
       "      <th>min</th>\n",
       "      <td>1.000000</td>\n",
       "      <td>1.000000</td>\n",
       "      <td>67.500000</td>\n",
       "    </tr>\n",
       "    <tr>\n",
       "      <th>25%</th>\n",
       "      <td>4.000000</td>\n",
       "      <td>64.000000</td>\n",
       "      <td>190.000000</td>\n",
       "    </tr>\n",
       "    <tr>\n",
       "      <th>50%</th>\n",
       "      <td>6.000000</td>\n",
       "      <td>96.000000</td>\n",
       "      <td>425.000000</td>\n",
       "    </tr>\n",
       "    <tr>\n",
       "      <th>75%</th>\n",
       "      <td>11.000000</td>\n",
       "      <td>137.000000</td>\n",
       "      <td>750.000000</td>\n",
       "    </tr>\n",
       "    <tr>\n",
       "      <th>max</th>\n",
       "      <td>24.000000</td>\n",
       "      <td>238.000000</td>\n",
       "      <td>2460.000000</td>\n",
       "    </tr>\n",
       "  </tbody>\n",
       "</table>\n",
       "</div>"
      ],
      "text/plain": [
       "            Years        Hits       Salary\n",
       "count  322.000000  322.000000   263.000000\n",
       "mean     7.444099  101.024845   535.925882\n",
       "std      4.926087   46.454741   451.118681\n",
       "min      1.000000    1.000000    67.500000\n",
       "25%      4.000000   64.000000   190.000000\n",
       "50%      6.000000   96.000000   425.000000\n",
       "75%     11.000000  137.000000   750.000000\n",
       "max     24.000000  238.000000  2460.000000"
      ]
     },
     "execution_count": 6,
     "metadata": {},
     "output_type": "execute_result"
    }
   ],
   "source": [
    "Hitters_small.describe()"
   ]
  },
  {
   "cell_type": "code",
   "execution_count": 7,
   "metadata": {},
   "outputs": [
    {
     "name": "stdout",
     "output_type": "stream",
     "text": [
      "<class 'pandas.core.frame.DataFrame'>\n",
      "Index: 322 entries, 0 to 321\n",
      "Data columns (total 3 columns):\n",
      " #   Column  Non-Null Count  Dtype  \n",
      "---  ------  --------------  -----  \n",
      " 0   Years   322 non-null    int64  \n",
      " 1   Hits    322 non-null    int64  \n",
      " 2   Salary  263 non-null    float64\n",
      "dtypes: float64(1), int64(2)\n",
      "memory usage: 10.1 KB\n"
     ]
    }
   ],
   "source": [
    "Hitters_small.info()"
   ]
  },
  {
   "cell_type": "code",
   "execution_count": 8,
   "metadata": {},
   "outputs": [
    {
     "name": "stdout",
     "output_type": "stream",
     "text": [
      "<class 'pandas.core.frame.DataFrame'>\n",
      "Index: 263 entries, 1 to 321\n",
      "Data columns (total 3 columns):\n",
      " #   Column  Non-Null Count  Dtype  \n",
      "---  ------  --------------  -----  \n",
      " 0   Years   263 non-null    int64  \n",
      " 1   Hits    263 non-null    int64  \n",
      " 2   Salary  263 non-null    float64\n",
      "dtypes: float64(1), int64(2)\n",
      "memory usage: 8.2 KB\n"
     ]
    }
   ],
   "source": [
    "Hitters_small = Hitters_small.dropna()\n",
    "Hitters_small.info()"
   ]
  },
  {
   "cell_type": "code",
   "execution_count": 9,
   "metadata": {},
   "outputs": [
    {
     "data": {
      "text/plain": [
       "array([[<Axes: title={'center': 'Years'}>,\n",
       "        <Axes: title={'center': 'Hits'}>],\n",
       "       [<Axes: title={'center': 'Salary'}>, <Axes: >]], dtype=object)"
      ]
     },
     "execution_count": 9,
     "metadata": {},
     "output_type": "execute_result"
    },
    {
     "data": {
      "image/png": "[encoded data removed]",
      "text/plain": [
       "<Figure size 640x480 with 4 Axes>"
      ]
     },
     "metadata": {},
     "output_type": "display_data"
    }
   ],
   "source": [
    "Hitters_small.hist(bins=16)"
   ]
  },
  {
   "cell_type": "code",
   "execution_count": 10,
   "metadata": {},
   "outputs": [
    {
     "data": {
      "text/plain": [
       "array([[<Axes: title={'center': 'Var1'}>,\n",
       "        <Axes: title={'center': 'Var2'}>],\n",
       "       [<Axes: title={'center': 'log(Var1)'}>,\n",
       "        <Axes: title={'center': 'log(Var2)'}>]], dtype=object)"
      ]
     },
     "execution_count": 10,
     "metadata": {},
     "output_type": "execute_result"
    },
    {
     "data": {
      "image/png": "[encoded data removed]",
      "text/plain": [
       "<Figure size 640x480 with 4 Axes>"
      ]
     },
     "metadata": {},
     "output_type": "display_data"
    }
   ],
   "source": [
    "## Eksperyment - transformacja log zmiennych skośnych\n",
    "\n",
    "experiment = pd.DataFrame({\"Var1\" : Hitters.Salary,\n",
    "                           \"Var2\": (-Hitters.Salary) + 2000})\n",
    "\n",
    "experiment[\"log(Var1)\"] = np.log(experiment.Var1)\n",
    "experiment[\"log(Var2)\"] = np.log(experiment.Var2)\n",
    "\n",
    "experiment.hist()"
   ]
  },
  {
   "cell_type": "code",
   "execution_count": 11,
   "metadata": {},
   "outputs": [],
   "source": [
    "# c)\n",
    "X = Hitters_small[['Years', 'Hits']]\n",
    "y = np.log(Hitters_small['Salary'])"
   ]
  },
  {
   "cell_type": "code",
   "execution_count": 12,
   "metadata": {},
   "outputs": [],
   "source": [
    "# d)\n",
    "from sklearn.model_selection import train_test_split\n",
    "X_train, X_test, y_train, y_test = train_test_split(X, y, test_size=0.5, random_state=123)"
   ]
  },
  {
   "cell_type": "markdown",
   "metadata": {},
   "source": [
    "##### 1.2 Model drzewa - zadanie regresji"
   ]
  },
  {
   "cell_type": "markdown",
   "metadata": {},
   "source": [
    "\n",
    "#### *Jak się buduje drzewa?*\n",
    "1. Dzielimy przestrzeń $X = (X_1, X_2, \\dots, X_p)$ na $J$ regionów $R_1, R_2, \\dots, R_J$.\n",
    "2. Predykcja w $j$-ty regionie jest równa średniej z wartości obserwacji $y$ zbioru treningowego w regione $R_J$. "
   ]
  },
  {
   "cell_type": "code",
   "execution_count": 13,
   "metadata": {},
   "outputs": [],
   "source": [
    "Tree = tree.DecisionTreeRegressor()\n",
    "Tree = Tree.fit(X_train, y_train)"
   ]
  },
  {
   "cell_type": "markdown",
   "metadata": {},
   "source": [
    "Rysunek drzewa"
   ]
  },
  {
   "cell_type": "code",
   "execution_count": 14,
   "metadata": {},
   "outputs": [
    {
     "data": {
      "text/plain": [
       "[Text(0.5079326923076923, 0.96875, 'x[0] <= 5.5\\nsquared_error = 0.803\\nsamples = 131\\nvalue = 5.962'),\n",
       " Text(0.2778846153846154, 0.90625, 'x[1] <= 113.5\\nsquared_error = 0.556\\nsamples = 59\\nvalue = 5.325'),\n",
       " Text(0.15913461538461537, 0.84375, 'x[1] <= 20.5\\nsquared_error = 0.457\\nsamples = 37\\nvalue = 5.046'),\n",
       " Text(0.15144230769230768, 0.78125, 'squared_error = 0.0\\nsamples = 1\\nvalue = 7.663'),\n",
       " Text(0.16682692307692307, 0.78125, 'x[0] <= 3.5\\nsquared_error = 0.275\\nsamples = 36\\nvalue = 4.973'),\n",
       " Text(0.08461538461538462, 0.71875, 'x[0] <= 2.5\\nsquared_error = 0.076\\nsamples = 20\\nvalue = 4.678'),\n",
       " Text(0.046153846153846156, 0.65625, 'x[1] <= 80.0\\nsquared_error = 0.024\\nsamples = 12\\nvalue = 4.546'),\n",
       " Text(0.015384615384615385, 0.59375, 'x[1] <= 47.0\\nsquared_error = 0.02\\nsamples = 4\\nvalue = 4.388'),\n",
       " Text(0.007692307692307693, 0.53125, 'squared_error = 0.0\\nsamples = 1\\nvalue = 4.554'),\n",
       " Text(0.023076923076923078, 0.53125, 'x[1] <= 54.5\\nsquared_error = 0.014\\nsamples = 3\\nvalue = 4.332'),\n",
       " Text(0.015384615384615385, 0.46875, 'squared_error = 0.0\\nsamples = 1\\nvalue = 4.248'),\n",
       " Text(0.03076923076923077, 0.46875, 'x[1] <= 67.0\\nsquared_error = 0.016\\nsamples = 2\\nvalue = 4.374'),\n",
       " Text(0.023076923076923078, 0.40625, 'squared_error = 0.0\\nsamples = 1\\nvalue = 4.5'),\n",
       " Text(0.038461538461538464, 0.40625, 'squared_error = 0.0\\nsamples = 1\\nvalue = 4.248'),\n",
       " Text(0.07692307692307693, 0.59375, 'x[1] <= 111.0\\nsquared_error = 0.007\\nsamples = 8\\nvalue = 4.625'),\n",
       " Text(0.06923076923076923, 0.53125, 'x[1] <= 106.0\\nsquared_error = 0.006\\nsamples = 7\\nvalue = 4.643'),\n",
       " Text(0.06153846153846154, 0.46875, 'x[1] <= 86.5\\nsquared_error = 0.004\\nsamples = 6\\nvalue = 4.626'),\n",
       " Text(0.05384615384615385, 0.40625, 'squared_error = 0.0\\nsamples = 2\\nvalue = 4.7'),\n",
       " Text(0.06923076923076923, 0.40625, 'x[1] <= 89.5\\nsquared_error = 0.002\\nsamples = 4\\nvalue = 4.589'),\n",
       " Text(0.06153846153846154, 0.34375, 'squared_error = 0.0\\nsamples = 1\\nvalue = 4.516'),\n",
       " Text(0.07692307692307693, 0.34375, 'x[1] <= 102.0\\nsquared_error = 0.001\\nsamples = 3\\nvalue = 4.613'),\n",
       " Text(0.06923076923076923, 0.28125, 'x[1] <= 96.5\\nsquared_error = 0.0\\nsamples = 2\\nvalue = 4.593'),\n",
       " Text(0.06153846153846154, 0.21875, 'squared_error = 0.0\\nsamples = 1\\nvalue = 4.605'),\n",
       " Text(0.07692307692307693, 0.21875, 'squared_error = 0.0\\nsamples = 1\\nvalue = 4.58'),\n",
       " Text(0.08461538461538462, 0.28125, 'squared_error = -0.0\\nsamples = 1\\nvalue = 4.654'),\n",
       " Text(0.07692307692307693, 0.46875, 'squared_error = 0.0\\nsamples = 1\\nvalue = 4.745'),\n",
       " Text(0.08461538461538462, 0.53125, 'squared_error = 0.0\\nsamples = 1\\nvalue = 4.5'),\n",
       " Text(0.12307692307692308, 0.65625, 'x[1] <= 87.0\\nsquared_error = 0.088\\nsamples = 8\\nvalue = 4.875'),\n",
       " Text(0.1076923076923077, 0.59375, 'x[1] <= 41.5\\nsquared_error = 0.028\\nsamples = 6\\nvalue = 4.727'),\n",
       " Text(0.1, 0.53125, 'squared_error = 0.0\\nsamples = 1\\nvalue = 4.5'),\n",
       " Text(0.11538461538461539, 0.53125, 'x[1] <= 65.5\\nsquared_error = 0.021\\nsamples = 5\\nvalue = 4.772'),\n",
       " Text(0.1076923076923077, 0.46875, 'x[1] <= 50.0\\nsquared_error = 0.005\\nsamples = 3\\nvalue = 4.883'),\n",
       " Text(0.1, 0.40625, 'squared_error = 0.0\\nsamples = 1\\nvalue = 4.787'),\n",
       " Text(0.11538461538461539, 0.40625, 'x[1] <= 58.5\\nsquared_error = 0.0\\nsamples = 2\\nvalue = 4.931'),\n",
       " Text(0.1076923076923077, 0.34375, 'squared_error = 0.0\\nsamples = 1\\nvalue = 4.942'),\n",
       " Text(0.12307692307692308, 0.34375, 'squared_error = -0.0\\nsamples = 1\\nvalue = 4.92'),\n",
       " Text(0.12307692307692308, 0.46875, 'squared_error = -0.0\\nsamples = 2\\nvalue = 4.605'),\n",
       " Text(0.13846153846153847, 0.59375, 'x[1] <= 104.5\\nsquared_error = 0.002\\nsamples = 2\\nvalue = 5.322'),\n",
       " Text(0.13076923076923078, 0.53125, 'squared_error = 0.0\\nsamples = 1\\nvalue = 5.273'),\n",
       " Text(0.14615384615384616, 0.53125, 'squared_error = 0.0\\nsamples = 1\\nvalue = 5.371'),\n",
       " Text(0.24903846153846154, 0.71875, 'x[1] <= 107.5\\nsquared_error = 0.278\\nsamples = 16\\nvalue = 5.343'),\n",
       " Text(0.24134615384615385, 0.65625, 'x[1] <= 98.0\\nsquared_error = 0.261\\nsamples = 15\\nvalue = 5.296'),\n",
       " Text(0.21346153846153845, 0.59375, 'x[1] <= 74.5\\nsquared_error = 0.166\\nsamples = 13\\nvalue = 5.429'),\n",
       " Text(0.18076923076923077, 0.53125, 'x[1] <= 64.0\\nsquared_error = 0.064\\nsamples = 7\\nvalue = 5.147'),\n",
       " Text(0.16153846153846155, 0.46875, 'x[1] <= 49.5\\nsquared_error = 0.013\\nsamples = 5\\nvalue = 5.292'),\n",
       " Text(0.14615384615384616, 0.40625, 'x[0] <= 4.5\\nsquared_error = 0.0\\nsamples = 2\\nvalue = 5.179'),\n",
       " Text(0.13846153846153847, 0.34375, 'squared_error = 0.0\\nsamples = 1\\nvalue = 5.193'),\n",
       " Text(0.15384615384615385, 0.34375, 'squared_error = 0.0\\nsamples = 1\\nvalue = 5.165'),\n",
       " Text(0.17692307692307693, 0.40625, 'x[0] <= 4.5\\nsquared_error = 0.007\\nsamples = 3\\nvalue = 5.367'),\n",
       " Text(0.16923076923076924, 0.34375, 'x[1] <= 54.5\\nsquared_error = 0.0\\nsamples = 2\\nvalue = 5.427'),\n",
       " Text(0.16153846153846155, 0.28125, 'squared_error = 0.0\\nsamples = 1\\nvalue = 5.416'),\n",
       " Text(0.17692307692307693, 0.28125, 'squared_error = -0.0\\nsamples = 1\\nvalue = 5.438'),\n",
       " Text(0.18461538461538463, 0.34375, 'squared_error = 0.0\\nsamples = 1\\nvalue = 5.247'),\n",
       " Text(0.2, 0.46875, 'x[1] <= 72.5\\nsquared_error = 0.007\\nsamples = 2\\nvalue = 4.784'),\n",
       " Text(0.19230769230769232, 0.40625, 'squared_error = 0.0\\nsamples = 1\\nvalue = 4.868'),\n",
       " Text(0.2076923076923077, 0.40625, 'squared_error = 0.0\\nsamples = 1\\nvalue = 4.7'),\n",
       " Text(0.24615384615384617, 0.53125, 'x[0] <= 4.5\\nsquared_error = 0.084\\nsamples = 6\\nvalue = 5.759'),\n",
       " Text(0.23076923076923078, 0.46875, 'x[1] <= 96.5\\nsquared_error = 0.012\\nsamples = 3\\nvalue = 5.482'),\n",
       " Text(0.2230769230769231, 0.40625, 'x[1] <= 86.0\\nsquared_error = 0.005\\nsamples = 2\\nvalue = 5.549'),\n",
       " Text(0.2153846153846154, 0.34375, 'squared_error = 0.0\\nsamples = 1\\nvalue = 5.481'),\n",
       " Text(0.23076923076923078, 0.34375, 'squared_error = -0.0\\nsamples = 1\\nvalue = 5.617'),\n",
       " Text(0.23846153846153847, 0.40625, 'squared_error = -0.0\\nsamples = 1\\nvalue = 5.347'),\n",
       " Text(0.26153846153846155, 0.46875, 'x[1] <= 83.5\\nsquared_error = 0.001\\nsamples = 3\\nvalue = 6.037'),\n",
       " Text(0.25384615384615383, 0.40625, 'x[1] <= 82.5\\nsquared_error = 0.0\\nsamples = 2\\nvalue = 6.06'),\n",
       " Text(0.24615384615384617, 0.34375, 'squared_error = 0.0\\nsamples = 1\\nvalue = 6.052'),\n",
       " Text(0.26153846153846155, 0.34375, 'squared_error = -0.0\\nsamples = 1\\nvalue = 6.067'),\n",
       " Text(0.2692307692307692, 0.40625, 'squared_error = 0.0\\nsamples = 1\\nvalue = 5.991'),\n",
       " Text(0.2692307692307692, 0.59375, 'x[0] <= 4.5\\nsquared_error = 0.002\\nsamples = 2\\nvalue = 4.427'),\n",
       " Text(0.26153846153846155, 0.53125, 'squared_error = 0.0\\nsamples = 1\\nvalue = 4.472'),\n",
       " Text(0.27692307692307694, 0.53125, 'squared_error = 0.0\\nsamples = 1\\nvalue = 4.382'),\n",
       " Text(0.2567307692307692, 0.65625, 'squared_error = 0.0\\nsamples = 1\\nvalue = 6.052'),\n",
       " Text(0.39663461538461536, 0.84375, 'x[0] <= 4.5\\nsquared_error = 0.372\\nsamples = 22\\nvalue = 5.793'),\n",
       " Text(0.3471153846153846, 0.78125, 'x[1] <= 131.0\\nsquared_error = 0.338\\nsamples = 17\\nvalue = 5.62'),\n",
       " Text(0.3076923076923077, 0.71875, 'x[1] <= 122.5\\nsquared_error = 0.384\\nsamples = 6\\nvalue = 6.008'),\n",
       " Text(0.2923076923076923, 0.65625, 'x[1] <= 114.5\\nsquared_error = 0.168\\nsamples = 4\\nvalue = 5.692'),\n",
       " Text(0.2846153846153846, 0.59375, 'squared_error = 0.0\\nsamples = 1\\nvalue = 6.163'),\n",
       " Text(0.3, 0.59375, 'x[1] <= 120.0\\nsquared_error = 0.125\\nsamples = 3\\nvalue = 5.535'),\n",
       " Text(0.2923076923076923, 0.53125, 'x[0] <= 3.5\\nsquared_error = 0.109\\nsamples = 2\\nvalue = 5.374'),\n",
       " Text(0.2846153846153846, 0.46875, 'squared_error = 0.0\\nsamples = 1\\nvalue = 5.704'),\n",
       " Text(0.3, 0.46875, 'squared_error = -0.0\\nsamples = 1\\nvalue = 5.043'),\n",
       " Text(0.3076923076923077, 0.53125, 'squared_error = 0.0\\nsamples = 1\\nvalue = 5.858'),\n",
       " Text(0.3230769230769231, 0.65625, 'x[0] <= 3.5\\nsquared_error = 0.218\\nsamples = 2\\nvalue = 6.64'),\n",
       " Text(0.3153846153846154, 0.59375, 'squared_error = 0.0\\nsamples = 1\\nvalue = 6.174'),\n",
       " Text(0.33076923076923076, 0.59375, 'squared_error = -0.0\\nsamples = 1\\nvalue = 7.107'),\n",
       " Text(0.38653846153846155, 0.71875, 'x[1] <= 154.5\\nsquared_error = 0.186\\nsamples = 11\\nvalue = 5.408'),\n",
       " Text(0.36538461538461536, 0.65625, 'x[0] <= 3.5\\nsquared_error = 0.061\\nsamples = 6\\nvalue = 5.168'),\n",
       " Text(0.34615384615384615, 0.59375, 'x[0] <= 2.5\\nsquared_error = 0.012\\nsamples = 4\\nvalue = 5.263'),\n",
       " Text(0.33076923076923076, 0.53125, 'x[0] <= 1.5\\nsquared_error = 0.0\\nsamples = 2\\nvalue = 5.156'),\n",
       " Text(0.3230769230769231, 0.46875, 'squared_error = 0.0\\nsamples = 1\\nvalue = 5.147'),\n",
       " Text(0.3384615384615385, 0.46875, 'squared_error = 0.0\\nsamples = 1\\nvalue = 5.165'),\n",
       " Text(0.36153846153846153, 0.53125, 'x[1] <= 142.0\\nsquared_error = 0.0\\nsamples = 2\\nvalue = 5.371'),\n",
       " Text(0.35384615384615387, 0.46875, 'squared_error = 0.0\\nsamples = 1\\nvalue = 5.371'),\n",
       " Text(0.36923076923076925, 0.46875, 'squared_error = 0.0\\nsamples = 1\\nvalue = 5.371'),\n",
       " Text(0.38461538461538464, 0.59375, 'x[1] <= 141.0\\nsquared_error = 0.104\\nsamples = 2\\nvalue = 4.976'),\n",
       " Text(0.3769230769230769, 0.53125, 'squared_error = 0.0\\nsamples = 1\\nvalue = 5.298'),\n",
       " Text(0.3923076923076923, 0.53125, 'squared_error = 0.0\\nsamples = 1\\nvalue = 4.654'),\n",
       " Text(0.4076923076923077, 0.65625, 'x[1] <= 160.0\\nsquared_error = 0.184\\nsamples = 5\\nvalue = 5.697'),\n",
       " Text(0.4, 0.59375, 'squared_error = 0.0\\nsamples = 1\\nvalue = 6.461'),\n",
       " Text(0.4153846153846154, 0.59375, 'x[1] <= 206.5\\nsquared_error = 0.048\\nsamples = 4\\nvalue = 5.506'),\n",
       " Text(0.4076923076923077, 0.53125, 'x[1] <= 183.5\\nsquared_error = 0.009\\nsamples = 3\\nvalue = 5.389'),\n",
       " Text(0.4, 0.46875, 'x[0] <= 3.5\\nsquared_error = 0.001\\nsamples = 2\\nvalue = 5.323'),\n",
       " Text(0.3923076923076923, 0.40625, 'squared_error = 0.0\\nsamples = 1\\nvalue = 5.298'),\n",
       " Text(0.4076923076923077, 0.40625, 'squared_error = 0.0\\nsamples = 1\\nvalue = 5.347'),\n",
       " Text(0.4153846153846154, 0.46875, 'squared_error = 0.0\\nsamples = 1\\nvalue = 5.521'),\n",
       " Text(0.4230769230769231, 0.53125, 'squared_error = 0.0\\nsamples = 1\\nvalue = 5.858'),\n",
       " Text(0.4461538461538462, 0.78125, 'x[1] <= 148.5\\nsquared_error = 0.04\\nsamples = 5\\nvalue = 6.38'),\n",
       " Text(0.4307692307692308, 0.71875, 'x[1] <= 133.0\\nsquared_error = 0.078\\nsamples = 2\\nvalue = 6.271'),\n",
       " Text(0.4230769230769231, 0.65625, 'squared_error = 0.0\\nsamples = 1\\nvalue = 6.551'),\n",
       " Text(0.43846153846153846, 0.65625, 'squared_error = 0.0\\nsamples = 1\\nvalue = 5.991'),\n",
       " Text(0.46153846153846156, 0.71875, 'x[1] <= 163.0\\nsquared_error = 0.001\\nsamples = 3\\nvalue = 6.453'),\n",
       " Text(0.45384615384615384, 0.65625, 'squared_error = 0.0\\nsamples = 1\\nvalue = 6.496'),\n",
       " Text(0.46923076923076923, 0.65625, 'x[1] <= 176.0\\nsquared_error = 0.0\\nsamples = 2\\nvalue = 6.432'),\n",
       " Text(0.46153846153846156, 0.59375, 'squared_error = 0.0\\nsamples = 1\\nvalue = 6.418'),\n",
       " Text(0.47692307692307695, 0.59375, 'squared_error = 0.0\\nsamples = 1\\nvalue = 6.446'),\n",
       " Text(0.7379807692307693, 0.90625, 'x[1] <= 111.0\\nsquared_error = 0.4\\nsamples = 72\\nvalue = 6.484'),\n",
       " Text(0.5735576923076923, 0.84375, 'x[1] <= 53.5\\nsquared_error = 0.263\\nsamples = 30\\nvalue = 6.093'),\n",
       " Text(0.5076923076923077, 0.78125, 'x[0] <= 10.0\\nsquared_error = 0.125\\nsamples = 7\\nvalue = 5.508'),\n",
       " Text(0.49230769230769234, 0.71875, 'x[0] <= 7.0\\nsquared_error = 0.077\\nsamples = 3\\nvalue = 5.217'),\n",
       " Text(0.4846153846153846, 0.65625, 'squared_error = 0.0\\nsamples = 1\\nvalue = 5.58'),\n",
       " Text(0.5, 0.65625, 'x[0] <= 8.5\\nsquared_error = 0.017\\nsamples = 2\\nvalue = 5.035'),\n",
       " Text(0.49230769230769234, 0.59375, 'squared_error = 0.0\\nsamples = 1\\nvalue = 4.905'),\n",
       " Text(0.5076923076923077, 0.59375, 'squared_error = 0.0\\nsamples = 1\\nvalue = 5.165'),\n",
       " Text(0.5230769230769231, 0.71875, 'x[0] <= 12.5\\nsquared_error = 0.05\\nsamples = 4\\nvalue = 5.726'),\n",
       " Text(0.5153846153846153, 0.65625, 'squared_error = 0.0\\nsamples = 1\\nvalue = 6.109'),\n",
       " Text(0.5307692307692308, 0.65625, 'x[0] <= 15.0\\nsquared_error = 0.001\\nsamples = 3\\nvalue = 5.598'),\n",
       " Text(0.5230769230769231, 0.59375, 'squared_error = 0.0\\nsamples = 1\\nvalue = 5.617'),\n",
       " Text(0.5384615384615384, 0.59375, 'x[1] <= 42.5\\nsquared_error = 0.001\\nsamples = 2\\nvalue = 5.589'),\n",
       " Text(0.5307692307692308, 0.53125, 'squared_error = 0.0\\nsamples = 1\\nvalue = 5.561'),\n",
       " Text(0.5461538461538461, 0.53125, 'squared_error = 0.0\\nsamples = 1\\nvalue = 5.617'),\n",
       " Text(0.6394230769230769, 0.78125, 'x[1] <= 57.5\\nsquared_error = 0.169\\nsamples = 23\\nvalue = 6.272'),\n",
       " Text(0.6317307692307692, 0.71875, 'squared_error = 0.0\\nsamples = 1\\nvalue = 7.17'),\n",
       " Text(0.6471153846153846, 0.71875, 'x[0] <= 17.0\\nsquared_error = 0.138\\nsamples = 22\\nvalue = 6.231'),\n",
       " Text(0.6394230769230769, 0.65625, 'x[0] <= 15.5\\nsquared_error = 0.135\\nsamples = 21\\nvalue = 6.252'),\n",
       " Text(0.6057692307692307, 0.59375, 'x[0] <= 11.0\\nsquared_error = 0.116\\nsamples = 19\\nvalue = 6.199'),\n",
       " Text(0.5615384615384615, 0.53125, 'x[1] <= 84.5\\nsquared_error = 0.107\\nsamples = 11\\nvalue = 6.316'),\n",
       " Text(0.5307692307692308, 0.46875, 'x[1] <= 70.5\\nsquared_error = 0.041\\nsamples = 7\\nvalue = 6.453'),\n",
       " Text(0.5153846153846153, 0.40625, 'x[1] <= 64.0\\nsquared_error = 0.062\\nsamples = 2\\nvalue = 6.302'),\n",
       " Text(0.5076923076923077, 0.34375, 'squared_error = 0.0\\nsamples = 1\\nvalue = 6.551'),\n",
       " Text(0.5230769230769231, 0.34375, 'squared_error = 0.0\\nsamples = 1\\nvalue = 6.052'),\n",
       " Text(0.5461538461538461, 0.40625, 'x[0] <= 8.5\\nsquared_error = 0.019\\nsamples = 5\\nvalue = 6.514'),\n",
       " Text(0.5384615384615384, 0.34375, 'x[1] <= 80.5\\nsquared_error = 0.015\\nsamples = 4\\nvalue = 6.471'),\n",
       " Text(0.5307692307692308, 0.28125, 'x[0] <= 6.5\\nsquared_error = 0.001\\nsamples = 3\\nvalue = 6.54'),\n",
       " Text(0.5230769230769231, 0.21875, 'squared_error = 0.0\\nsamples = 1\\nvalue = 6.507'),\n",
       " Text(0.5384615384615384, 0.21875, 'x[1] <= 76.5\\nsquared_error = 0.0\\nsamples = 2\\nvalue = 6.557'),\n",
       " Text(0.5307692307692308, 0.15625, 'squared_error = 0.0\\nsamples = 1\\nvalue = 6.563'),\n",
       " Text(0.5461538461538461, 0.15625, 'squared_error = 0.0\\nsamples = 1\\nvalue = 6.551'),\n",
       " Text(0.5461538461538461, 0.28125, 'squared_error = 0.0\\nsamples = 1\\nvalue = 6.263'),\n",
       " Text(0.5538461538461539, 0.34375, 'squared_error = -0.0\\nsamples = 1\\nvalue = 6.685'),\n",
       " Text(0.5923076923076923, 0.46875, 'x[1] <= 103.5\\nsquared_error = 0.133\\nsamples = 4\\nvalue = 6.076'),\n",
       " Text(0.5769230769230769, 0.40625, 'x[0] <= 6.5\\nsquared_error = 0.002\\nsamples = 2\\nvalue = 5.744'),\n",
       " Text(0.5692307692307692, 0.34375, 'squared_error = 0.0\\nsamples = 1\\nvalue = 5.784'),\n",
       " Text(0.5846153846153846, 0.34375, 'squared_error = -0.0\\nsamples = 1\\nvalue = 5.704'),\n",
       " Text(0.6076923076923076, 0.40625, 'x[1] <= 107.0\\nsquared_error = 0.045\\nsamples = 2\\nvalue = 6.407'),\n",
       " Text(0.6, 0.34375, 'squared_error = 0.0\\nsamples = 1\\nvalue = 6.62'),\n",
       " Text(0.6153846153846154, 0.34375, 'squared_error = 0.0\\nsamples = 1\\nvalue = 6.194'),\n",
       " Text(0.65, 0.53125, 'x[1] <= 73.5\\nsquared_error = 0.082\\nsamples = 8\\nvalue = 6.039'),\n",
       " Text(0.6307692307692307, 0.46875, 'x[0] <= 13.5\\nsquared_error = 0.084\\nsamples = 3\\nvalue = 5.808'),\n",
       " Text(0.6230769230769231, 0.40625, 'squared_error = 0.0\\nsamples = 1\\nvalue = 5.416'),\n",
       " Text(0.6384615384615384, 0.40625, 'squared_error = 0.011\\nsamples = 2\\nvalue = 6.005'),\n",
       " Text(0.6692307692307692, 0.46875, 'x[1] <= 91.0\\nsquared_error = 0.031\\nsamples = 5\\nvalue = 6.177'),\n",
       " Text(0.6538461538461539, 0.40625, 'x[1] <= 79.5\\nsquared_error = 0.003\\nsamples = 3\\nvalue = 6.102'),\n",
       " Text(0.6461538461538462, 0.34375, 'x[1] <= 77.5\\nsquared_error = 0.001\\nsamples = 2\\nvalue = 6.071'),\n",
       " Text(0.6384615384615384, 0.28125, 'squared_error = 0.0\\nsamples = 1\\nvalue = 6.109'),\n",
       " Text(0.6538461538461539, 0.28125, 'squared_error = 0.0\\nsamples = 1\\nvalue = 6.032'),\n",
       " Text(0.6615384615384615, 0.34375, 'squared_error = 0.0\\nsamples = 1\\nvalue = 6.163'),\n",
       " Text(0.6846153846153846, 0.40625, 'x[0] <= 13.5\\nsquared_error = 0.051\\nsamples = 2\\nvalue = 6.289'),\n",
       " Text(0.676923076923077, 0.34375, 'squared_error = 0.0\\nsamples = 1\\nvalue = 6.515'),\n",
       " Text(0.6923076923076923, 0.34375, 'squared_error = 0.0\\nsamples = 1\\nvalue = 6.064'),\n",
       " Text(0.6730769230769231, 0.59375, 'x[1] <= 73.5\\nsquared_error = 0.041\\nsamples = 2\\nvalue = 6.754'),\n",
       " Text(0.6653846153846154, 0.53125, 'squared_error = 0.0\\nsamples = 1\\nvalue = 6.957'),\n",
       " Text(0.6807692307692308, 0.53125, 'squared_error = -0.0\\nsamples = 1\\nvalue = 6.551'),\n",
       " Text(0.6548076923076923, 0.65625, 'squared_error = -0.0\\nsamples = 1\\nvalue = 5.784'),\n",
       " Text(0.9024038461538462, 0.84375, 'x[1] <= 205.0\\nsquared_error = 0.31\\nsamples = 42\\nvalue = 6.763'),\n",
       " Text(0.8947115384615385, 0.78125, 'x[0] <= 12.5\\nsquared_error = 0.19\\nsamples = 41\\nvalue = 6.818'),\n",
       " Text(0.8201923076923077, 0.71875, 'x[1] <= 152.5\\nsquared_error = 0.169\\nsamples = 27\\nvalue = 6.706'),\n",
       " Text(0.7673076923076924, 0.65625, 'x[1] <= 142.5\\nsquared_error = 0.162\\nsamples = 17\\nvalue = 6.795'),\n",
       " Text(0.7346153846153847, 0.59375, 'x[0] <= 6.5\\nsquared_error = 0.049\\nsamples = 13\\nvalue = 6.637'),\n",
       " Text(0.7269230769230769, 0.53125, 'squared_error = 0.0\\nsamples = 1\\nvalue = 6.31'),\n",
       " Text(0.7423076923076923, 0.53125, 'x[0] <= 7.5\\nsquared_error = 0.044\\nsamples = 12\\nvalue = 6.664'),\n",
       " Text(0.7230769230769231, 0.46875, 'x[1] <= 123.0\\nsquared_error = 0.036\\nsamples = 3\\nvalue = 6.823'),\n",
       " Text(0.7153846153846154, 0.40625, 'x[1] <= 115.5\\nsquared_error = 0.006\\nsamples = 2\\nvalue = 6.697'),\n",
       " Text(0.7076923076923077, 0.34375, 'squared_error = 0.0\\nsamples = 1\\nvalue = 6.62'),\n",
       " Text(0.7230769230769231, 0.34375, 'squared_error = -0.0\\nsamples = 1\\nvalue = 6.774'),\n",
       " Text(0.7307692307692307, 0.40625, 'squared_error = 0.0\\nsamples = 1\\nvalue = 7.076'),\n",
       " Text(0.7615384615384615, 0.46875, 'x[1] <= 138.5\\nsquared_error = 0.035\\nsamples = 9\\nvalue = 6.611'),\n",
       " Text(0.7461538461538462, 0.40625, 'x[0] <= 8.5\\nsquared_error = 0.015\\nsamples = 7\\nvalue = 6.637'),\n",
       " Text(0.7384615384615385, 0.34375, 'squared_error = 0.0\\nsamples = 1\\nvalue = 6.397'),\n",
       " Text(0.7538461538461538, 0.34375, 'x[1] <= 116.0\\nsquared_error = 0.006\\nsamples = 6\\nvalue = 6.677'),\n",
       " Text(0.7461538461538462, 0.28125, 'squared_error = 0.0\\nsamples = 1\\nvalue = 6.607'),\n",
       " Text(0.7615384615384615, 0.28125, 'x[0] <= 11.5\\nsquared_error = 0.006\\nsamples = 5\\nvalue = 6.691'),\n",
       " Text(0.7538461538461538, 0.21875, 'x[1] <= 122.5\\nsquared_error = 0.006\\nsamples = 4\\nvalue = 6.67'),\n",
       " Text(0.7461538461538462, 0.15625, 'squared_error = 0.0\\nsamples = 1\\nvalue = 6.745'),\n",
       " Text(0.7615384615384615, 0.15625, 'x[0] <= 10.5\\nsquared_error = 0.005\\nsamples = 3\\nvalue = 6.645'),\n",
       " Text(0.7538461538461538, 0.09375, 'squared_error = 0.0\\nsamples = 1\\nvalue = 6.586'),\n",
       " Text(0.7692307692307693, 0.09375, 'x[1] <= 131.0\\nsquared_error = 0.005\\nsamples = 2\\nvalue = 6.674'),\n",
       " Text(0.7615384615384615, 0.03125, 'squared_error = 0.0\\nsamples = 1\\nvalue = 6.603'),\n",
       " Text(0.7769230769230769, 0.03125, 'squared_error = 0.0\\nsamples = 1\\nvalue = 6.745'),\n",
       " Text(0.7692307692307693, 0.21875, 'squared_error = -0.0\\nsamples = 1\\nvalue = 6.774'),\n",
       " Text(0.7769230769230769, 0.40625, 'x[0] <= 9.5\\nsquared_error = 0.095\\nsamples = 2\\nvalue = 6.522'),\n",
       " Text(0.7692307692307693, 0.34375, 'squared_error = 0.0\\nsamples = 1\\nvalue = 6.83'),\n",
       " Text(0.7846153846153846, 0.34375, 'squared_error = 0.0\\nsamples = 1\\nvalue = 6.215'),\n",
       " Text(0.8, 0.59375, 'x[0] <= 8.0\\nsquared_error = 0.186\\nsamples = 4\\nvalue = 7.306'),\n",
       " Text(0.7846153846153846, 0.53125, 'x[1] <= 148.0\\nsquared_error = 0.065\\nsamples = 2\\nvalue = 6.923'),\n",
       " Text(0.7769230769230769, 0.46875, 'squared_error = 0.0\\nsamples = 1\\nvalue = 7.178'),\n",
       " Text(0.7923076923076923, 0.46875, 'squared_error = -0.0\\nsamples = 1\\nvalue = 6.669'),\n",
       " Text(0.8153846153846154, 0.53125, 'x[1] <= 147.5\\nsquared_error = 0.014\\nsamples = 2\\nvalue = 7.689'),\n",
       " Text(0.8076923076923077, 0.46875, 'squared_error = 0.0\\nsamples = 1\\nvalue = 7.57'),\n",
       " Text(0.823076923076923, 0.46875, 'squared_error = -0.0\\nsamples = 1\\nvalue = 7.808'),\n",
       " Text(0.8730769230769231, 0.65625, 'x[1] <= 163.5\\nsquared_error = 0.146\\nsamples = 10\\nvalue = 6.555'),\n",
       " Text(0.8384615384615385, 0.59375, 'x[1] <= 155.5\\nsquared_error = 0.014\\nsamples = 4\\nvalue = 6.204'),\n",
       " Text(0.8307692307692308, 0.53125, 'squared_error = 0.0\\nsamples = 1\\nvalue = 6.363'),\n",
       " Text(0.8461538461538461, 0.53125, 'x[1] <= 158.0\\nsquared_error = 0.007\\nsamples = 3\\nvalue = 6.151'),\n",
       " Text(0.8384615384615385, 0.46875, 'squared_error = 0.0\\nsamples = 1\\nvalue = 6.04'),\n",
       " Text(0.8538461538461538, 0.46875, 'x[0] <= 8.0\\nsquared_error = 0.002\\nsamples = 2\\nvalue = 6.206'),\n",
       " Text(0.8461538461538461, 0.40625, 'squared_error = 0.0\\nsamples = 1\\nvalue = 6.163'),\n",
       " Text(0.8615384615384616, 0.40625, 'squared_error = 0.0\\nsamples = 1\\nvalue = 6.248'),\n",
       " Text(0.9076923076923077, 0.59375, 'x[0] <= 8.5\\nsquared_error = 0.096\\nsamples = 6\\nvalue = 6.789'),\n",
       " Text(0.8923076923076924, 0.53125, 'x[0] <= 7.5\\nsquared_error = 0.107\\nsamples = 4\\nvalue = 6.684'),\n",
       " Text(0.8846153846153846, 0.46875, 'x[1] <= 172.0\\nsquared_error = 0.067\\nsamples = 3\\nvalue = 6.822'),\n",
       " Text(0.8769230769230769, 0.40625, 'x[0] <= 6.5\\nsquared_error = 0.017\\nsamples = 2\\nvalue = 6.989'),\n",
       " Text(0.8692307692307693, 0.34375, 'squared_error = 0.0\\nsamples = 1\\nvalue = 7.121'),\n",
       " Text(0.8846153846153846, 0.34375, 'squared_error = 0.0\\nsamples = 1\\nvalue = 6.856'),\n",
       " Text(0.8923076923076924, 0.40625, 'squared_error = -0.0\\nsamples = 1\\nvalue = 6.488'),\n",
       " Text(0.9, 0.46875, 'squared_error = 0.0\\nsamples = 1\\nvalue = 6.273'),\n",
       " Text(0.9230769230769231, 0.53125, 'x[0] <= 10.0\\nsquared_error = 0.008\\nsamples = 2\\nvalue = 6.999'),\n",
       " Text(0.9153846153846154, 0.46875, 'squared_error = 0.0\\nsamples = 1\\nvalue = 7.09'),\n",
       " Text(0.9307692307692308, 0.46875, 'squared_error = -0.0\\nsamples = 1\\nvalue = 6.908'),\n",
       " Text(0.9692307692307692, 0.71875, 'x[1] <= 187.0\\nsquared_error = 0.158\\nsamples = 14\\nvalue = 7.035'),\n",
       " Text(0.9615384615384616, 0.65625, 'x[1] <= 129.0\\nsquared_error = 0.123\\nsamples = 13\\nvalue = 6.977'),\n",
       " Text(0.9538461538461539, 0.59375, 'squared_error = 0.0\\nsamples = 1\\nvalue = 7.563'),\n",
       " Text(0.9692307692307692, 0.59375, 'x[1] <= 164.5\\nsquared_error = 0.102\\nsamples = 12\\nvalue = 6.928'),\n",
       " Text(0.9538461538461539, 0.53125, 'x[0] <= 17.5\\nsquared_error = 0.087\\nsamples = 10\\nvalue = 6.869'),\n",
       " Text(0.9461538461538461, 0.46875, 'x[1] <= 152.0\\nsquared_error = 0.076\\nsamples = 9\\nvalue = 6.823'),\n",
       " Text(0.9307692307692308, 0.40625, 'x[0] <= 13.5\\nsquared_error = 0.084\\nsamples = 7\\nvalue = 6.877'),\n",
       " Text(0.9230769230769231, 0.34375, 'squared_error = 0.0\\nsamples = 1\\nvalue = 6.551'),\n",
       " Text(0.9384615384615385, 0.34375, 'x[1] <= 143.5\\nsquared_error = 0.078\\nsamples = 6\\nvalue = 6.931'),\n",
       " Text(0.9230769230769231, 0.28125, 'x[1] <= 135.0\\nsquared_error = 0.007\\nsamples = 4\\nvalue = 6.787'),\n",
       " Text(0.9153846153846154, 0.21875, 'squared_error = 0.0\\nsamples = 1\\nvalue = 6.651'),\n",
       " Text(0.9307692307692308, 0.21875, 'x[0] <= 14.5\\nsquared_error = 0.001\\nsamples = 3\\nvalue = 6.833'),\n",
       " Text(0.9230769230769231, 0.15625, 'squared_error = 0.0\\nsamples = 1\\nvalue = 6.802'),\n",
       " Text(0.9384615384615385, 0.15625, 'x[1] <= 138.0\\nsquared_error = 0.0\\nsamples = 2\\nvalue = 6.848'),\n",
       " Text(0.9307692307692308, 0.09375, 'squared_error = 0.0\\nsamples = 1\\nvalue = 6.839'),\n",
       " Text(0.9461538461538461, 0.09375, 'squared_error = 0.0\\nsamples = 1\\nvalue = 6.856'),\n",
       " Text(0.9538461538461539, 0.28125, 'x[1] <= 149.0\\nsquared_error = 0.097\\nsamples = 2\\nvalue = 7.218'),\n",
       " Text(0.9461538461538461, 0.21875, 'squared_error = 0.0\\nsamples = 1\\nvalue = 7.529'),\n",
       " Text(0.9615384615384616, 0.21875, 'squared_error = 0.0\\nsamples = 1\\nvalue = 6.908'),\n",
       " Text(0.9615384615384616, 0.40625, 'x[1] <= 156.0\\nsquared_error = 0.0\\nsamples = 2\\nvalue = 6.636'),\n",
       " Text(0.9538461538461539, 0.34375, 'squared_error = 0.0\\nsamples = 1\\nvalue = 6.62'),\n",
       " Text(0.9692307692307692, 0.34375, 'squared_error = -0.0\\nsamples = 1\\nvalue = 6.653'),\n",
       " Text(0.9615384615384616, 0.46875, 'squared_error = 0.0\\nsamples = 1\\nvalue = 7.279'),\n",
       " Text(0.9846153846153847, 0.53125, 'x[1] <= 172.5\\nsquared_error = 0.075\\nsamples = 2\\nvalue = 7.222'),\n",
       " Text(0.9769230769230769, 0.46875, 'squared_error = 0.0\\nsamples = 1\\nvalue = 7.496'),\n",
       " Text(0.9923076923076923, 0.46875, 'squared_error = -0.0\\nsamples = 1\\nvalue = 6.949'),\n",
       " Text(0.9769230769230769, 0.65625, 'squared_error = 0.0\\nsamples = 1\\nvalue = 7.788'),\n",
       " Text(0.9100961538461538, 0.78125, 'squared_error = -0.0\\nsamples = 1\\nvalue = 4.5')]"
      ]
     },
     "execution_count": 14,
     "metadata": {},
     "output_type": "execute_result"
    },
    {
     "data": {
      "image/png": "[encoded data removed]",
      "text/plain": [
       "<Figure size 640x480 with 1 Axes>"
      ]
     },
     "metadata": {},
     "output_type": "display_data"
    }
   ],
   "source": [
    "tree.plot_tree(Tree)"
   ]
  },
  {
   "cell_type": "markdown",
   "metadata": {},
   "source": [
    "Przejrzysty zapis otrzymanego drzewa"
   ]
  },
  {
   "cell_type": "code",
   "execution_count": 15,
   "metadata": {},
   "outputs": [
    {
     "name": "stdout",
     "output_type": "stream",
     "text": [
      "|--- feature_0 <= 5.50\n",
      "|   |--- feature_1 <= 113.50\n",
      "|   |   |--- feature_1 <= 20.50\n",
      "|   |   |   |--- value: [7.66]\n",
      "|   |   |--- feature_1 >  20.50\n",
      "|   |   |   |--- feature_0 <= 3.50\n",
      "|   |   |   |   |--- feature_0 <= 2.50\n",
      "|   |   |   |   |   |--- feature_1 <= 80.00\n",
      "|   |   |   |   |   |   |--- feature_1 <= 47.00\n",
      "|   |   |   |   |   |   |   |--- value: [4.55]\n",
      "|   |   |   |   |   |   |--- feature_1 >  47.00\n",
      "|   |   |   |   |   |   |   |--- feature_1 <= 54.50\n",
      "|   |   |   |   |   |   |   |   |--- value: [4.25]\n",
      "|   |   |   |   |   |   |   |--- feature_1 >  54.50\n",
      "|   |   |   |   |   |   |   |   |--- feature_1 <= 67.00\n",
      "|   |   |   |   |   |   |   |   |   |--- value: [4.50]\n",
      "|   |   |   |   |   |   |   |   |--- feature_1 >  67.00\n",
      "|   |   |   |   |   |   |   |   |   |--- value: [4.25]\n",
      "|   |   |   |   |   |--- feature_1 >  80.00\n",
      "|   |   |   |   |   |   |--- feature_1 <= 111.00\n",
      "|   |   |   |   |   |   |   |--- feature_1 <= 106.00\n",
      "|   |   |   |   |   |   |   |   |--- feature_1 <= 86.50\n",
      "|   |   |   |   |   |   |   |   |   |--- value: [4.70]\n",
      "|   |   |   |   |   |   |   |   |--- feature_1 >  86.50\n",
      "|   |   |   |   |   |   |   |   |   |--- feature_1 <= 89.50\n",
      "|   |   |   |   |   |   |   |   |   |   |--- value: [4.52]\n",
      "|   |   |   |   |   |   |   |   |   |--- feature_1 >  89.50\n",
      "|   |   |   |   |   |   |   |   |   |   |--- feature_1 <= 102.00\n",
      "|   |   |   |   |   |   |   |   |   |   |   |--- truncated branch of depth 2\n",
      "|   |   |   |   |   |   |   |   |   |   |--- feature_1 >  102.00\n",
      "|   |   |   |   |   |   |   |   |   |   |   |--- value: [4.65]\n",
      "|   |   |   |   |   |   |   |--- feature_1 >  106.00\n",
      "|   |   |   |   |   |   |   |   |--- value: [4.74]\n",
      "|   |   |   |   |   |   |--- feature_1 >  111.00\n",
      "|   |   |   |   |   |   |   |--- value: [4.50]\n",
      "|   |   |   |   |--- feature_0 >  2.50\n",
      "|   |   |   |   |   |--- feature_1 <= 87.00\n",
      "|   |   |   |   |   |   |--- feature_1 <= 41.50\n",
      "|   |   |   |   |   |   |   |--- value: [4.50]\n",
      "|   |   |   |   |   |   |--- feature_1 >  41.50\n",
      "|   |   |   |   |   |   |   |--- feature_1 <= 65.50\n",
      "|   |   |   |   |   |   |   |   |--- feature_1 <= 50.00\n",
      "|   |   |   |   |   |   |   |   |   |--- value: [4.79]\n",
      "|   |   |   |   |   |   |   |   |--- feature_1 >  50.00\n",
      "|   |   |   |   |   |   |   |   |   |--- feature_1 <= 58.50\n",
      "|   |   |   |   |   |   |   |   |   |   |--- value: [4.94]\n",
      "|   |   |   |   |   |   |   |   |   |--- feature_1 >  58.50\n",
      "|   |   |   |   |   |   |   |   |   |   |--- value: [4.92]\n",
      "|   |   |   |   |   |   |   |--- feature_1 >  65.50\n",
      "|   |   |   |   |   |   |   |   |--- value: [4.61]\n",
      "|   |   |   |   |   |--- feature_1 >  87.00\n",
      "|   |   |   |   |   |   |--- feature_1 <= 104.50\n",
      "|   |   |   |   |   |   |   |--- value: [5.27]\n",
      "|   |   |   |   |   |   |--- feature_1 >  104.50\n",
      "|   |   |   |   |   |   |   |--- value: [5.37]\n",
      "|   |   |   |--- feature_0 >  3.50\n",
      "|   |   |   |   |--- feature_1 <= 107.50\n",
      "|   |   |   |   |   |--- feature_1 <= 98.00\n",
      "|   |   |   |   |   |   |--- feature_1 <= 74.50\n",
      "|   |   |   |   |   |   |   |--- feature_1 <= 64.00\n",
      "|   |   |   |   |   |   |   |   |--- feature_1 <= 49.50\n",
      "|   |   |   |   |   |   |   |   |   |--- feature_0 <= 4.50\n",
      "|   |   |   |   |   |   |   |   |   |   |--- value: [5.19]\n",
      "|   |   |   |   |   |   |   |   |   |--- feature_0 >  4.50\n",
      "|   |   |   |   |   |   |   |   |   |   |--- value: [5.16]\n",
      "|   |   |   |   |   |   |   |   |--- feature_1 >  49.50\n",
      "|   |   |   |   |   |   |   |   |   |--- feature_0 <= 4.50\n",
      "|   |   |   |   |   |   |   |   |   |   |--- feature_1 <= 54.50\n",
      "|   |   |   |   |   |   |   |   |   |   |   |--- value: [5.42]\n",
      "|   |   |   |   |   |   |   |   |   |   |--- feature_1 >  54.50\n",
      "|   |   |   |   |   |   |   |   |   |   |   |--- value: [5.44]\n",
      "|   |   |   |   |   |   |   |   |   |--- feature_0 >  4.50\n",
      "|   |   |   |   |   |   |   |   |   |   |--- value: [5.25]\n",
      "|   |   |   |   |   |   |   |--- feature_1 >  64.00\n",
      "|   |   |   |   |   |   |   |   |--- feature_1 <= 72.50\n",
      "|   |   |   |   |   |   |   |   |   |--- value: [4.87]\n",
      "|   |   |   |   |   |   |   |   |--- feature_1 >  72.50\n",
      "|   |   |   |   |   |   |   |   |   |--- value: [4.70]\n",
      "|   |   |   |   |   |   |--- feature_1 >  74.50\n",
      "|   |   |   |   |   |   |   |--- feature_0 <= 4.50\n",
      "|   |   |   |   |   |   |   |   |--- feature_1 <= 96.50\n",
      "|   |   |   |   |   |   |   |   |   |--- feature_1 <= 86.00\n",
      "|   |   |   |   |   |   |   |   |   |   |--- value: [5.48]\n",
      "|   |   |   |   |   |   |   |   |   |--- feature_1 >  86.00\n",
      "|   |   |   |   |   |   |   |   |   |   |--- value: [5.62]\n",
      "|   |   |   |   |   |   |   |   |--- feature_1 >  96.50\n",
      "|   |   |   |   |   |   |   |   |   |--- value: [5.35]\n",
      "|   |   |   |   |   |   |   |--- feature_0 >  4.50\n",
      "|   |   |   |   |   |   |   |   |--- feature_1 <= 83.50\n",
      "|   |   |   |   |   |   |   |   |   |--- feature_1 <= 82.50\n",
      "|   |   |   |   |   |   |   |   |   |   |--- value: [6.05]\n",
      "|   |   |   |   |   |   |   |   |   |--- feature_1 >  82.50\n",
      "|   |   |   |   |   |   |   |   |   |   |--- value: [6.07]\n",
      "|   |   |   |   |   |   |   |   |--- feature_1 >  83.50\n",
      "|   |   |   |   |   |   |   |   |   |--- value: [5.99]\n",
      "|   |   |   |   |   |--- feature_1 >  98.00\n",
      "|   |   |   |   |   |   |--- feature_0 <= 4.50\n",
      "|   |   |   |   |   |   |   |--- value: [4.47]\n",
      "|   |   |   |   |   |   |--- feature_0 >  4.50\n",
      "|   |   |   |   |   |   |   |--- value: [4.38]\n",
      "|   |   |   |   |--- feature_1 >  107.50\n",
      "|   |   |   |   |   |--- value: [6.05]\n",
      "|   |--- feature_1 >  113.50\n",
      "|   |   |--- feature_0 <= 4.50\n",
      "|   |   |   |--- feature_1 <= 131.00\n",
      "|   |   |   |   |--- feature_1 <= 122.50\n",
      "|   |   |   |   |   |--- feature_1 <= 114.50\n",
      "|   |   |   |   |   |   |--- value: [6.16]\n",
      "|   |   |   |   |   |--- feature_1 >  114.50\n",
      "|   |   |   |   |   |   |--- feature_1 <= 120.00\n",
      "|   |   |   |   |   |   |   |--- feature_0 <= 3.50\n",
      "|   |   |   |   |   |   |   |   |--- value: [5.70]\n",
      "|   |   |   |   |   |   |   |--- feature_0 >  3.50\n",
      "|   |   |   |   |   |   |   |   |--- value: [5.04]\n",
      "|   |   |   |   |   |   |--- feature_1 >  120.00\n",
      "|   |   |   |   |   |   |   |--- value: [5.86]\n",
      "|   |   |   |   |--- feature_1 >  122.50\n",
      "|   |   |   |   |   |--- feature_0 <= 3.50\n",
      "|   |   |   |   |   |   |--- value: [6.17]\n",
      "|   |   |   |   |   |--- feature_0 >  3.50\n",
      "|   |   |   |   |   |   |--- value: [7.11]\n",
      "|   |   |   |--- feature_1 >  131.00\n",
      "|   |   |   |   |--- feature_1 <= 154.50\n",
      "|   |   |   |   |   |--- feature_0 <= 3.50\n",
      "|   |   |   |   |   |   |--- feature_0 <= 2.50\n",
      "|   |   |   |   |   |   |   |--- feature_0 <= 1.50\n",
      "|   |   |   |   |   |   |   |   |--- value: [5.15]\n",
      "|   |   |   |   |   |   |   |--- feature_0 >  1.50\n",
      "|   |   |   |   |   |   |   |   |--- value: [5.16]\n",
      "|   |   |   |   |   |   |--- feature_0 >  2.50\n",
      "|   |   |   |   |   |   |   |--- feature_1 <= 142.00\n",
      "|   |   |   |   |   |   |   |   |--- value: [5.37]\n",
      "|   |   |   |   |   |   |   |--- feature_1 >  142.00\n",
      "|   |   |   |   |   |   |   |   |--- value: [5.37]\n",
      "|   |   |   |   |   |--- feature_0 >  3.50\n",
      "|   |   |   |   |   |   |--- feature_1 <= 141.00\n",
      "|   |   |   |   |   |   |   |--- value: [5.30]\n",
      "|   |   |   |   |   |   |--- feature_1 >  141.00\n",
      "|   |   |   |   |   |   |   |--- value: [4.65]\n",
      "|   |   |   |   |--- feature_1 >  154.50\n",
      "|   |   |   |   |   |--- feature_1 <= 160.00\n",
      "|   |   |   |   |   |   |--- value: [6.46]\n",
      "|   |   |   |   |   |--- feature_1 >  160.00\n",
      "|   |   |   |   |   |   |--- feature_1 <= 206.50\n",
      "|   |   |   |   |   |   |   |--- feature_1 <= 183.50\n",
      "|   |   |   |   |   |   |   |   |--- feature_0 <= 3.50\n",
      "|   |   |   |   |   |   |   |   |   |--- value: [5.30]\n",
      "|   |   |   |   |   |   |   |   |--- feature_0 >  3.50\n",
      "|   |   |   |   |   |   |   |   |   |--- value: [5.35]\n",
      "|   |   |   |   |   |   |   |--- feature_1 >  183.50\n",
      "|   |   |   |   |   |   |   |   |--- value: [5.52]\n",
      "|   |   |   |   |   |   |--- feature_1 >  206.50\n",
      "|   |   |   |   |   |   |   |--- value: [5.86]\n",
      "|   |   |--- feature_0 >  4.50\n",
      "|   |   |   |--- feature_1 <= 148.50\n",
      "|   |   |   |   |--- feature_1 <= 133.00\n",
      "|   |   |   |   |   |--- value: [6.55]\n",
      "|   |   |   |   |--- feature_1 >  133.00\n",
      "|   |   |   |   |   |--- value: [5.99]\n",
      "|   |   |   |--- feature_1 >  148.50\n",
      "|   |   |   |   |--- feature_1 <= 163.00\n",
      "|   |   |   |   |   |--- value: [6.50]\n",
      "|   |   |   |   |--- feature_1 >  163.00\n",
      "|   |   |   |   |   |--- feature_1 <= 176.00\n",
      "|   |   |   |   |   |   |--- value: [6.42]\n",
      "|   |   |   |   |   |--- feature_1 >  176.00\n",
      "|   |   |   |   |   |   |--- value: [6.45]\n",
      "|--- feature_0 >  5.50\n",
      "|   |--- feature_1 <= 111.00\n",
      "|   |   |--- feature_1 <= 53.50\n",
      "|   |   |   |--- feature_0 <= 10.00\n",
      "|   |   |   |   |--- feature_0 <= 7.00\n",
      "|   |   |   |   |   |--- value: [5.58]\n",
      "|   |   |   |   |--- feature_0 >  7.00\n",
      "|   |   |   |   |   |--- feature_0 <= 8.50\n",
      "|   |   |   |   |   |   |--- value: [4.91]\n",
      "|   |   |   |   |   |--- feature_0 >  8.50\n",
      "|   |   |   |   |   |   |--- value: [5.16]\n",
      "|   |   |   |--- feature_0 >  10.00\n",
      "|   |   |   |   |--- feature_0 <= 12.50\n",
      "|   |   |   |   |   |--- value: [6.11]\n",
      "|   |   |   |   |--- feature_0 >  12.50\n",
      "|   |   |   |   |   |--- feature_0 <= 15.00\n",
      "|   |   |   |   |   |   |--- value: [5.62]\n",
      "|   |   |   |   |   |--- feature_0 >  15.00\n",
      "|   |   |   |   |   |   |--- feature_1 <= 42.50\n",
      "|   |   |   |   |   |   |   |--- value: [5.56]\n",
      "|   |   |   |   |   |   |--- feature_1 >  42.50\n",
      "|   |   |   |   |   |   |   |--- value: [5.62]\n",
      "|   |   |--- feature_1 >  53.50\n",
      "|   |   |   |--- feature_1 <= 57.50\n",
      "|   |   |   |   |--- value: [7.17]\n",
      "|   |   |   |--- feature_1 >  57.50\n",
      "|   |   |   |   |--- feature_0 <= 17.00\n",
      "|   |   |   |   |   |--- feature_0 <= 15.50\n",
      "|   |   |   |   |   |   |--- feature_0 <= 11.00\n",
      "|   |   |   |   |   |   |   |--- feature_1 <= 84.50\n",
      "|   |   |   |   |   |   |   |   |--- feature_1 <= 70.50\n",
      "|   |   |   |   |   |   |   |   |   |--- feature_1 <= 64.00\n",
      "|   |   |   |   |   |   |   |   |   |   |--- value: [6.55]\n",
      "|   |   |   |   |   |   |   |   |   |--- feature_1 >  64.00\n",
      "|   |   |   |   |   |   |   |   |   |   |--- value: [6.05]\n",
      "|   |   |   |   |   |   |   |   |--- feature_1 >  70.50\n",
      "|   |   |   |   |   |   |   |   |   |--- feature_0 <= 8.50\n",
      "|   |   |   |   |   |   |   |   |   |   |--- feature_1 <= 80.50\n",
      "|   |   |   |   |   |   |   |   |   |   |   |--- truncated branch of depth 3\n",
      "|   |   |   |   |   |   |   |   |   |   |--- feature_1 >  80.50\n",
      "|   |   |   |   |   |   |   |   |   |   |   |--- value: [6.26]\n",
      "|   |   |   |   |   |   |   |   |   |--- feature_0 >  8.50\n",
      "|   |   |   |   |   |   |   |   |   |   |--- value: [6.68]\n",
      "|   |   |   |   |   |   |   |--- feature_1 >  84.50\n",
      "|   |   |   |   |   |   |   |   |--- feature_1 <= 103.50\n",
      "|   |   |   |   |   |   |   |   |   |--- feature_0 <= 6.50\n",
      "|   |   |   |   |   |   |   |   |   |   |--- value: [5.78]\n",
      "|   |   |   |   |   |   |   |   |   |--- feature_0 >  6.50\n",
      "|   |   |   |   |   |   |   |   |   |   |--- value: [5.70]\n",
      "|   |   |   |   |   |   |   |   |--- feature_1 >  103.50\n",
      "|   |   |   |   |   |   |   |   |   |--- feature_1 <= 107.00\n",
      "|   |   |   |   |   |   |   |   |   |   |--- value: [6.62]\n",
      "|   |   |   |   |   |   |   |   |   |--- feature_1 >  107.00\n",
      "|   |   |   |   |   |   |   |   |   |   |--- value: [6.19]\n",
      "|   |   |   |   |   |   |--- feature_0 >  11.00\n",
      "|   |   |   |   |   |   |   |--- feature_1 <= 73.50\n",
      "|   |   |   |   |   |   |   |   |--- feature_0 <= 13.50\n",
      "|   |   |   |   |   |   |   |   |   |--- value: [5.42]\n",
      "|   |   |   |   |   |   |   |   |--- feature_0 >  13.50\n",
      "|   |   |   |   |   |   |   |   |   |--- value: [6.00]\n",
      "|   |   |   |   |   |   |   |--- feature_1 >  73.50\n",
      "|   |   |   |   |   |   |   |   |--- feature_1 <= 91.00\n",
      "|   |   |   |   |   |   |   |   |   |--- feature_1 <= 79.50\n",
      "|   |   |   |   |   |   |   |   |   |   |--- feature_1 <= 77.50\n",
      "|   |   |   |   |   |   |   |   |   |   |   |--- value: [6.11]\n",
      "|   |   |   |   |   |   |   |   |   |   |--- feature_1 >  77.50\n",
      "|   |   |   |   |   |   |   |   |   |   |   |--- value: [6.03]\n",
      "|   |   |   |   |   |   |   |   |   |--- feature_1 >  79.50\n",
      "|   |   |   |   |   |   |   |   |   |   |--- value: [6.16]\n",
      "|   |   |   |   |   |   |   |   |--- feature_1 >  91.00\n",
      "|   |   |   |   |   |   |   |   |   |--- feature_0 <= 13.50\n",
      "|   |   |   |   |   |   |   |   |   |   |--- value: [6.51]\n",
      "|   |   |   |   |   |   |   |   |   |--- feature_0 >  13.50\n",
      "|   |   |   |   |   |   |   |   |   |   |--- value: [6.06]\n",
      "|   |   |   |   |   |--- feature_0 >  15.50\n",
      "|   |   |   |   |   |   |--- feature_1 <= 73.50\n",
      "|   |   |   |   |   |   |   |--- value: [6.96]\n",
      "|   |   |   |   |   |   |--- feature_1 >  73.50\n",
      "|   |   |   |   |   |   |   |--- value: [6.55]\n",
      "|   |   |   |   |--- feature_0 >  17.00\n",
      "|   |   |   |   |   |--- value: [5.78]\n",
      "|   |--- feature_1 >  111.00\n",
      "|   |   |--- feature_1 <= 205.00\n",
      "|   |   |   |--- feature_0 <= 12.50\n",
      "|   |   |   |   |--- feature_1 <= 152.50\n",
      "|   |   |   |   |   |--- feature_1 <= 142.50\n",
      "|   |   |   |   |   |   |--- feature_0 <= 6.50\n",
      "|   |   |   |   |   |   |   |--- value: [6.31]\n",
      "|   |   |   |   |   |   |--- feature_0 >  6.50\n",
      "|   |   |   |   |   |   |   |--- feature_0 <= 7.50\n",
      "|   |   |   |   |   |   |   |   |--- feature_1 <= 123.00\n",
      "|   |   |   |   |   |   |   |   |   |--- feature_1 <= 115.50\n",
      "|   |   |   |   |   |   |   |   |   |   |--- value: [6.62]\n",
      "|   |   |   |   |   |   |   |   |   |--- feature_1 >  115.50\n",
      "|   |   |   |   |   |   |   |   |   |   |--- value: [6.77]\n",
      "|   |   |   |   |   |   |   |   |--- feature_1 >  123.00\n",
      "|   |   |   |   |   |   |   |   |   |--- value: [7.08]\n",
      "|   |   |   |   |   |   |   |--- feature_0 >  7.50\n",
      "|   |   |   |   |   |   |   |   |--- feature_1 <= 138.50\n",
      "|   |   |   |   |   |   |   |   |   |--- feature_0 <= 8.50\n",
      "|   |   |   |   |   |   |   |   |   |   |--- value: [6.40]\n",
      "|   |   |   |   |   |   |   |   |   |--- feature_0 >  8.50\n",
      "|   |   |   |   |   |   |   |   |   |   |--- feature_1 <= 116.00\n",
      "|   |   |   |   |   |   |   |   |   |   |   |--- value: [6.61]\n",
      "|   |   |   |   |   |   |   |   |   |   |--- feature_1 >  116.00\n",
      "|   |   |   |   |   |   |   |   |   |   |   |--- truncated branch of depth 5\n",
      "|   |   |   |   |   |   |   |   |--- feature_1 >  138.50\n",
      "|   |   |   |   |   |   |   |   |   |--- feature_0 <= 9.50\n",
      "|   |   |   |   |   |   |   |   |   |   |--- value: [6.83]\n",
      "|   |   |   |   |   |   |   |   |   |--- feature_0 >  9.50\n",
      "|   |   |   |   |   |   |   |   |   |   |--- value: [6.21]\n",
      "|   |   |   |   |   |--- feature_1 >  142.50\n",
      "|   |   |   |   |   |   |--- feature_0 <= 8.00\n",
      "|   |   |   |   |   |   |   |--- feature_1 <= 148.00\n",
      "|   |   |   |   |   |   |   |   |--- value: [7.18]\n",
      "|   |   |   |   |   |   |   |--- feature_1 >  148.00\n",
      "|   |   |   |   |   |   |   |   |--- value: [6.67]\n",
      "|   |   |   |   |   |   |--- feature_0 >  8.00\n",
      "|   |   |   |   |   |   |   |--- feature_1 <= 147.50\n",
      "|   |   |   |   |   |   |   |   |--- value: [7.57]\n",
      "|   |   |   |   |   |   |   |--- feature_1 >  147.50\n",
      "|   |   |   |   |   |   |   |   |--- value: [7.81]\n",
      "|   |   |   |   |--- feature_1 >  152.50\n",
      "|   |   |   |   |   |--- feature_1 <= 163.50\n",
      "|   |   |   |   |   |   |--- feature_1 <= 155.50\n",
      "|   |   |   |   |   |   |   |--- value: [6.36]\n",
      "|   |   |   |   |   |   |--- feature_1 >  155.50\n",
      "|   |   |   |   |   |   |   |--- feature_1 <= 158.00\n",
      "|   |   |   |   |   |   |   |   |--- value: [6.04]\n",
      "|   |   |   |   |   |   |   |--- feature_1 >  158.00\n",
      "|   |   |   |   |   |   |   |   |--- feature_0 <= 8.00\n",
      "|   |   |   |   |   |   |   |   |   |--- value: [6.16]\n",
      "|   |   |   |   |   |   |   |   |--- feature_0 >  8.00\n",
      "|   |   |   |   |   |   |   |   |   |--- value: [6.25]\n",
      "|   |   |   |   |   |--- feature_1 >  163.50\n",
      "|   |   |   |   |   |   |--- feature_0 <= 8.50\n",
      "|   |   |   |   |   |   |   |--- feature_0 <= 7.50\n",
      "|   |   |   |   |   |   |   |   |--- feature_1 <= 172.00\n",
      "|   |   |   |   |   |   |   |   |   |--- feature_0 <= 6.50\n",
      "|   |   |   |   |   |   |   |   |   |   |--- value: [7.12]\n",
      "|   |   |   |   |   |   |   |   |   |--- feature_0 >  6.50\n",
      "|   |   |   |   |   |   |   |   |   |   |--- value: [6.86]\n",
      "|   |   |   |   |   |   |   |   |--- feature_1 >  172.00\n",
      "|   |   |   |   |   |   |   |   |   |--- value: [6.49]\n",
      "|   |   |   |   |   |   |   |--- feature_0 >  7.50\n",
      "|   |   |   |   |   |   |   |   |--- value: [6.27]\n",
      "|   |   |   |   |   |   |--- feature_0 >  8.50\n",
      "|   |   |   |   |   |   |   |--- feature_0 <= 10.00\n",
      "|   |   |   |   |   |   |   |   |--- value: [7.09]\n",
      "|   |   |   |   |   |   |   |--- feature_0 >  10.00\n",
      "|   |   |   |   |   |   |   |   |--- value: [6.91]\n",
      "|   |   |   |--- feature_0 >  12.50\n",
      "|   |   |   |   |--- feature_1 <= 187.00\n",
      "|   |   |   |   |   |--- feature_1 <= 129.00\n",
      "|   |   |   |   |   |   |--- value: [7.56]\n",
      "|   |   |   |   |   |--- feature_1 >  129.00\n",
      "|   |   |   |   |   |   |--- feature_1 <= 164.50\n",
      "|   |   |   |   |   |   |   |--- feature_0 <= 17.50\n",
      "|   |   |   |   |   |   |   |   |--- feature_1 <= 152.00\n",
      "|   |   |   |   |   |   |   |   |   |--- feature_0 <= 13.50\n",
      "|   |   |   |   |   |   |   |   |   |   |--- value: [6.55]\n",
      "|   |   |   |   |   |   |   |   |   |--- feature_0 >  13.50\n",
      "|   |   |   |   |   |   |   |   |   |   |--- feature_1 <= 143.50\n",
      "|   |   |   |   |   |   |   |   |   |   |   |--- truncated branch of depth 4\n",
      "|   |   |   |   |   |   |   |   |   |   |--- feature_1 >  143.50\n",
      "|   |   |   |   |   |   |   |   |   |   |   |--- truncated branch of depth 2\n",
      "|   |   |   |   |   |   |   |   |--- feature_1 >  152.00\n",
      "|   |   |   |   |   |   |   |   |   |--- feature_1 <= 156.00\n",
      "|   |   |   |   |   |   |   |   |   |   |--- value: [6.62]\n",
      "|   |   |   |   |   |   |   |   |   |--- feature_1 >  156.00\n",
      "|   |   |   |   |   |   |   |   |   |   |--- value: [6.65]\n",
      "|   |   |   |   |   |   |   |--- feature_0 >  17.50\n",
      "|   |   |   |   |   |   |   |   |--- value: [7.28]\n",
      "|   |   |   |   |   |   |--- feature_1 >  164.50\n",
      "|   |   |   |   |   |   |   |--- feature_1 <= 172.50\n",
      "|   |   |   |   |   |   |   |   |--- value: [7.50]\n",
      "|   |   |   |   |   |   |   |--- feature_1 >  172.50\n",
      "|   |   |   |   |   |   |   |   |--- value: [6.95]\n",
      "|   |   |   |   |--- feature_1 >  187.00\n",
      "|   |   |   |   |   |--- value: [7.79]\n",
      "|   |   |--- feature_1 >  205.00\n",
      "|   |   |   |--- value: [4.50]\n",
      "\n"
     ]
    }
   ],
   "source": [
    "from sklearn.tree import export_text\n",
    "t = export_text(Tree)\n",
    "print(t)"
   ]
  },
  {
   "cell_type": "markdown",
   "metadata": {},
   "source": [
    "##### Drzewo o trzech liściach\n",
    "Poprzez wskazywanie hiperparametrów możemy manipulować skompliowaniem i jakością modelu drzewa.\n",
    "Zbudujmy drzewo o hiperparametrze `max_leaf_nodes` = 3."
   ]
  },
  {
   "cell_type": "code",
   "execution_count": 16,
   "metadata": {},
   "outputs": [],
   "source": [
    "Tree3 = tree.DecisionTreeRegressor(max_leaf_nodes=3)\n",
    "Tree3 = Tree3.fit(X_train, y_train)"
   ]
  },
  {
   "cell_type": "code",
   "execution_count": 17,
   "metadata": {},
   "outputs": [
    {
     "data": {
      "text/plain": [
       "[Text(0.4, 0.8333333333333334, 'Years <= 5.5\\nsquared_error = 0.803\\nsamples = 131\\nvalue = 5.962'),\n",
       " Text(0.2, 0.5, 'squared_error = 0.556\\nsamples = 59\\nvalue = 5.325'),\n",
       " Text(0.6, 0.5, 'Hits <= 111.0\\nsquared_error = 0.4\\nsamples = 72\\nvalue = 6.484'),\n",
       " Text(0.4, 0.16666666666666666, 'squared_error = 0.263\\nsamples = 30\\nvalue = 6.093'),\n",
       " Text(0.8, 0.16666666666666666, 'squared_error = 0.31\\nsamples = 42\\nvalue = 6.763')]"
      ]
     },
     "execution_count": 17,
     "metadata": {},
     "output_type": "execute_result"
    },
    {
     "data": {
      "image/png": "[encoded data removed]",
      "text/plain": [
       "<Figure size 640x480 with 1 Axes>"
      ]
     },
     "metadata": {},
     "output_type": "display_data"
    }
   ],
   "source": [
    "tree.plot_tree(Tree3, feature_names=Tree3.feature_names_in_.tolist())"
   ]
  },
  {
   "cell_type": "markdown",
   "metadata": {},
   "source": [
    "### Regiony \n",
    "\n",
    "<img src=\"Five-Region-Examples.png\" alt=\"drawing\" width=\"400\"/>\n",
    "\n",
    "###### Źródło:  James, G., Witten, D., Hastie, T., Tibshirani, R., Taylor, J. (2023). An Introduction to Statistical Learning with Applications in Python, Springer Science+Business Media, New York. https://www.statlearning.com/"
   ]
  },
  {
   "cell_type": "markdown",
   "metadata": {},
   "source": [
    "#### *Zadanie 2*\n",
    "-------------------\n",
    "Na podstawie informacji o utworzonym drzewie zdefiniuj regiony $R_1, R_2, R_3$."
   ]
  },
  {
   "cell_type": "markdown",
   "metadata": {},
   "source": [
    "##### *Zadanie 3*\n",
    "-------------------\n"
   ]
  },
  {
   "cell_type": "markdown",
   "metadata": {},
   "source": [
    "Na bazie przedstawionych poniżej regionów narysuj odpowiadające im drzewo decyzyjne.\n",
    "\n",
    "<img src=\"Regions_Task.png\" alt=\"drawing\" width=\"400\"/>\n"
   ]
  },
  {
   "cell_type": "markdown",
   "metadata": {},
   "source": [
    "#### Jak konstruować regiony w przypadku drzewa dla zadania regresji?\n",
    "**Cel**: Znaleźć $R_1, R_2, \\dots, R_J$, które minimalizują $RSS$.\n",
    "\n",
    "$$RSS = \\sum_{j = 1}^{J} \\sum_{i \\in R_j}^{}(y_i - \\hat{y}_{R_j})^2$$"
   ]
  },
  {
   "cell_type": "markdown",
   "metadata": {},
   "source": [
    "Niestety nie jesteśmy w stanie rozpatrzeć wszystkich możliwości - zbyt złożone obliczeniowo."
   ]
  },
  {
   "cell_type": "markdown",
   "metadata": {},
   "source": [
    "Używamy podejścia *top-down, greedy*:\n",
    "- *top-down* - zaczynamy od wszystkich obserwacji w jednym regione i następnie w kolejnych krokach rozdzielamy na mniejsze regiony\n",
    "- *greedy* - na każdym etapie procesu budowania drzewa dokonywany jest najlepszy podział, nie patrzymy w przyszłość"
   ]
  },
  {
   "cell_type": "markdown",
   "metadata": {},
   "source": [
    "Proces powatrzamy do momentu spełnienia kryterium stopu, np. w liściu nie może być mniej niż 5 obserwacji.\n",
    "\n"
   ]
  },
  {
   "cell_type": "markdown",
   "metadata": {},
   "source": [
    "#### 1.3 Predykcja"
   ]
  },
  {
   "cell_type": "markdown",
   "metadata": {},
   "source": [
    "Dla $R_1, R_2, R_3$: "
   ]
  },
  {
   "cell_type": "code",
   "execution_count": 18,
   "metadata": {},
   "outputs": [
    {
     "name": "stdout",
     "output_type": "stream",
     "text": [
      "R1: 205408.36046478315\n",
      "R2: 442747.6637636458\n",
      "R3: 865234.0081512888\n"
     ]
    }
   ],
   "source": [
    "print('R1:', np.exp(5.325)*1000)\n",
    "print('R2:', np.exp(6.093)*1000)\n",
    "print('R3:', np.exp(6.763)*1000)"
   ]
  },
  {
   "cell_type": "code",
   "execution_count": 19,
   "metadata": {},
   "outputs": [],
   "source": [
    "y_pred_test = Tree3.predict(X_test)"
   ]
  },
  {
   "cell_type": "markdown",
   "metadata": {},
   "source": [
    "#### 1.4 Jak dobry jest nasz model (zadanie regresji)?"
   ]
  },
  {
   "cell_type": "markdown",
   "metadata": {},
   "source": [
    "Błąd średniokwadratowy:\n",
    "\n",
    "$MSE = \\frac{1}{n}\\sum_{i=1}^{n}(y_i - \\hat{f}(x_i))^2$,\n",
    "\n",
    "gdzie:\n",
    "\n",
    "$y_i$ - wartość prawdziwa dla $i$-tej obserwacji,\n",
    "\n",
    "$\\hat{f}(x_i)$ jest predykcją modelu dla $i$-tej obserwacji.\n"
   ]
  },
  {
   "cell_type": "code",
   "execution_count": 20,
   "metadata": {},
   "outputs": [
    {
     "data": {
      "text/plain": [
       "348118.1465736779"
      ]
     },
     "execution_count": 20,
     "metadata": {},
     "output_type": "execute_result"
    }
   ],
   "source": [
    "from sklearn.metrics import mean_squared_error\n",
    "np.sqrt(mean_squared_error(np.exp(y_test)*1000, np.exp(y_pred_test)*1000))"
   ]
  },
  {
   "cell_type": "markdown",
   "metadata": {},
   "source": [
    "Ocena graficzna"
   ]
  },
  {
   "cell_type": "code",
   "execution_count": 21,
   "metadata": {},
   "outputs": [
    {
     "data": {
      "image/png": "[encoded data removed]",
      "text/plain": [
       "<Figure size 500x500 with 1 Axes>"
      ]
     },
     "metadata": {},
     "output_type": "display_data"
    }
   ],
   "source": [
    "plt.figure(figsize=(5, 5))\n",
    "sns.scatterplot(x=y_test, y=y_pred_test)\n",
    "plt.xlabel(\"True value\")\n",
    "plt.ylabel(\"Predicted value\")\n",
    "plt.show()"
   ]
  },
  {
   "cell_type": "markdown",
   "metadata": {},
   "source": [
    "#### 1.5 Wpływ parametrów na jakość modelu"
   ]
  },
  {
   "cell_type": "markdown",
   "metadata": {},
   "source": [
    "#### *Zadanie 4*\n",
    "-------------------"
   ]
  },
  {
   "cell_type": "markdown",
   "metadata": {},
   "source": [
    "Przeprowadź eksperyment pokazujący wartość miary MSE na zbiorze treningowym i testowym w zależności od wartości parametru `max_leaf_nodes` - zakres 2:30.\n",
    "\n",
    "`max_leaf_nodes` - Grow a tree with max_leaf_nodes in best-first fashion. Best nodes are defined as relative reduction in impurity. If None then unlimited number of leaf nodes (default=None).\n",
    "\n",
    "Narysuj wykres przedstawiający wyniki eksperymantu. Jaka jest optymalna wartość parametru `max_leaf_nodes`?"
   ]
  },
  {
   "cell_type": "code",
   "execution_count": 26,
   "metadata": {},
   "outputs": [],
   "source": [
    "mse_train = []\n",
    "mse_test = []\n",
    "\n",
    "for i in range(2,31):\n",
    "    model = tree.DecisionTreeRegressor(max_leaf_nodes=i)\n",
    "    model.fit(X_train, y_train)\n",
    "\n",
    "    y_pred_test = model.predict(X_test)\n",
    "    y_pred_train = model.predict(X_train)\n",
    "\n",
    "    mse_train.append(mean_squared_error(y_train, y_pred_train))\n",
    "    mse_test.append(mean_squared_error(y_test, y_pred_test))"
   ]
  },
  {
   "cell_type": "code",
   "execution_count": 27,
   "metadata": {},
   "outputs": [
    {
     "data": {
      "image/png": "[encoded data removed]",
      "text/plain": [
       "<Figure size 640x480 with 1 Axes>"
      ]
     },
     "metadata": {},
     "output_type": "display_data"
    }
   ],
   "source": [
    "plt.figure()\n",
    "plt.plot(range(2,31), mse_train)\n",
    "plt.plot(range(2,31), mse_test)\n",
    "plt.title(\"MSE vs max_leaf_nodes\")\n",
    "plt.xlabel(\"max_leaf_nodes\")\n",
    "plt.ylabel(\"MSE\")\n",
    "plt.legend(['Train MSE', 'Test MSE'])\n",
    "plt.show()"
   ]
  }
 ],
 "metadata": {
  "kernelspec": {
   "display_name": "base",
   "language": "python",
   "name": "python3"
  },
  "language_info": {
   "codemirror_mode": {
    "name": "ipython",
    "version": 3
   },
   "file_extension": ".py",
   "mimetype": "text/x-python",
   "name": "python",
   "nbconvert_exporter": "python",
   "pygments_lexer": "ipython3",
   "version": "3.10.12"
  },
  "orig_nbformat": 4
 },
 "nbformat": 4,
 "nbformat_minor": 2
}
